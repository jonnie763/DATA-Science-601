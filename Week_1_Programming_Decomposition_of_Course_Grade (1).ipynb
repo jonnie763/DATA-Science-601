{
 "cells": [
  {
   "cell_type": "markdown",
   "metadata": {
    "id": "J_zouMk6qpKj"
   },
   "source": [
    "## Project #1 (20%)"
   ]
  },
  {
   "cell_type": "code",
   "execution_count": 26,
   "metadata": {
    "colab": {
     "base_uri": "https://localhost:8080/"
    },
    "id": "R4sDndrMgd9v",
    "outputId": "574389e6-a938-48cc-acfb-438dadaf0805"
   },
   "outputs": [
    {
     "name": "stdout",
     "output_type": "stream",
     "text": [
      "Enter First Project Grade: 80\n",
      "Weiged Project #1 Grade is 80 5 : 16.0\n"
     ]
    }
   ],
   "source": [
    "num1 = int(input(\"Ente First Project Grade: \")) # Some of this code (about a third code) was published on https://beginnersbook.com/2018/06/python-program-to-add-subtract-multiply-divide-two-numbers/\n",
    "num2 = 5                                         # We will take this 5 and divide it by the score inputed to get the weighed score for later \n",
    "\n",
    "\n",
    "if num1 <= 100:                                                         # Only numbers under 100 allowed will prompt to rerun code if more then 100\n",
    "    result = (num1 / num2)                                              # Weighed Score \n",
    "    print(\"Weiged Project #1 Grade is\", num1, num2, \":\", result)   # Print weighed score \n",
    "\n",
    "else: \n",
    "    print(\"Please number below 100! Please rerun the code!\")            # Prompt to rerun code (if number is above 100)\n",
    "\n",
    "Project_1= (num1 / num2)                                                # Save variable for later (add all variables later)\n"
   ]
  },
  {
   "cell_type": "markdown",
   "metadata": {
    "id": "XjZvIvMTquGX"
   },
   "source": [
    "## Project #2 (20%)\n"
   ]
  },
  {
   "cell_type": "code",
   "execution_count": 27,
   "metadata": {
    "colab": {
     "base_uri": "https://localhost:8080/"
    },
    "id": "NzNyNptbnB7o",
    "outputId": "36d4886d-2808-49d1-ddca-dd4cc62156c0"
   },
   "outputs": [
    {
     "name": "stdout",
     "output_type": "stream",
     "text": [
      "Enter First Project Grade: 80\n",
      "Weiged Project #2 Grade is 80 5 : 16.0\n"
     ]
    }
   ],
   "source": [
    "num3 = int(input(\"Enter First Project Grade: \")) # Some of this code (about a third code) was published on https://beginnersbook.com/2018/06/python-program-to-add-subtract-multiply-divide-two-numbers/\n",
    "num4 = 5                                         # We will take this 5 and divide it by the score inputed to get the weighed score for later \n",
    "\n",
    "\n",
    "if num3 <= 100:                                                        # Only numbers under 100 allowed will prompt to rerun code if more then 100\n",
    "    result = (num3 / num4)                                             # Weighed Score now for project weighed score #2\n",
    "    print(\"Weiged Project #2 Grade is\", num3, num4, \":\", result)  # Print weighed score \n",
    "\n",
    "else: \n",
    "    print(\"Please number below 100! Please rerun the code!\")           # Prompt to rerun code (if number is above 100)\n",
    "\n",
    "Project_2= (num3 / num4)                                               # Save variable for later (add all variables later)\n"
   ]
  },
  {
   "cell_type": "markdown",
   "metadata": {
    "id": "FEpc8I40qw3h"
   },
   "source": [
    "## Project #3 (20%)"
   ]
  },
  {
   "cell_type": "code",
   "execution_count": 28,
   "metadata": {
    "colab": {
     "base_uri": "https://localhost:8080/"
    },
    "id": "xc5BLtk0nhb7",
    "outputId": "a16e579b-6e78-4dcc-ab18-a46aafed98a3"
   },
   "outputs": [
    {
     "name": "stdout",
     "output_type": "stream",
     "text": [
      "Enter First Project Grade: 80\n",
      "Weiged Project #3 Grade is 80 5 : 16.0\n"
     ]
    }
   ],
   "source": [
    "num5 = int(input(\"Enter First Project Grade: \")) # Some of this code (about a third code) was published on https://beginnersbook.com/2018/06/python-program-to-add-subtract-multiply-divide-two-numbers/\n",
    "num6 = 5                                         # We will take this 5 and divide it by the score inputed to get the weighed score for later \n",
    "\n",
    "\n",
    "if num5 <= 100:                                                        # Only numbers under 100 allowed will prompt to rerun code if more then 100\n",
    "    result = (num5 / num6)                                             # Weighed Score now for project weighed score #3\n",
    "    print(\"Weiged Project #3 Grade is\", num5,  num6, \":\", result)  # Print weighed score \n",
    "\n",
    "else: \n",
    "    print(\"Please number below 100! Please rerun the code!\")           # Prompt to rerun code (if number is above 100)\n",
    "\n",
    "Project_3= (num5 / num6)                                               # Save variable for later (add all variables later)\n"
   ]
  },
  {
   "cell_type": "markdown",
   "metadata": {
    "id": "bipddwqEq0L_"
   },
   "source": [
    "## Attendence and Participation (10%)"
   ]
  },
  {
   "cell_type": "code",
   "execution_count": 29,
   "metadata": {
    "colab": {
     "base_uri": "https://localhost:8080/",
     "height": 531
    },
    "id": "bTjKSUn3spXU",
    "outputId": "2087b424-1d59-4e70-b820-88acb4f52393"
   },
   "outputs": [
    {
     "name": "stdout",
     "output_type": "stream",
     "text": [
      "1's are attendance, zero's are non-attendance \n"
     ]
    },
    {
     "data": {
      "text/html": [
       "<div>\n",
       "<style scoped>\n",
       "    .dataframe tbody tr th:only-of-type {\n",
       "        vertical-align: middle;\n",
       "    }\n",
       "\n",
       "    .dataframe tbody tr th {\n",
       "        vertical-align: top;\n",
       "    }\n",
       "\n",
       "    .dataframe thead th {\n",
       "        text-align: right;\n",
       "    }\n",
       "</style>\n",
       "<table border=\"1\" class=\"dataframe\">\n",
       "  <thead>\n",
       "    <tr style=\"text-align: right;\">\n",
       "      <th></th>\n",
       "      <th>Attendance</th>\n",
       "    </tr>\n",
       "  </thead>\n",
       "  <tbody>\n",
       "    <tr>\n",
       "      <th>0</th>\n",
       "      <td>1</td>\n",
       "    </tr>\n",
       "    <tr>\n",
       "      <th>1</th>\n",
       "      <td>1</td>\n",
       "    </tr>\n",
       "    <tr>\n",
       "      <th>2</th>\n",
       "      <td>1</td>\n",
       "    </tr>\n",
       "    <tr>\n",
       "      <th>3</th>\n",
       "      <td>1</td>\n",
       "    </tr>\n",
       "    <tr>\n",
       "      <th>4</th>\n",
       "      <td>1</td>\n",
       "    </tr>\n",
       "    <tr>\n",
       "      <th>5</th>\n",
       "      <td>1</td>\n",
       "    </tr>\n",
       "    <tr>\n",
       "      <th>6</th>\n",
       "      <td>1</td>\n",
       "    </tr>\n",
       "    <tr>\n",
       "      <th>7</th>\n",
       "      <td>0</td>\n",
       "    </tr>\n",
       "    <tr>\n",
       "      <th>8</th>\n",
       "      <td>0</td>\n",
       "    </tr>\n",
       "    <tr>\n",
       "      <th>9</th>\n",
       "      <td>1</td>\n",
       "    </tr>\n",
       "    <tr>\n",
       "      <th>10</th>\n",
       "      <td>1</td>\n",
       "    </tr>\n",
       "    <tr>\n",
       "      <th>11</th>\n",
       "      <td>0</td>\n",
       "    </tr>\n",
       "    <tr>\n",
       "      <th>12</th>\n",
       "      <td>1</td>\n",
       "    </tr>\n",
       "    <tr>\n",
       "      <th>13</th>\n",
       "      <td>1</td>\n",
       "    </tr>\n",
       "    <tr>\n",
       "      <th>14</th>\n",
       "      <td>1</td>\n",
       "    </tr>\n",
       "  </tbody>\n",
       "</table>\n",
       "</div>"
      ],
      "text/plain": [
       "    Attendance\n",
       "0            1\n",
       "1            1\n",
       "2            1\n",
       "3            1\n",
       "4            1\n",
       "5            1\n",
       "6            1\n",
       "7            0\n",
       "8            0\n",
       "9            1\n",
       "10           1\n",
       "11           0\n",
       "12           1\n",
       "13           1\n",
       "14           1"
      ]
     },
     "execution_count": 29,
     "metadata": {},
     "output_type": "execute_result"
    }
   ],
   "source": [
    "import pandas as pd                                    # Using pandas for this \n",
    "d = {'Attendance': [1, 1,1,1,1,1,1,0,0,1,1,0,1,1,1]}   # I am gonna use 1's for attendance and zero's for non-attendance \n",
    "df = pd.DataFrame(data=d)                              # This dataframe is sort of like a attendance list I can use for later \n",
    "print (\"1's are attendance, zero's are non-attendance \")\n",
    "df"
   ]
  },
  {
   "cell_type": "code",
   "execution_count": 30,
   "metadata": {
    "colab": {
     "base_uri": "https://localhost:8080/",
     "height": 111
    },
    "id": "c3oJVbr3wWyY",
    "outputId": "b7557dc3-761a-4828-be21-8d729a228f32"
   },
   "outputs": [
    {
     "data": {
      "text/html": [
       "<div>\n",
       "<style scoped>\n",
       "    .dataframe tbody tr th:only-of-type {\n",
       "        vertical-align: middle;\n",
       "    }\n",
       "\n",
       "    .dataframe tbody tr th {\n",
       "        vertical-align: top;\n",
       "    }\n",
       "\n",
       "    .dataframe thead th {\n",
       "        text-align: right;\n",
       "    }\n",
       "</style>\n",
       "<table border=\"1\" class=\"dataframe\">\n",
       "  <thead>\n",
       "    <tr style=\"text-align: right;\">\n",
       "      <th></th>\n",
       "      <th>Attendance</th>\n",
       "    </tr>\n",
       "  </thead>\n",
       "  <tbody>\n",
       "    <tr>\n",
       "      <th>1</th>\n",
       "      <td>12</td>\n",
       "    </tr>\n",
       "    <tr>\n",
       "      <th>0</th>\n",
       "      <td>3</td>\n",
       "    </tr>\n",
       "  </tbody>\n",
       "</table>\n",
       "</div>"
      ],
      "text/plain": [
       "   Attendance\n",
       "1          12\n",
       "0           3"
      ]
     },
     "execution_count": 30,
     "metadata": {},
     "output_type": "execute_result"
    }
   ],
   "source": [
    "df=df.apply(pd.Series.value_counts, axis=0) # Find number of times presents for attendance and non-attendance \n",
    "df                                          # Display 1 row attendance, 0 row non-attendance "
   ]
  },
  {
   "cell_type": "code",
   "execution_count": 31,
   "metadata": {
    "colab": {
     "base_uri": "https://localhost:8080/"
    },
    "id": "TDFxgF9Kzzpi",
    "outputId": "1543b1dc-d48b-490a-99d5-41db11b7299f"
   },
   "outputs": [
    {
     "data": {
      "text/plain": [
       "12"
      ]
     },
     "execution_count": 31,
     "metadata": {},
     "output_type": "execute_result"
    }
   ],
   "source": [
    "df.at[1,'Attendance'] # Find number of times presents for attendance and save as variable below \n"
   ]
  },
  {
   "cell_type": "code",
   "execution_count": 32,
   "metadata": {
    "id": "W2R_WX4UzQi5"
   },
   "outputs": [],
   "source": [
    "Attended_Times= df.at[1,'Attendance'] # Find number of times presents for attendance and save as variable\n"
   ]
  },
  {
   "cell_type": "code",
   "execution_count": 33,
   "metadata": {
    "colab": {
     "base_uri": "https://localhost:8080/"
    },
    "id": "PL6FxyWgzIaD",
    "outputId": "42cc8fc8-1db4-4f28-a43d-ff26986800c0"
   },
   "outputs": [
    {
     "name": "stdout",
     "output_type": "stream",
     "text": [
      "8.0\n"
     ]
    }
   ],
   "source": [
    "Attend_Part=(Attended_Times/15)*10 # Divide by 15 and mutiply by 10 to weight the score, save as variable and add for later \n",
    "print (Attend_Part)"
   ]
  },
  {
   "cell_type": "markdown",
   "metadata": {
    "id": "xbXFnwTvsp37"
   },
   "source": [
    "## Assignments (30%)"
   ]
  },
  {
   "cell_type": "code",
   "execution_count": 34,
   "metadata": {
    "colab": {
     "base_uri": "https://localhost:8080/",
     "height": 979
    },
    "id": "NYXi2H9WuTKo",
    "outputId": "711fc202-1622-452b-ad9d-2bd656b05217"
   },
   "outputs": [
    {
     "data": {
      "text/html": [
       "<div>\n",
       "<style scoped>\n",
       "    .dataframe tbody tr th:only-of-type {\n",
       "        vertical-align: middle;\n",
       "    }\n",
       "\n",
       "    .dataframe tbody tr th {\n",
       "        vertical-align: top;\n",
       "    }\n",
       "\n",
       "    .dataframe thead th {\n",
       "        text-align: right;\n",
       "    }\n",
       "</style>\n",
       "<table border=\"1\" class=\"dataframe\">\n",
       "  <thead>\n",
       "    <tr style=\"text-align: right;\">\n",
       "      <th></th>\n",
       "      <th>Assignment Grades</th>\n",
       "    </tr>\n",
       "  </thead>\n",
       "  <tbody>\n",
       "    <tr>\n",
       "      <th>0</th>\n",
       "      <td>100</td>\n",
       "    </tr>\n",
       "    <tr>\n",
       "      <th>1</th>\n",
       "      <td>0</td>\n",
       "    </tr>\n",
       "    <tr>\n",
       "      <th>2</th>\n",
       "      <td>0</td>\n",
       "    </tr>\n",
       "    <tr>\n",
       "      <th>3</th>\n",
       "      <td>100</td>\n",
       "    </tr>\n",
       "    <tr>\n",
       "      <th>4</th>\n",
       "      <td>100</td>\n",
       "    </tr>\n",
       "    <tr>\n",
       "      <th>5</th>\n",
       "      <td>18</td>\n",
       "    </tr>\n",
       "    <tr>\n",
       "      <th>6</th>\n",
       "      <td>100</td>\n",
       "    </tr>\n",
       "    <tr>\n",
       "      <th>7</th>\n",
       "      <td>70</td>\n",
       "    </tr>\n",
       "    <tr>\n",
       "      <th>8</th>\n",
       "      <td>100</td>\n",
       "    </tr>\n",
       "    <tr>\n",
       "      <th>9</th>\n",
       "      <td>100</td>\n",
       "    </tr>\n",
       "    <tr>\n",
       "      <th>10</th>\n",
       "      <td>100</td>\n",
       "    </tr>\n",
       "    <tr>\n",
       "      <th>11</th>\n",
       "      <td>100</td>\n",
       "    </tr>\n",
       "    <tr>\n",
       "      <th>12</th>\n",
       "      <td>100</td>\n",
       "    </tr>\n",
       "    <tr>\n",
       "      <th>13</th>\n",
       "      <td>100</td>\n",
       "    </tr>\n",
       "    <tr>\n",
       "      <th>14</th>\n",
       "      <td>100</td>\n",
       "    </tr>\n",
       "    <tr>\n",
       "      <th>15</th>\n",
       "      <td>30</td>\n",
       "    </tr>\n",
       "    <tr>\n",
       "      <th>16</th>\n",
       "      <td>30</td>\n",
       "    </tr>\n",
       "    <tr>\n",
       "      <th>17</th>\n",
       "      <td>30</td>\n",
       "    </tr>\n",
       "    <tr>\n",
       "      <th>18</th>\n",
       "      <td>38</td>\n",
       "    </tr>\n",
       "    <tr>\n",
       "      <th>19</th>\n",
       "      <td>100</td>\n",
       "    </tr>\n",
       "    <tr>\n",
       "      <th>20</th>\n",
       "      <td>100</td>\n",
       "    </tr>\n",
       "    <tr>\n",
       "      <th>21</th>\n",
       "      <td>100</td>\n",
       "    </tr>\n",
       "    <tr>\n",
       "      <th>22</th>\n",
       "      <td>100</td>\n",
       "    </tr>\n",
       "    <tr>\n",
       "      <th>23</th>\n",
       "      <td>100</td>\n",
       "    </tr>\n",
       "    <tr>\n",
       "      <th>24</th>\n",
       "      <td>30</td>\n",
       "    </tr>\n",
       "    <tr>\n",
       "      <th>25</th>\n",
       "      <td>100</td>\n",
       "    </tr>\n",
       "    <tr>\n",
       "      <th>26</th>\n",
       "      <td>100</td>\n",
       "    </tr>\n",
       "    <tr>\n",
       "      <th>27</th>\n",
       "      <td>100</td>\n",
       "    </tr>\n",
       "    <tr>\n",
       "      <th>28</th>\n",
       "      <td>100</td>\n",
       "    </tr>\n",
       "    <tr>\n",
       "      <th>29</th>\n",
       "      <td>100</td>\n",
       "    </tr>\n",
       "  </tbody>\n",
       "</table>\n",
       "</div>"
      ],
      "text/plain": [
       "    Assignment Grades\n",
       "0                 100\n",
       "1                   0\n",
       "2                   0\n",
       "3                 100\n",
       "4                 100\n",
       "5                  18\n",
       "6                 100\n",
       "7                  70\n",
       "8                 100\n",
       "9                 100\n",
       "10                100\n",
       "11                100\n",
       "12                100\n",
       "13                100\n",
       "14                100\n",
       "15                 30\n",
       "16                 30\n",
       "17                 30\n",
       "18                 38\n",
       "19                100\n",
       "20                100\n",
       "21                100\n",
       "22                100\n",
       "23                100\n",
       "24                 30\n",
       "25                100\n",
       "26                100\n",
       "27                100\n",
       "28                100\n",
       "29                100"
      ]
     },
     "execution_count": 34,
     "metadata": {},
     "output_type": "execute_result"
    }
   ],
   "source": [
    "import pandas as pd\n",
    "d = {'Assignment Grades': [100, 0,0,100,100,18,100,70,100,100,100,100,100,100,100,30,30,30,38,100,100,100,100,100,30,100,100,100,100,100]} # Same idea as last time, did not randomly produce the numbers felt that was impractical, made a grade list instead so I can use for later\n",
    "df = pd.DataFrame(data=d)\n",
    "df"
   ]
  },
  {
   "cell_type": "code",
   "execution_count": 35,
   "metadata": {
    "colab": {
     "base_uri": "https://localhost:8080/",
     "height": 359
    },
    "id": "X5CPpIDA0wY8",
    "outputId": "4761a996-b643-41de-c79d-1fb1863b88d4"
   },
   "outputs": [
    {
     "data": {
      "text/html": [
       "<div>\n",
       "<style scoped>\n",
       "    .dataframe tbody tr th:only-of-type {\n",
       "        vertical-align: middle;\n",
       "    }\n",
       "\n",
       "    .dataframe tbody tr th {\n",
       "        vertical-align: top;\n",
       "    }\n",
       "\n",
       "    .dataframe thead th {\n",
       "        text-align: right;\n",
       "    }\n",
       "</style>\n",
       "<table border=\"1\" class=\"dataframe\">\n",
       "  <thead>\n",
       "    <tr style=\"text-align: right;\">\n",
       "      <th></th>\n",
       "      <th>Assignment Grades</th>\n",
       "    </tr>\n",
       "  </thead>\n",
       "  <tbody>\n",
       "    <tr>\n",
       "      <th>29</th>\n",
       "      <td>100</td>\n",
       "    </tr>\n",
       "    <tr>\n",
       "      <th>16</th>\n",
       "      <td>30</td>\n",
       "    </tr>\n",
       "    <tr>\n",
       "      <th>2</th>\n",
       "      <td>0</td>\n",
       "    </tr>\n",
       "    <tr>\n",
       "      <th>12</th>\n",
       "      <td>100</td>\n",
       "    </tr>\n",
       "    <tr>\n",
       "      <th>14</th>\n",
       "      <td>100</td>\n",
       "    </tr>\n",
       "    <tr>\n",
       "      <th>8</th>\n",
       "      <td>100</td>\n",
       "    </tr>\n",
       "    <tr>\n",
       "      <th>4</th>\n",
       "      <td>100</td>\n",
       "    </tr>\n",
       "    <tr>\n",
       "      <th>0</th>\n",
       "      <td>100</td>\n",
       "    </tr>\n",
       "    <tr>\n",
       "      <th>1</th>\n",
       "      <td>0</td>\n",
       "    </tr>\n",
       "    <tr>\n",
       "      <th>7</th>\n",
       "      <td>70</td>\n",
       "    </tr>\n",
       "  </tbody>\n",
       "</table>\n",
       "</div>"
      ],
      "text/plain": [
       "    Assignment Grades\n",
       "29                100\n",
       "16                 30\n",
       "2                   0\n",
       "12                100\n",
       "14                100\n",
       "8                 100\n",
       "4                 100\n",
       "0                 100\n",
       "1                   0\n",
       "7                  70"
      ]
     },
     "execution_count": 35,
     "metadata": {},
     "output_type": "execute_result"
    }
   ],
   "source": [
    "df.sample (10)         # Use df.sample to get ten random rows (grades), use sample (10) to get ten random rows \n",
    "df2=df.sample (10)\n",
    "df2                    # Display"
   ]
  },
  {
   "cell_type": "code",
   "execution_count": 36,
   "metadata": {
    "colab": {
     "base_uri": "https://localhost:8080/"
    },
    "id": "BXLf5XEcpGxU",
    "outputId": "1ca04af9-ee01-47be-90f6-d5573e5c90b6"
   },
   "outputs": [
    {
     "data": {
      "text/plain": [
       "70.0"
      ]
     },
     "execution_count": 36,
     "metadata": {},
     "output_type": "execute_result"
    }
   ],
   "source": [
    "df2[\"Assignment Grades\"].mean() # Mean of 10 grades (rows)"
   ]
  },
  {
   "cell_type": "code",
   "execution_count": 37,
   "metadata": {
    "colab": {
     "base_uri": "https://localhost:8080/"
    },
    "id": "yhQMaRu6qV0o",
    "outputId": "8497120d-6aaf-4bdb-9ebe-4abfb4c2b946"
   },
   "outputs": [
    {
     "name": "stdout",
     "output_type": "stream",
     "text": [
      "21.0\n"
     ]
    }
   ],
   "source": [
    "Assignment_Grade= df2[\"Assignment Grades\"].mean()*.3 # Use .3 to give it its weigh (30%)\n",
    "print (Assignment_Grade)"
   ]
  },
  {
   "cell_type": "markdown",
   "metadata": {
    "id": "EuOacFJPwokK"
   },
   "source": [
    "## Final Grade Calculation (100%)"
   ]
  },
  {
   "cell_type": "code",
   "execution_count": 38,
   "metadata": {
    "colab": {
     "base_uri": "https://localhost:8080/"
    },
    "id": "1fOPddB91d2e",
    "outputId": "55bcef95-1568-44ca-901e-fb672ad70ca4"
   },
   "outputs": [
    {
     "data": {
      "text/plain": [
       "77.0"
      ]
     },
     "execution_count": 38,
     "metadata": {},
     "output_type": "execute_result"
    }
   ],
   "source": [
    "Project_1+Project_2+Project_3+Attend_Part+Assignment_Grade # Add the weighed and you have the final grade calcualtion!"
   ]
  },
  {
   "cell_type": "code",
   "execution_count": null,
   "metadata": {},
   "outputs": [],
   "source": []
  }
 ],
 "metadata": {
  "colab": {
   "collapsed_sections": [],
   "name": "Week 1: Programming Decomposition of Course Grade.ipynb",
   "provenance": []
  },
  "kernelspec": {
   "display_name": "Python 3",
   "language": "python",
   "name": "python3"
  },
  "language_info": {
   "codemirror_mode": {
    "name": "ipython",
    "version": 3
   },
   "file_extension": ".py",
   "mimetype": "text/x-python",
   "name": "python",
   "nbconvert_exporter": "python",
   "pygments_lexer": "ipython3",
   "version": "3.8.3"
  }
 },
 "nbformat": 4,
 "nbformat_minor": 1
}
