{
  "nbformat": 4,
  "nbformat_minor": 0,
  "metadata": {
    "colab": {
      "name": "Week 1: Programming Decomposition of Course Grade.ipynb",
      "provenance": [],
      "collapsed_sections": [],
      "authorship_tag": "ABX9TyMgdXt3DoX2p6Are07CumRf",
      "include_colab_link": true
    },
    "kernelspec": {
      "name": "python3",
      "display_name": "Python 3"
    }
  },
  "cells": [
    {
      "cell_type": "markdown",
      "metadata": {
        "id": "view-in-github",
        "colab_type": "text"
      },
      "source": [
        "<a href=\"https://colab.research.google.com/github/jonnie763/DATA-Science-601/blob/main/Week_1_Programming_Decomposition_of_Course_Grade.ipynb\" target=\"_parent\"><img src=\"https://colab.research.google.com/assets/colab-badge.svg\" alt=\"Open In Colab\"/></a>"
      ]
    },
    {
      "cell_type": "markdown",
      "metadata": {
        "id": "J_zouMk6qpKj"
      },
      "source": [
        "## Project #1 (20%)"
      ]
    },
    {
      "cell_type": "code",
      "metadata": {
        "colab": {
          "base_uri": "https://localhost:8080/"
        },
        "id": "R4sDndrMgd9v",
        "outputId": "574389e6-a938-48cc-acfb-438dadaf0805"
      },
      "source": [
        "num1 = int(input(\"Enter First Project Grade: \")) # Some of this code (about a third code) was published on https://beginnersbook.com/2018/06/python-program-to-add-subtract-multiply-divide-two-numbers/\r\n",
        "num2 = 5                                         # We will take this 5 and divide it by the score inputed to get the weighed score for later \r\n",
        "\r\n",
        "\r\n",
        "if num1 <= 100:                                                         # Only numbers under 100 allowed will prompt to rerun code if more then 100\r\n",
        "    result = (num1 / num2)                                              # Weighed Score \r\n",
        "    print(\"Weiged Project #1 Grade is\", num1, num2, \":\", result)   # Print weighed score \r\n",
        "\r\n",
        "else: \r\n",
        "    print(\"Please number below 100! Please rerun the code!\")            # Prompt to rerun code (if number is above 100)\r\n",
        "\r\n",
        "Project_1= (num1 / num2)                                                # Save variable for later (add all variables later)\r\n"
      ],
      "execution_count": null,
      "outputs": [
        {
          "output_type": "stream",
          "text": [
            "Enter First Project Grade: 97\n",
            "Weiged Project #1 Grade is 97 / 5 : 19.4\n"
          ],
          "name": "stdout"
        }
      ]
    },
    {
      "cell_type": "markdown",
      "metadata": {
        "id": "XjZvIvMTquGX"
      },
      "source": [
        "## Project #2 (20%)"
      ]
    },
    {
      "cell_type": "code",
      "metadata": {
        "colab": {
          "base_uri": "https://localhost:8080/"
        },
        "id": "NzNyNptbnB7o",
        "outputId": "2d79210c-d878-4f19-d566-456b82e19211"
      },
      "source": [
        "num3 = int(input(\"Enter First Project Grade: \")) # Some of this code (about a third code) was published on https://beginnersbook.com/2018/06/python-program-to-add-subtract-multiply-divide-two-numbers/\r\n",
        "num4 = 5                                         # We will take this 5 and divide it by the score inputed to get the weighed score for later \r\n",
        "\r\n",
        "\r\n",
        "if num3 <= 100:                                                        # Only numbers under 100 allowed will prompt to rerun code if more then 100\r\n",
        "    result = (num3 / num4)                                             # Weighed Score now for project weighed score #2\r\n",
        "    print(\"Weiged Project #2 Grade is\", num3, num4, \":\", result)  # Print weighed score \r\n",
        "\r\n",
        "else: \r\n",
        "    print(\"Please number below 100! Please rerun the code!\")           # Prompt to rerun code (if number is above 100)\r\n",
        "\r\n",
        "Project_2= (num3 / num4)                                               # Save variable for later (add all variables later)\r\n"
      ],
      "execution_count": null,
      "outputs": [
        {
          "output_type": "stream",
          "text": [
            "Enter First Project Grade: 100\n",
            "Weiged Project #2 Grade is 100 5 : 20.0\n"
          ],
          "name": "stdout"
        }
      ]
    },
    {
      "cell_type": "markdown",
      "metadata": {
        "id": "FEpc8I40qw3h"
      },
      "source": [
        "##Project #3 (20%)"
      ]
    },
    {
      "cell_type": "code",
      "metadata": {
        "colab": {
          "base_uri": "https://localhost:8080/"
        },
        "id": "xc5BLtk0nhb7",
        "outputId": "0791ee35-f0f0-450a-8921-247ef748b433"
      },
      "source": [
        "num5 = int(input(\"Enter First Project Grade: \")) # Some of this code (about a third code) was published on https://beginnersbook.com/2018/06/python-program-to-add-subtract-multiply-divide-two-numbers/\r\n",
        "num6 = 5                                         # We will take this 5 and divide it by the score inputed to get the weighed score for later \r\n",
        "\r\n",
        "\r\n",
        "if num5 <= 100:                                                        # Only numbers under 100 allowed will prompt to rerun code if more then 100\r\n",
        "    result = (num5 / num6)                                             # Weighed Score now for project weighed score #3\r\n",
        "    print(\"Weiged Project #3 Grade is\", num5, num6, \":\", result)  # Print weighed score \r\n",
        "\r\n",
        "else: \r\n",
        "    print(\"Please number below 100! Please rerun the code!\")           # Prompt to rerun code (if number is above 100)\r\n",
        "\r\n",
        "Project_3= (num5 / num6)                                               # Save variable for later (add all variables later)\r\n"
      ],
      "execution_count": null,
      "outputs": [
        {
          "output_type": "stream",
          "text": [
            "Enter First Project Grade: 78\n",
            "Weiged Project #3 Grade is 78 5 : 15.6\n"
          ],
          "name": "stdout"
        }
      ]
    },
    {
      "cell_type": "markdown",
      "metadata": {
        "id": "bipddwqEq0L_"
      },
      "source": [
        "## Attendence and Participation (10%)"
      ]
    },
    {
      "cell_type": "code",
      "metadata": {
        "colab": {
          "base_uri": "https://localhost:8080/",
          "height": 531
        },
        "id": "bTjKSUn3spXU",
        "outputId": "2087b424-1d59-4e70-b820-88acb4f52393"
      },
      "source": [
        "import pandas as pd                                    # Using pandas for this \r\n",
        "d = {'Attendance': [1, 1,1,1,1,1,1,1,0,1,1,0,1,1,1]}   # I am gonna use 1's for attendance and zero's for non-attendance \r\n",
        "df = pd.DataFrame(data=d)                              # This dataframe is sort of like a attendance list I can use for later \r\n",
        "print (\"1's are attendance, zero's are non-attendance \")\r\n",
        "df"
      ],
      "execution_count": null,
      "outputs": [
        {
          "output_type": "stream",
          "text": [
            "1's are attendance, zero's are non-attendance \n"
          ],
          "name": "stdout"
        },
        {
          "output_type": "execute_result",
          "data": {
            "text/html": [
              "<div>\n",
              "<style scoped>\n",
              "    .dataframe tbody tr th:only-of-type {\n",
              "        vertical-align: middle;\n",
              "    }\n",
              "\n",
              "    .dataframe tbody tr th {\n",
              "        vertical-align: top;\n",
              "    }\n",
              "\n",
              "    .dataframe thead th {\n",
              "        text-align: right;\n",
              "    }\n",
              "</style>\n",
              "<table border=\"1\" class=\"dataframe\">\n",
              "  <thead>\n",
              "    <tr style=\"text-align: right;\">\n",
              "      <th></th>\n",
              "      <th>Attendance</th>\n",
              "    </tr>\n",
              "  </thead>\n",
              "  <tbody>\n",
              "    <tr>\n",
              "      <th>0</th>\n",
              "      <td>1</td>\n",
              "    </tr>\n",
              "    <tr>\n",
              "      <th>1</th>\n",
              "      <td>1</td>\n",
              "    </tr>\n",
              "    <tr>\n",
              "      <th>2</th>\n",
              "      <td>1</td>\n",
              "    </tr>\n",
              "    <tr>\n",
              "      <th>3</th>\n",
              "      <td>1</td>\n",
              "    </tr>\n",
              "    <tr>\n",
              "      <th>4</th>\n",
              "      <td>1</td>\n",
              "    </tr>\n",
              "    <tr>\n",
              "      <th>5</th>\n",
              "      <td>1</td>\n",
              "    </tr>\n",
              "    <tr>\n",
              "      <th>6</th>\n",
              "      <td>1</td>\n",
              "    </tr>\n",
              "    <tr>\n",
              "      <th>7</th>\n",
              "      <td>1</td>\n",
              "    </tr>\n",
              "    <tr>\n",
              "      <th>8</th>\n",
              "      <td>0</td>\n",
              "    </tr>\n",
              "    <tr>\n",
              "      <th>9</th>\n",
              "      <td>1</td>\n",
              "    </tr>\n",
              "    <tr>\n",
              "      <th>10</th>\n",
              "      <td>1</td>\n",
              "    </tr>\n",
              "    <tr>\n",
              "      <th>11</th>\n",
              "      <td>0</td>\n",
              "    </tr>\n",
              "    <tr>\n",
              "      <th>12</th>\n",
              "      <td>1</td>\n",
              "    </tr>\n",
              "    <tr>\n",
              "      <th>13</th>\n",
              "      <td>1</td>\n",
              "    </tr>\n",
              "    <tr>\n",
              "      <th>14</th>\n",
              "      <td>1</td>\n",
              "    </tr>\n",
              "  </tbody>\n",
              "</table>\n",
              "</div>"
            ],
            "text/plain": [
              "    Attendance\n",
              "0            1\n",
              "1            1\n",
              "2            1\n",
              "3            1\n",
              "4            1\n",
              "5            1\n",
              "6            1\n",
              "7            1\n",
              "8            0\n",
              "9            1\n",
              "10           1\n",
              "11           0\n",
              "12           1\n",
              "13           1\n",
              "14           1"
            ]
          },
          "metadata": {
            "tags": []
          },
          "execution_count": 111
        }
      ]
    },
    {
      "cell_type": "code",
      "metadata": {
        "colab": {
          "base_uri": "https://localhost:8080/",
          "height": 111
        },
        "id": "c3oJVbr3wWyY",
        "outputId": "b7557dc3-761a-4828-be21-8d729a228f32"
      },
      "source": [
        "df=df.apply(pd.Series.value_counts, axis=0) # Find number of times presents for attendance and non-attendance \r\n",
        "df                                          # Display 1 row attendance, 0 row non-attendance "
      ],
      "execution_count": null,
      "outputs": [
        {
          "output_type": "execute_result",
          "data": {
            "text/html": [
              "<div>\n",
              "<style scoped>\n",
              "    .dataframe tbody tr th:only-of-type {\n",
              "        vertical-align: middle;\n",
              "    }\n",
              "\n",
              "    .dataframe tbody tr th {\n",
              "        vertical-align: top;\n",
              "    }\n",
              "\n",
              "    .dataframe thead th {\n",
              "        text-align: right;\n",
              "    }\n",
              "</style>\n",
              "<table border=\"1\" class=\"dataframe\">\n",
              "  <thead>\n",
              "    <tr style=\"text-align: right;\">\n",
              "      <th></th>\n",
              "      <th>Attendance</th>\n",
              "    </tr>\n",
              "  </thead>\n",
              "  <tbody>\n",
              "    <tr>\n",
              "      <th>1</th>\n",
              "      <td>13</td>\n",
              "    </tr>\n",
              "    <tr>\n",
              "      <th>0</th>\n",
              "      <td>2</td>\n",
              "    </tr>\n",
              "  </tbody>\n",
              "</table>\n",
              "</div>"
            ],
            "text/plain": [
              "   Attendance\n",
              "1          13\n",
              "0           2"
            ]
          },
          "metadata": {
            "tags": []
          },
          "execution_count": 112
        }
      ]
    },
    {
      "cell_type": "code",
      "metadata": {
        "colab": {
          "base_uri": "https://localhost:8080/"
        },
        "id": "TDFxgF9Kzzpi",
        "outputId": "1543b1dc-d48b-490a-99d5-41db11b7299f"
      },
      "source": [
        "df.at[1,'Attendance'] # Find number of times presents for attendance and save as variable below \r\n"
      ],
      "execution_count": null,
      "outputs": [
        {
          "output_type": "execute_result",
          "data": {
            "text/plain": [
              "13"
            ]
          },
          "metadata": {
            "tags": []
          },
          "execution_count": 113
        }
      ]
    },
    {
      "cell_type": "code",
      "metadata": {
        "id": "W2R_WX4UzQi5"
      },
      "source": [
        "Attended_Times= df.at[1,'Attendance'] # Find number of times presents for attendance and save as variable\r\n"
      ],
      "execution_count": null,
      "outputs": []
    },
    {
      "cell_type": "code",
      "metadata": {
        "colab": {
          "base_uri": "https://localhost:8080/"
        },
        "id": "PL6FxyWgzIaD",
        "outputId": "42cc8fc8-1db4-4f28-a43d-ff26986800c0"
      },
      "source": [
        "Attend_Part=(Attended_Times/15)*10 # Divide by 15 and mutiply by 10 to weight the score, save as variable and add for later \r\n",
        "print (Attend_Part)"
      ],
      "execution_count": null,
      "outputs": [
        {
          "output_type": "stream",
          "text": [
            "8.666666666666668\n"
          ],
          "name": "stdout"
        }
      ]
    },
    {
      "cell_type": "markdown",
      "metadata": {
        "id": "xbXFnwTvsp37"
      },
      "source": [
        "## Assignments (30%)"
      ]
    },
    {
      "cell_type": "code",
      "metadata": {
        "id": "NYXi2H9WuTKo",
        "colab": {
          "base_uri": "https://localhost:8080/",
          "height": 979
        },
        "outputId": "711fc202-1622-452b-ad9d-2bd656b05217"
      },
      "source": [
        "import pandas as pd\r\n",
        "d = {'Assignment Grades': [100, 0,0,100,100,18,100,70,100,100,100,100,100,100,100,30,30,30,38,100,100,100,100,100,30,100,100,100,100,100]} # Same idea as last time, did not randomly produce the numbers felt that was impractical, made a grade list instead so I can use for later\r\n",
        "df = pd.DataFrame(data=d)\r\n",
        "df"
      ],
      "execution_count": null,
      "outputs": [
        {
          "output_type": "execute_result",
          "data": {
            "text/html": [
              "<div>\n",
              "<style scoped>\n",
              "    .dataframe tbody tr th:only-of-type {\n",
              "        vertical-align: middle;\n",
              "    }\n",
              "\n",
              "    .dataframe tbody tr th {\n",
              "        vertical-align: top;\n",
              "    }\n",
              "\n",
              "    .dataframe thead th {\n",
              "        text-align: right;\n",
              "    }\n",
              "</style>\n",
              "<table border=\"1\" class=\"dataframe\">\n",
              "  <thead>\n",
              "    <tr style=\"text-align: right;\">\n",
              "      <th></th>\n",
              "      <th>Assignment Grades</th>\n",
              "    </tr>\n",
              "  </thead>\n",
              "  <tbody>\n",
              "    <tr>\n",
              "      <th>0</th>\n",
              "      <td>100</td>\n",
              "    </tr>\n",
              "    <tr>\n",
              "      <th>1</th>\n",
              "      <td>0</td>\n",
              "    </tr>\n",
              "    <tr>\n",
              "      <th>2</th>\n",
              "      <td>0</td>\n",
              "    </tr>\n",
              "    <tr>\n",
              "      <th>3</th>\n",
              "      <td>100</td>\n",
              "    </tr>\n",
              "    <tr>\n",
              "      <th>4</th>\n",
              "      <td>100</td>\n",
              "    </tr>\n",
              "    <tr>\n",
              "      <th>5</th>\n",
              "      <td>18</td>\n",
              "    </tr>\n",
              "    <tr>\n",
              "      <th>6</th>\n",
              "      <td>100</td>\n",
              "    </tr>\n",
              "    <tr>\n",
              "      <th>7</th>\n",
              "      <td>70</td>\n",
              "    </tr>\n",
              "    <tr>\n",
              "      <th>8</th>\n",
              "      <td>100</td>\n",
              "    </tr>\n",
              "    <tr>\n",
              "      <th>9</th>\n",
              "      <td>100</td>\n",
              "    </tr>\n",
              "    <tr>\n",
              "      <th>10</th>\n",
              "      <td>100</td>\n",
              "    </tr>\n",
              "    <tr>\n",
              "      <th>11</th>\n",
              "      <td>100</td>\n",
              "    </tr>\n",
              "    <tr>\n",
              "      <th>12</th>\n",
              "      <td>100</td>\n",
              "    </tr>\n",
              "    <tr>\n",
              "      <th>13</th>\n",
              "      <td>100</td>\n",
              "    </tr>\n",
              "    <tr>\n",
              "      <th>14</th>\n",
              "      <td>100</td>\n",
              "    </tr>\n",
              "    <tr>\n",
              "      <th>15</th>\n",
              "      <td>30</td>\n",
              "    </tr>\n",
              "    <tr>\n",
              "      <th>16</th>\n",
              "      <td>30</td>\n",
              "    </tr>\n",
              "    <tr>\n",
              "      <th>17</th>\n",
              "      <td>30</td>\n",
              "    </tr>\n",
              "    <tr>\n",
              "      <th>18</th>\n",
              "      <td>38</td>\n",
              "    </tr>\n",
              "    <tr>\n",
              "      <th>19</th>\n",
              "      <td>100</td>\n",
              "    </tr>\n",
              "    <tr>\n",
              "      <th>20</th>\n",
              "      <td>100</td>\n",
              "    </tr>\n",
              "    <tr>\n",
              "      <th>21</th>\n",
              "      <td>100</td>\n",
              "    </tr>\n",
              "    <tr>\n",
              "      <th>22</th>\n",
              "      <td>100</td>\n",
              "    </tr>\n",
              "    <tr>\n",
              "      <th>23</th>\n",
              "      <td>100</td>\n",
              "    </tr>\n",
              "    <tr>\n",
              "      <th>24</th>\n",
              "      <td>30</td>\n",
              "    </tr>\n",
              "    <tr>\n",
              "      <th>25</th>\n",
              "      <td>100</td>\n",
              "    </tr>\n",
              "    <tr>\n",
              "      <th>26</th>\n",
              "      <td>100</td>\n",
              "    </tr>\n",
              "    <tr>\n",
              "      <th>27</th>\n",
              "      <td>100</td>\n",
              "    </tr>\n",
              "    <tr>\n",
              "      <th>28</th>\n",
              "      <td>100</td>\n",
              "    </tr>\n",
              "    <tr>\n",
              "      <th>29</th>\n",
              "      <td>100</td>\n",
              "    </tr>\n",
              "  </tbody>\n",
              "</table>\n",
              "</div>"
            ],
            "text/plain": [
              "    Assignment Grades\n",
              "0                 100\n",
              "1                   0\n",
              "2                   0\n",
              "3                 100\n",
              "4                 100\n",
              "5                  18\n",
              "6                 100\n",
              "7                  70\n",
              "8                 100\n",
              "9                 100\n",
              "10                100\n",
              "11                100\n",
              "12                100\n",
              "13                100\n",
              "14                100\n",
              "15                 30\n",
              "16                 30\n",
              "17                 30\n",
              "18                 38\n",
              "19                100\n",
              "20                100\n",
              "21                100\n",
              "22                100\n",
              "23                100\n",
              "24                 30\n",
              "25                100\n",
              "26                100\n",
              "27                100\n",
              "28                100\n",
              "29                100"
            ]
          },
          "metadata": {
            "tags": []
          },
          "execution_count": 116
        }
      ]
    },
    {
      "cell_type": "code",
      "metadata": {
        "id": "X5CPpIDA0wY8",
        "colab": {
          "base_uri": "https://localhost:8080/",
          "height": 359
        },
        "outputId": "4761a996-b643-41de-c79d-1fb1863b88d4"
      },
      "source": [
        "df.sample (10)         # Use df.sample to get ten random rows (grades), use sample (10) to get ten random rows \r\n",
        "df2=df.sample (10)\r\n",
        "df2                    # Display"
      ],
      "execution_count": null,
      "outputs": [
        {
          "output_type": "execute_result",
          "data": {
            "text/html": [
              "<div>\n",
              "<style scoped>\n",
              "    .dataframe tbody tr th:only-of-type {\n",
              "        vertical-align: middle;\n",
              "    }\n",
              "\n",
              "    .dataframe tbody tr th {\n",
              "        vertical-align: top;\n",
              "    }\n",
              "\n",
              "    .dataframe thead th {\n",
              "        text-align: right;\n",
              "    }\n",
              "</style>\n",
              "<table border=\"1\" class=\"dataframe\">\n",
              "  <thead>\n",
              "    <tr style=\"text-align: right;\">\n",
              "      <th></th>\n",
              "      <th>Assignment Grades</th>\n",
              "    </tr>\n",
              "  </thead>\n",
              "  <tbody>\n",
              "    <tr>\n",
              "      <th>16</th>\n",
              "      <td>30</td>\n",
              "    </tr>\n",
              "    <tr>\n",
              "      <th>26</th>\n",
              "      <td>100</td>\n",
              "    </tr>\n",
              "    <tr>\n",
              "      <th>19</th>\n",
              "      <td>100</td>\n",
              "    </tr>\n",
              "    <tr>\n",
              "      <th>12</th>\n",
              "      <td>100</td>\n",
              "    </tr>\n",
              "    <tr>\n",
              "      <th>8</th>\n",
              "      <td>100</td>\n",
              "    </tr>\n",
              "    <tr>\n",
              "      <th>17</th>\n",
              "      <td>30</td>\n",
              "    </tr>\n",
              "    <tr>\n",
              "      <th>11</th>\n",
              "      <td>100</td>\n",
              "    </tr>\n",
              "    <tr>\n",
              "      <th>27</th>\n",
              "      <td>100</td>\n",
              "    </tr>\n",
              "    <tr>\n",
              "      <th>29</th>\n",
              "      <td>100</td>\n",
              "    </tr>\n",
              "    <tr>\n",
              "      <th>3</th>\n",
              "      <td>100</td>\n",
              "    </tr>\n",
              "  </tbody>\n",
              "</table>\n",
              "</div>"
            ],
            "text/plain": [
              "    Assignment Grades\n",
              "16                 30\n",
              "26                100\n",
              "19                100\n",
              "12                100\n",
              "8                 100\n",
              "17                 30\n",
              "11                100\n",
              "27                100\n",
              "29                100\n",
              "3                 100"
            ]
          },
          "metadata": {
            "tags": []
          },
          "execution_count": 117
        }
      ]
    },
    {
      "cell_type": "code",
      "metadata": {
        "colab": {
          "base_uri": "https://localhost:8080/"
        },
        "id": "BXLf5XEcpGxU",
        "outputId": "1ca04af9-ee01-47be-90f6-d5573e5c90b6"
      },
      "source": [
        "df2[\"Assignment Grades\"].mean() # Mean of 10 grades (rows)"
      ],
      "execution_count": null,
      "outputs": [
        {
          "output_type": "execute_result",
          "data": {
            "text/plain": [
              "86.0"
            ]
          },
          "metadata": {
            "tags": []
          },
          "execution_count": 118
        }
      ]
    },
    {
      "cell_type": "code",
      "metadata": {
        "colab": {
          "base_uri": "https://localhost:8080/"
        },
        "id": "yhQMaRu6qV0o",
        "outputId": "8497120d-6aaf-4bdb-9ebe-4abfb4c2b946"
      },
      "source": [
        "Assignment_Grade= df2[\"Assignment Grades\"].mean()*.3 # Use .3 to give it its weigh (30%)\r\n",
        "print (Assignment_Grade)"
      ],
      "execution_count": null,
      "outputs": [
        {
          "output_type": "stream",
          "text": [
            "25.8\n"
          ],
          "name": "stdout"
        }
      ]
    },
    {
      "cell_type": "markdown",
      "metadata": {
        "id": "EuOacFJPwokK"
      },
      "source": [
        "## Final Grade Calculation (100%)"
      ]
    },
    {
      "cell_type": "code",
      "metadata": {
        "id": "1fOPddB91d2e",
        "colab": {
          "base_uri": "https://localhost:8080/"
        },
        "outputId": "55bcef95-1568-44ca-901e-fb672ad70ca4"
      },
      "source": [
        "Project_1+Project_2+Project_3+Attend_Part+Assignment_Grade # Add the weighed and you have the final grade calcualtion!"
      ],
      "execution_count": null,
      "outputs": [
        {
          "output_type": "execute_result",
          "data": {
            "text/plain": [
              "88.06666666666666"
            ]
          },
          "metadata": {
            "tags": []
          },
          "execution_count": 120
        }
      ]
    }
  ]
}