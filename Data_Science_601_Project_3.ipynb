{
  "nbformat": 4,
  "nbformat_minor": 0,
  "metadata": {
    "colab": {
      "name": "Data Science 601- Project #3.ipynb",
      "provenance": [],
      "collapsed_sections": [],
      "toc_visible": true,
      "authorship_tag": "ABX9TyOCO74rWsmSj/c+wdgCCaII",
      "include_colab_link": true
    },
    "kernelspec": {
      "name": "python3",
      "display_name": "Python 3"
    },
    "language_info": {
      "name": "python"
    }
  },
  "cells": [
    {
      "cell_type": "markdown",
      "metadata": {
        "id": "view-in-github",
        "colab_type": "text"
      },
      "source": [
        "<a href=\"https://colab.research.google.com/github/jonnie763/DATA-Science-601/blob/main/Data_Science_601_Project_3.ipynb\" target=\"_parent\"><img src=\"https://colab.research.google.com/assets/colab-badge.svg\" alt=\"Open In Colab\"/></a>"
      ]
    },
    {
      "cell_type": "markdown",
      "metadata": {
        "id": "O_3IXW1F-aOA"
      },
      "source": [
        "## Data Science 601- Project #3: Questions and Hypothesis"
      ]
    },
    {
      "cell_type": "markdown",
      "metadata": {
        "id": "UIMXh7cs91P7"
      },
      "source": [
        "Hypothesis 1: For pitchers and batters, do more strikeouts and walks correlate with more value? Are strikeouts/walks better for a pitchers/batters value? Use correlations with different types of visualizations to determine the answer. You will need 4 correlations. \n",
        "\n",
        "Question 1: Do  pitchers or batters (hitters) have more value on a per game basis? If so, predict pitcher and batter value over a 162 game season. \n",
        "\n",
        "Question 2: Can one categorize baseball players based off their strikeouts or strikeout production? Compare different types of baseball players ( \"average\" players etc and hall of famers) and use a \"t-test\" to see if hall of famers pitchers and batters strikeout or produce more or less strikeouts than average caliber players. You will need one t-test. "
      ]
    },
    {
      "cell_type": "markdown",
      "metadata": {
        "id": "CZWvPp1qTVqg"
      },
      "source": [
        "## Background Infomation "
      ]
    },
    {
      "cell_type": "markdown",
      "metadata": {
        "id": "JlkgzUpevBlL"
      },
      "source": [
        "\n",
        "\n",
        "*   https://www.mlb.com/glossary/standard-stats/strikeout\n",
        "*   https://www.mlb.com/glossary/standard-stats/walk\n",
        "*   https://www.mlb.com/glossary/advanced-stats/wins-above-replacement\n",
        "\n",
        "**The links are above will give you information on what a major league strikeout, walk, and \"WAR\" statistic is. Click the links to know more about each statistic. In short, a strikeout is an out where the ball registers in the strikezone three times. A walk is when a player gets a base when the pitcher records 4 balls outside the strikezone. The \"WAR\" statistic is a measurement of value of a baseball player, comparing him to the average replacement level player. \n",
        "\n",
        "*   Strikeouts are generally good for pitchers and bad for batters, as batters wish to get on base and produce runs and pitchers aim to get outs. Below we will view to what extent this is the case using correlations.  \n",
        "*   Walks are generally good for batters and bad for pitchers as getting on base is good for batters and a measurement of control for pitchers. Below we will view to what extent this is the case using correlations.Pitchers who lack control tend to have higher walk rates. \n",
        "*   WAR is measurement of player value, we will see too what extend players value is tied to their strikeouts and walks, using correlations and Pearson's coefficient. \n",
        "\n",
        "\n",
        "\n",
        "\n",
        "\n"
      ]
    },
    {
      "cell_type": "markdown",
      "metadata": {
        "id": "Jp7iqLxa9cZw"
      },
      "source": [
        "## Importing modules and libraries "
      ]
    },
    {
      "cell_type": "code",
      "metadata": {
        "id": "9QmuCTxP3_Zp"
      },
      "source": [
        "import matplotlib.pyplot as plt          # There are alot of libraries and modules here, just in case \n",
        "import seaborn as sns\n",
        "import seaborn as sn\n",
        "import math\n",
        "import pandas as pd                       #Import relevant libraries. Pandas for dataframes and ploty and matplotlib for visualization. Other libraries just in case.  \n",
        "import plotly.express as px \n",
        "import numpy as np\n",
        "import scipy.stats as stats\n",
        "import plotly.graph_objects as go\n",
        "from sklearn.linear_model import LinearRegression\n",
        "pd.set_option(\"max_rows\", 5)              # Sometimes the print produces too many rows this is much cleaner \n",
        "plt.rcParams['figure.figsize'] = 10,10    #Increase general size for matplot.lib"
      ],
      "execution_count": 7,
      "outputs": []
    },
    {
      "cell_type": "markdown",
      "metadata": {
        "id": "S4seknsO9nkf"
      },
      "source": [
        "## Hypothesis 1"
      ]
    },
    {
      "cell_type": "markdown",
      "metadata": {
        "id": "wLGAXGKb2_g5"
      },
      "source": [
        "For pitchers and batters, do more strikeouts and walks correlate with more value? Use correlations with different types of visualizations to determine the answer. You will need 4 correlations. "
      ]
    },
    {
      "cell_type": "markdown",
      "metadata": {
        "id": "RYo1B05qRaRJ"
      },
      "source": [
        "### Batters Value versus Walk Rate "
      ]
    },
    {
      "cell_type": "code",
      "metadata": {
        "id": "Zs69GeUu93xe",
        "colab": {
          "base_uri": "https://localhost:8080/",
          "height": 402
        },
        "outputId": "7fc6ac94-da45-4137-f2d4-6124221ae9e7"
      },
      "source": [
        "Batters_df=pd.read_csv(\"FanGraphs Leaderboard.csv\") # The main file we will use and manipulate for batters \n",
        "Batters_df"
      ],
      "execution_count": 71,
      "outputs": [
        {
          "output_type": "execute_result",
          "data": {
            "text/html": [
              "<div>\n",
              "<style scoped>\n",
              "    .dataframe tbody tr th:only-of-type {\n",
              "        vertical-align: middle;\n",
              "    }\n",
              "\n",
              "    .dataframe tbody tr th {\n",
              "        vertical-align: top;\n",
              "    }\n",
              "\n",
              "    .dataframe thead th {\n",
              "        text-align: right;\n",
              "    }\n",
              "</style>\n",
              "<table border=\"1\" class=\"dataframe\">\n",
              "  <thead>\n",
              "    <tr style=\"text-align: right;\">\n",
              "      <th></th>\n",
              "      <th>Name</th>\n",
              "      <th>Team</th>\n",
              "      <th>G</th>\n",
              "      <th>PA</th>\n",
              "      <th>HR</th>\n",
              "      <th>R</th>\n",
              "      <th>RBI</th>\n",
              "      <th>SB</th>\n",
              "      <th>BB%</th>\n",
              "      <th>K%</th>\n",
              "      <th>ISO</th>\n",
              "      <th>BABIP</th>\n",
              "      <th>AVG</th>\n",
              "      <th>OBP</th>\n",
              "      <th>SLG</th>\n",
              "      <th>wOBA</th>\n",
              "      <th>xwOBA</th>\n",
              "      <th>wRC+</th>\n",
              "      <th>BsR</th>\n",
              "      <th>Off</th>\n",
              "      <th>Def</th>\n",
              "      <th>WAR</th>\n",
              "      <th>playerid</th>\n",
              "    </tr>\n",
              "  </thead>\n",
              "  <tbody>\n",
              "    <tr>\n",
              "      <th>0</th>\n",
              "      <td>Babe Ruth</td>\n",
              "      <td>- - -</td>\n",
              "      <td>2503</td>\n",
              "      <td>10616</td>\n",
              "      <td>714</td>\n",
              "      <td>2174</td>\n",
              "      <td>2217</td>\n",
              "      <td>123.0</td>\n",
              "      <td>19.4%</td>\n",
              "      <td>12.5%</td>\n",
              "      <td>0.348</td>\n",
              "      <td>0.340</td>\n",
              "      <td>0.342</td>\n",
              "      <td>0.474</td>\n",
              "      <td>0.690</td>\n",
              "      <td>0.513</td>\n",
              "      <td>NaN</td>\n",
              "      <td>197</td>\n",
              "      <td>-23.4</td>\n",
              "      <td>1347.3</td>\n",
              "      <td>-18.6</td>\n",
              "      <td>168.4</td>\n",
              "      <td>1011327</td>\n",
              "    </tr>\n",
              "    <tr>\n",
              "      <th>1</th>\n",
              "      <td>Barry Bonds</td>\n",
              "      <td>- - -</td>\n",
              "      <td>2986</td>\n",
              "      <td>12606</td>\n",
              "      <td>762</td>\n",
              "      <td>2227</td>\n",
              "      <td>1996</td>\n",
              "      <td>514.0</td>\n",
              "      <td>20.3%</td>\n",
              "      <td>12.2%</td>\n",
              "      <td>0.309</td>\n",
              "      <td>0.285</td>\n",
              "      <td>0.298</td>\n",
              "      <td>0.444</td>\n",
              "      <td>0.607</td>\n",
              "      <td>0.435</td>\n",
              "      <td>NaN</td>\n",
              "      <td>173</td>\n",
              "      <td>30.4</td>\n",
              "      <td>1173.8</td>\n",
              "      <td>67.6</td>\n",
              "      <td>164.4</td>\n",
              "      <td>1109</td>\n",
              "    </tr>\n",
              "    <tr>\n",
              "      <th>2</th>\n",
              "      <td>Willie Mays</td>\n",
              "      <td>- - -</td>\n",
              "      <td>2992</td>\n",
              "      <td>12493</td>\n",
              "      <td>660</td>\n",
              "      <td>2062</td>\n",
              "      <td>1903</td>\n",
              "      <td>338.0</td>\n",
              "      <td>11.7%</td>\n",
              "      <td>12.2%</td>\n",
              "      <td>0.256</td>\n",
              "      <td>0.299</td>\n",
              "      <td>0.302</td>\n",
              "      <td>0.384</td>\n",
              "      <td>0.557</td>\n",
              "      <td>0.409</td>\n",
              "      <td>NaN</td>\n",
              "      <td>154</td>\n",
              "      <td>32.9</td>\n",
              "      <td>837.5</td>\n",
              "      <td>170.1</td>\n",
              "      <td>149.9</td>\n",
              "      <td>1008315</td>\n",
              "    </tr>\n",
              "    <tr>\n",
              "      <th>3</th>\n",
              "      <td>Ty Cobb</td>\n",
              "      <td>- - -</td>\n",
              "      <td>3035</td>\n",
              "      <td>13072</td>\n",
              "      <td>117</td>\n",
              "      <td>2246</td>\n",
              "      <td>1937</td>\n",
              "      <td>892.0</td>\n",
              "      <td>9.6%</td>\n",
              "      <td>4.1%</td>\n",
              "      <td>0.146</td>\n",
              "      <td>0.378</td>\n",
              "      <td>0.366</td>\n",
              "      <td>0.433</td>\n",
              "      <td>0.512</td>\n",
              "      <td>0.445</td>\n",
              "      <td>NaN</td>\n",
              "      <td>165</td>\n",
              "      <td>60.6</td>\n",
              "      <td>1036.0</td>\n",
              "      <td>-90.0</td>\n",
              "      <td>149.3</td>\n",
              "      <td>1002378</td>\n",
              "    </tr>\n",
              "    <tr>\n",
              "      <th>4</th>\n",
              "      <td>Honus Wagner</td>\n",
              "      <td>- - -</td>\n",
              "      <td>2792</td>\n",
              "      <td>11739</td>\n",
              "      <td>101</td>\n",
              "      <td>1736</td>\n",
              "      <td>1732</td>\n",
              "      <td>722.0</td>\n",
              "      <td>8.2%</td>\n",
              "      <td>7.6%</td>\n",
              "      <td>0.139</td>\n",
              "      <td>0.318</td>\n",
              "      <td>0.327</td>\n",
              "      <td>0.391</td>\n",
              "      <td>0.466</td>\n",
              "      <td>0.408</td>\n",
              "      <td>NaN</td>\n",
              "      <td>147</td>\n",
              "      <td>56.9</td>\n",
              "      <td>704.7</td>\n",
              "      <td>184.4</td>\n",
              "      <td>138.1</td>\n",
              "      <td>1013485</td>\n",
              "    </tr>\n",
              "    <tr>\n",
              "      <th>...</th>\n",
              "      <td>...</td>\n",
              "      <td>...</td>\n",
              "      <td>...</td>\n",
              "      <td>...</td>\n",
              "      <td>...</td>\n",
              "      <td>...</td>\n",
              "      <td>...</td>\n",
              "      <td>...</td>\n",
              "      <td>...</td>\n",
              "      <td>...</td>\n",
              "      <td>...</td>\n",
              "      <td>...</td>\n",
              "      <td>...</td>\n",
              "      <td>...</td>\n",
              "      <td>...</td>\n",
              "      <td>...</td>\n",
              "      <td>...</td>\n",
              "      <td>...</td>\n",
              "      <td>...</td>\n",
              "      <td>...</td>\n",
              "      <td>...</td>\n",
              "      <td>...</td>\n",
              "      <td>...</td>\n",
              "    </tr>\n",
              "    <tr>\n",
              "      <th>4068</th>\n",
              "      <td>Jim Levey</td>\n",
              "      <td>SLB</td>\n",
              "      <td>440</td>\n",
              "      <td>1751</td>\n",
              "      <td>11</td>\n",
              "      <td>162</td>\n",
              "      <td>140</td>\n",
              "      <td>23.0</td>\n",
              "      <td>4.9%</td>\n",
              "      <td>11.5%</td>\n",
              "      <td>0.075</td>\n",
              "      <td>0.256</td>\n",
              "      <td>0.230</td>\n",
              "      <td>0.272</td>\n",
              "      <td>0.305</td>\n",
              "      <td>0.268</td>\n",
              "      <td>NaN</td>\n",
              "      <td>45</td>\n",
              "      <td>-3.4</td>\n",
              "      <td>-132.7</td>\n",
              "      <td>-12.0</td>\n",
              "      <td>-8.2</td>\n",
              "      <td>1007567</td>\n",
              "    </tr>\n",
              "    <tr>\n",
              "      <th>4069</th>\n",
              "      <td>Doug Flynn</td>\n",
              "      <td>- - -</td>\n",
              "      <td>1309</td>\n",
              "      <td>4085</td>\n",
              "      <td>7</td>\n",
              "      <td>288</td>\n",
              "      <td>284</td>\n",
              "      <td>20.0</td>\n",
              "      <td>3.7%</td>\n",
              "      <td>7.8%</td>\n",
              "      <td>0.056</td>\n",
              "      <td>0.257</td>\n",
              "      <td>0.238</td>\n",
              "      <td>0.266</td>\n",
              "      <td>0.294</td>\n",
              "      <td>0.248</td>\n",
              "      <td>NaN</td>\n",
              "      <td>52</td>\n",
              "      <td>-3.6</td>\n",
              "      <td>-228.7</td>\n",
              "      <td>16.7</td>\n",
              "      <td>-8.4</td>\n",
              "      <td>1004182</td>\n",
              "    </tr>\n",
              "    <tr>\n",
              "      <th>4070</th>\n",
              "      <td>Ryan Doumit</td>\n",
              "      <td>- - -</td>\n",
              "      <td>980</td>\n",
              "      <td>3407</td>\n",
              "      <td>104</td>\n",
              "      <td>350</td>\n",
              "      <td>413</td>\n",
              "      <td>12.0</td>\n",
              "      <td>6.8%</td>\n",
              "      <td>18.2%</td>\n",
              "      <td>0.167</td>\n",
              "      <td>0.298</td>\n",
              "      <td>0.264</td>\n",
              "      <td>0.324</td>\n",
              "      <td>0.432</td>\n",
              "      <td>0.328</td>\n",
              "      <td>NaN</td>\n",
              "      <td>101</td>\n",
              "      <td>-20.1</td>\n",
              "      <td>-13.8</td>\n",
              "      <td>-178.1</td>\n",
              "      <td>-8.6</td>\n",
              "      <td>2113</td>\n",
              "    </tr>\n",
              "    <tr>\n",
              "      <th>4071</th>\n",
              "      <td>Gus Weyhing</td>\n",
              "      <td>- - -</td>\n",
              "      <td>552</td>\n",
              "      <td>1965</td>\n",
              "      <td>3</td>\n",
              "      <td>163</td>\n",
              "      <td>133</td>\n",
              "      <td>32.0</td>\n",
              "      <td>5.1%</td>\n",
              "      <td>26.5%</td>\n",
              "      <td>0.043</td>\n",
              "      <td>0.203</td>\n",
              "      <td>0.166</td>\n",
              "      <td>0.210</td>\n",
              "      <td>0.209</td>\n",
              "      <td>0.207</td>\n",
              "      <td>NaN</td>\n",
              "      <td>28</td>\n",
              "      <td>-6.5</td>\n",
              "      <td>-231.8</td>\n",
              "      <td>25.3</td>\n",
              "      <td>-10.2</td>\n",
              "      <td>1013820</td>\n",
              "    </tr>\n",
              "    <tr>\n",
              "      <th>4072</th>\n",
              "      <td>Bill Bergen</td>\n",
              "      <td>- - -</td>\n",
              "      <td>947</td>\n",
              "      <td>3228</td>\n",
              "      <td>2</td>\n",
              "      <td>138</td>\n",
              "      <td>193</td>\n",
              "      <td>23.0</td>\n",
              "      <td>2.7%</td>\n",
              "      <td>15.5%</td>\n",
              "      <td>0.031</td>\n",
              "      <td>0.177</td>\n",
              "      <td>0.170</td>\n",
              "      <td>0.194</td>\n",
              "      <td>0.201</td>\n",
              "      <td>0.192</td>\n",
              "      <td>NaN</td>\n",
              "      <td>22</td>\n",
              "      <td>-9.1</td>\n",
              "      <td>-296.3</td>\n",
              "      <td>44.0</td>\n",
              "      <td>-16.2</td>\n",
              "      <td>1000867</td>\n",
              "    </tr>\n",
              "  </tbody>\n",
              "</table>\n",
              "<p>4073 rows × 23 columns</p>\n",
              "</div>"
            ],
            "text/plain": [
              "              Name   Team     G     PA  ...     Off    Def    WAR  playerid\n",
              "0        Babe Ruth  - - -  2503  10616  ...  1347.3  -18.6  168.4   1011327\n",
              "1      Barry Bonds  - - -  2986  12606  ...  1173.8   67.6  164.4      1109\n",
              "2      Willie Mays  - - -  2992  12493  ...   837.5  170.1  149.9   1008315\n",
              "3          Ty Cobb  - - -  3035  13072  ...  1036.0  -90.0  149.3   1002378\n",
              "4     Honus Wagner  - - -  2792  11739  ...   704.7  184.4  138.1   1013485\n",
              "...            ...    ...   ...    ...  ...     ...    ...    ...       ...\n",
              "4068     Jim Levey    SLB   440   1751  ...  -132.7  -12.0   -8.2   1007567\n",
              "4069    Doug Flynn  - - -  1309   4085  ...  -228.7   16.7   -8.4   1004182\n",
              "4070   Ryan Doumit  - - -   980   3407  ...   -13.8 -178.1   -8.6      2113\n",
              "4071   Gus Weyhing  - - -   552   1965  ...  -231.8   25.3  -10.2   1013820\n",
              "4072   Bill Bergen  - - -   947   3228  ...  -296.3   44.0  -16.2   1000867\n",
              "\n",
              "[4073 rows x 23 columns]"
            ]
          },
          "metadata": {
            "tags": []
          },
          "execution_count": 71
        }
      ]
    },
    {
      "cell_type": "code",
      "metadata": {
        "colab": {
          "base_uri": "https://localhost:8080/",
          "height": 224
        },
        "id": "d-o8fo8j6w96",
        "outputId": "f66ed564-a844-4051-8c26-079fd9a95076"
      },
      "source": [
        "cols = ['WAR', 'BB%']             # Select columns of a particular type, just need a correlation between the two \n",
        "WALKS_BATTERS = Batters_df[cols]\n",
        "WALKS_BATTERS"
      ],
      "execution_count": 9,
      "outputs": [
        {
          "output_type": "execute_result",
          "data": {
            "text/html": [
              "<div>\n",
              "<style scoped>\n",
              "    .dataframe tbody tr th:only-of-type {\n",
              "        vertical-align: middle;\n",
              "    }\n",
              "\n",
              "    .dataframe tbody tr th {\n",
              "        vertical-align: top;\n",
              "    }\n",
              "\n",
              "    .dataframe thead th {\n",
              "        text-align: right;\n",
              "    }\n",
              "</style>\n",
              "<table border=\"1\" class=\"dataframe\">\n",
              "  <thead>\n",
              "    <tr style=\"text-align: right;\">\n",
              "      <th></th>\n",
              "      <th>WAR</th>\n",
              "      <th>BB%</th>\n",
              "    </tr>\n",
              "  </thead>\n",
              "  <tbody>\n",
              "    <tr>\n",
              "      <th>0</th>\n",
              "      <td>168.4</td>\n",
              "      <td>19.4%</td>\n",
              "    </tr>\n",
              "    <tr>\n",
              "      <th>1</th>\n",
              "      <td>164.4</td>\n",
              "      <td>20.3%</td>\n",
              "    </tr>\n",
              "    <tr>\n",
              "      <th>...</th>\n",
              "      <td>...</td>\n",
              "      <td>...</td>\n",
              "    </tr>\n",
              "    <tr>\n",
              "      <th>4071</th>\n",
              "      <td>-10.2</td>\n",
              "      <td>5.1%</td>\n",
              "    </tr>\n",
              "    <tr>\n",
              "      <th>4072</th>\n",
              "      <td>-16.2</td>\n",
              "      <td>2.7%</td>\n",
              "    </tr>\n",
              "  </tbody>\n",
              "</table>\n",
              "<p>4073 rows × 2 columns</p>\n",
              "</div>"
            ],
            "text/plain": [
              "        WAR    BB%\n",
              "0     168.4  19.4%\n",
              "1     164.4  20.3%\n",
              "...     ...    ...\n",
              "4071  -10.2   5.1%\n",
              "4072  -16.2   2.7%\n",
              "\n",
              "[4073 rows x 2 columns]"
            ]
          },
          "metadata": {
            "tags": []
          },
          "execution_count": 9
        }
      ]
    },
    {
      "cell_type": "code",
      "metadata": {
        "colab": {
          "base_uri": "https://localhost:8080/"
        },
        "id": "FPNrzOsC-FBL",
        "outputId": "c209469f-5be3-4494-c0a6-1f6e230f87ce"
      },
      "source": [
        "List_Percentages = [str(x).replace('%',' ') for x in WALKS_BATTERS[\"BB%\"]]\n",
        "# Create a list with the percents columns and remove the symbol, reinsert the list later. Need to remove percentages and change data structure later. \n",
        "List_Percentages[:10]"
      ],
      "execution_count": 10,
      "outputs": [
        {
          "output_type": "execute_result",
          "data": {
            "text/plain": [
              "['19.4 ',\n",
              " '20.3 ',\n",
              " '11.7 ',\n",
              " '9.6 ',\n",
              " '8.2 ',\n",
              " '10.1 ',\n",
              " '11.5 ',\n",
              " '20.6 ',\n",
              " '11.0 ',\n",
              " '12.6 ']"
            ]
          },
          "metadata": {
            "tags": []
          },
          "execution_count": 10
        }
      ]
    },
    {
      "cell_type": "code",
      "metadata": {
        "colab": {
          "base_uri": "https://localhost:8080/"
        },
        "id": "6AGQF2YU-ciH",
        "outputId": "3a53fc71-802a-46ff-bd62-e1b5e4a1ca88"
      },
      "source": [
        "WALKS_BATTERS['Walk Rate']= List_Percentages\n",
        "\n",
        "List_Percentages[:10]"
      ],
      "execution_count": 11,
      "outputs": [
        {
          "output_type": "stream",
          "text": [
            "/usr/local/lib/python3.7/dist-packages/ipykernel_launcher.py:1: SettingWithCopyWarning:\n",
            "\n",
            "\n",
            "A value is trying to be set on a copy of a slice from a DataFrame.\n",
            "Try using .loc[row_indexer,col_indexer] = value instead\n",
            "\n",
            "See the caveats in the documentation: https://pandas.pydata.org/pandas-docs/stable/user_guide/indexing.html#returning-a-view-versus-a-copy\n",
            "\n"
          ],
          "name": "stderr"
        },
        {
          "output_type": "execute_result",
          "data": {
            "text/plain": [
              "['19.4 ',\n",
              " '20.3 ',\n",
              " '11.7 ',\n",
              " '9.6 ',\n",
              " '8.2 ',\n",
              " '10.1 ',\n",
              " '11.5 ',\n",
              " '20.6 ',\n",
              " '11.0 ',\n",
              " '12.6 ']"
            ]
          },
          "metadata": {
            "tags": []
          },
          "execution_count": 11
        }
      ]
    },
    {
      "cell_type": "code",
      "metadata": {
        "colab": {
          "base_uri": "https://localhost:8080/",
          "height": 224
        },
        "id": "XwWG8QmN_G61",
        "outputId": "6308f597-6110-42fd-cfcc-9bf911b11793"
      },
      "source": [
        "WALK_BATTERS_2=WALKS_BATTERS.drop(columns=[\"BB%\"]) # Cleansed data frame\n",
        "WALK_BATTERS_2"
      ],
      "execution_count": 12,
      "outputs": [
        {
          "output_type": "execute_result",
          "data": {
            "text/html": [
              "<div>\n",
              "<style scoped>\n",
              "    .dataframe tbody tr th:only-of-type {\n",
              "        vertical-align: middle;\n",
              "    }\n",
              "\n",
              "    .dataframe tbody tr th {\n",
              "        vertical-align: top;\n",
              "    }\n",
              "\n",
              "    .dataframe thead th {\n",
              "        text-align: right;\n",
              "    }\n",
              "</style>\n",
              "<table border=\"1\" class=\"dataframe\">\n",
              "  <thead>\n",
              "    <tr style=\"text-align: right;\">\n",
              "      <th></th>\n",
              "      <th>WAR</th>\n",
              "      <th>Walk Rate</th>\n",
              "    </tr>\n",
              "  </thead>\n",
              "  <tbody>\n",
              "    <tr>\n",
              "      <th>0</th>\n",
              "      <td>168.4</td>\n",
              "      <td>19.4</td>\n",
              "    </tr>\n",
              "    <tr>\n",
              "      <th>1</th>\n",
              "      <td>164.4</td>\n",
              "      <td>20.3</td>\n",
              "    </tr>\n",
              "    <tr>\n",
              "      <th>...</th>\n",
              "      <td>...</td>\n",
              "      <td>...</td>\n",
              "    </tr>\n",
              "    <tr>\n",
              "      <th>4071</th>\n",
              "      <td>-10.2</td>\n",
              "      <td>5.1</td>\n",
              "    </tr>\n",
              "    <tr>\n",
              "      <th>4072</th>\n",
              "      <td>-16.2</td>\n",
              "      <td>2.7</td>\n",
              "    </tr>\n",
              "  </tbody>\n",
              "</table>\n",
              "<p>4073 rows × 2 columns</p>\n",
              "</div>"
            ],
            "text/plain": [
              "        WAR Walk Rate\n",
              "0     168.4     19.4 \n",
              "1     164.4     20.3 \n",
              "...     ...       ...\n",
              "4071  -10.2      5.1 \n",
              "4072  -16.2      2.7 \n",
              "\n",
              "[4073 rows x 2 columns]"
            ]
          },
          "metadata": {
            "tags": []
          },
          "execution_count": 12
        }
      ]
    },
    {
      "cell_type": "code",
      "metadata": {
        "id": "oWs49k3V_wkR"
      },
      "source": [
        "WALK_BATTERS_3=WALK_BATTERS_2.astype(float) # Change the data struture to make the correlation "
      ],
      "execution_count": 13,
      "outputs": []
    },
    {
      "cell_type": "code",
      "metadata": {
        "colab": {
          "base_uri": "https://localhost:8080/",
          "height": 106
        },
        "id": "d-tIwXgM91V0",
        "outputId": "cf4f8454-b270-4bed-d6b1-2040ac2b3c86"
      },
      "source": [
        "WALK_BATTERS_3.corr(method ='pearson') # Relatively moderate correlation "
      ],
      "execution_count": 14,
      "outputs": [
        {
          "output_type": "execute_result",
          "data": {
            "text/html": [
              "<div>\n",
              "<style scoped>\n",
              "    .dataframe tbody tr th:only-of-type {\n",
              "        vertical-align: middle;\n",
              "    }\n",
              "\n",
              "    .dataframe tbody tr th {\n",
              "        vertical-align: top;\n",
              "    }\n",
              "\n",
              "    .dataframe thead th {\n",
              "        text-align: right;\n",
              "    }\n",
              "</style>\n",
              "<table border=\"1\" class=\"dataframe\">\n",
              "  <thead>\n",
              "    <tr style=\"text-align: right;\">\n",
              "      <th></th>\n",
              "      <th>WAR</th>\n",
              "      <th>Walk Rate</th>\n",
              "    </tr>\n",
              "  </thead>\n",
              "  <tbody>\n",
              "    <tr>\n",
              "      <th>WAR</th>\n",
              "      <td>1.00000</td>\n",
              "      <td>0.38246</td>\n",
              "    </tr>\n",
              "    <tr>\n",
              "      <th>Walk Rate</th>\n",
              "      <td>0.38246</td>\n",
              "      <td>1.00000</td>\n",
              "    </tr>\n",
              "  </tbody>\n",
              "</table>\n",
              "</div>"
            ],
            "text/plain": [
              "               WAR  Walk Rate\n",
              "WAR        1.00000    0.38246\n",
              "Walk Rate  0.38246    1.00000"
            ]
          },
          "metadata": {
            "tags": []
          },
          "execution_count": 14
        }
      ]
    },
    {
      "cell_type": "code",
      "metadata": {
        "colab": {
          "base_uri": "https://localhost:8080/",
          "height": 596
        },
        "id": "nsUA5MWh0PSF",
        "outputId": "97397746-fd86-4e18-b012-b120081871df"
      },
      "source": [
        "corrMatrix = WALK_BATTERS_3.corr() # Correlation visual, moderate correlation \n",
        "\n",
        "sn.heatmap(corrMatrix, annot=True)\n",
        "\n",
        "plt.show()\n"
      ],
      "execution_count": 15,
      "outputs": [
        {
          "output_type": "display_data",
          "data": {
            "image/png": "[encoded data removed]",
            "text/plain": [
              "<Figure size 720x720 with 2 Axes>"
            ]
          },
          "metadata": {
            "tags": [],
            "needs_background": "light"
          }
        }
      ]
    },
    {
      "cell_type": "markdown",
      "metadata": {
        "id": "YbWj9pEaRsJU"
      },
      "source": [
        "### Batters value versus Strikeouts "
      ]
    },
    {
      "cell_type": "code",
      "metadata": {
        "colab": {
          "base_uri": "https://localhost:8080/",
          "height": 224
        },
        "id": "3VR67_PyoIW2",
        "outputId": "e0e46115-5a8b-4bb6-da38-16595adb01e2"
      },
      "source": [
        "Batters_df_2=pd.read_csv(\"FanGraphs Leaderboard.csv\") # Now measure strikouts vs value \n",
        "Batters_df_2\n",
        "# https://catalog.data.gov/group/older-adults-health-data?page=7"
      ],
      "execution_count": 16,
      "outputs": [
        {
          "output_type": "execute_result",
          "data": {
            "text/html": [
              "<div>\n",
              "<style scoped>\n",
              "    .dataframe tbody tr th:only-of-type {\n",
              "        vertical-align: middle;\n",
              "    }\n",
              "\n",
              "    .dataframe tbody tr th {\n",
              "        vertical-align: top;\n",
              "    }\n",
              "\n",
              "    .dataframe thead th {\n",
              "        text-align: right;\n",
              "    }\n",
              "</style>\n",
              "<table border=\"1\" class=\"dataframe\">\n",
              "  <thead>\n",
              "    <tr style=\"text-align: right;\">\n",
              "      <th></th>\n",
              "      <th>Name</th>\n",
              "      <th>Team</th>\n",
              "      <th>G</th>\n",
              "      <th>PA</th>\n",
              "      <th>HR</th>\n",
              "      <th>R</th>\n",
              "      <th>RBI</th>\n",
              "      <th>SB</th>\n",
              "      <th>BB%</th>\n",
              "      <th>K%</th>\n",
              "      <th>ISO</th>\n",
              "      <th>BABIP</th>\n",
              "      <th>AVG</th>\n",
              "      <th>OBP</th>\n",
              "      <th>SLG</th>\n",
              "      <th>wOBA</th>\n",
              "      <th>xwOBA</th>\n",
              "      <th>wRC+</th>\n",
              "      <th>BsR</th>\n",
              "      <th>Off</th>\n",
              "      <th>Def</th>\n",
              "      <th>WAR</th>\n",
              "      <th>playerid</th>\n",
              "    </tr>\n",
              "  </thead>\n",
              "  <tbody>\n",
              "    <tr>\n",
              "      <th>0</th>\n",
              "      <td>Babe Ruth</td>\n",
              "      <td>- - -</td>\n",
              "      <td>2503</td>\n",
              "      <td>10616</td>\n",
              "      <td>714</td>\n",
              "      <td>2174</td>\n",
              "      <td>2217</td>\n",
              "      <td>123.0</td>\n",
              "      <td>19.4%</td>\n",
              "      <td>12.5%</td>\n",
              "      <td>0.348</td>\n",
              "      <td>0.340</td>\n",
              "      <td>0.342</td>\n",
              "      <td>0.474</td>\n",
              "      <td>0.690</td>\n",
              "      <td>0.513</td>\n",
              "      <td>NaN</td>\n",
              "      <td>197</td>\n",
              "      <td>-23.4</td>\n",
              "      <td>1347.3</td>\n",
              "      <td>-18.6</td>\n",
              "      <td>168.4</td>\n",
              "      <td>1011327</td>\n",
              "    </tr>\n",
              "    <tr>\n",
              "      <th>1</th>\n",
              "      <td>Barry Bonds</td>\n",
              "      <td>- - -</td>\n",
              "      <td>2986</td>\n",
              "      <td>12606</td>\n",
              "      <td>762</td>\n",
              "      <td>2227</td>\n",
              "      <td>1996</td>\n",
              "      <td>514.0</td>\n",
              "      <td>20.3%</td>\n",
              "      <td>12.2%</td>\n",
              "      <td>0.309</td>\n",
              "      <td>0.285</td>\n",
              "      <td>0.298</td>\n",
              "      <td>0.444</td>\n",
              "      <td>0.607</td>\n",
              "      <td>0.435</td>\n",
              "      <td>NaN</td>\n",
              "      <td>173</td>\n",
              "      <td>30.4</td>\n",
              "      <td>1173.8</td>\n",
              "      <td>67.6</td>\n",
              "      <td>164.4</td>\n",
              "      <td>1109</td>\n",
              "    </tr>\n",
              "    <tr>\n",
              "      <th>...</th>\n",
              "      <td>...</td>\n",
              "      <td>...</td>\n",
              "      <td>...</td>\n",
              "      <td>...</td>\n",
              "      <td>...</td>\n",
              "      <td>...</td>\n",
              "      <td>...</td>\n",
              "      <td>...</td>\n",
              "      <td>...</td>\n",
              "      <td>...</td>\n",
              "      <td>...</td>\n",
              "      <td>...</td>\n",
              "      <td>...</td>\n",
              "      <td>...</td>\n",
              "      <td>...</td>\n",
              "      <td>...</td>\n",
              "      <td>...</td>\n",
              "      <td>...</td>\n",
              "      <td>...</td>\n",
              "      <td>...</td>\n",
              "      <td>...</td>\n",
              "      <td>...</td>\n",
              "      <td>...</td>\n",
              "    </tr>\n",
              "    <tr>\n",
              "      <th>4071</th>\n",
              "      <td>Gus Weyhing</td>\n",
              "      <td>- - -</td>\n",
              "      <td>552</td>\n",
              "      <td>1965</td>\n",
              "      <td>3</td>\n",
              "      <td>163</td>\n",
              "      <td>133</td>\n",
              "      <td>32.0</td>\n",
              "      <td>5.1%</td>\n",
              "      <td>26.5%</td>\n",
              "      <td>0.043</td>\n",
              "      <td>0.203</td>\n",
              "      <td>0.166</td>\n",
              "      <td>0.210</td>\n",
              "      <td>0.209</td>\n",
              "      <td>0.207</td>\n",
              "      <td>NaN</td>\n",
              "      <td>28</td>\n",
              "      <td>-6.5</td>\n",
              "      <td>-231.8</td>\n",
              "      <td>25.3</td>\n",
              "      <td>-10.2</td>\n",
              "      <td>1013820</td>\n",
              "    </tr>\n",
              "    <tr>\n",
              "      <th>4072</th>\n",
              "      <td>Bill Bergen</td>\n",
              "      <td>- - -</td>\n",
              "      <td>947</td>\n",
              "      <td>3228</td>\n",
              "      <td>2</td>\n",
              "      <td>138</td>\n",
              "      <td>193</td>\n",
              "      <td>23.0</td>\n",
              "      <td>2.7%</td>\n",
              "      <td>15.5%</td>\n",
              "      <td>0.031</td>\n",
              "      <td>0.177</td>\n",
              "      <td>0.170</td>\n",
              "      <td>0.194</td>\n",
              "      <td>0.201</td>\n",
              "      <td>0.192</td>\n",
              "      <td>NaN</td>\n",
              "      <td>22</td>\n",
              "      <td>-9.1</td>\n",
              "      <td>-296.3</td>\n",
              "      <td>44.0</td>\n",
              "      <td>-16.2</td>\n",
              "      <td>1000867</td>\n",
              "    </tr>\n",
              "  </tbody>\n",
              "</table>\n",
              "<p>4073 rows × 23 columns</p>\n",
              "</div>"
            ],
            "text/plain": [
              "             Name   Team     G     PA   HR  ...   BsR     Off   Def    WAR playerid\n",
              "0       Babe Ruth  - - -  2503  10616  714  ... -23.4  1347.3 -18.6  168.4  1011327\n",
              "1     Barry Bonds  - - -  2986  12606  762  ...  30.4  1173.8  67.6  164.4     1109\n",
              "...           ...    ...   ...    ...  ...  ...   ...     ...   ...    ...      ...\n",
              "4071  Gus Weyhing  - - -   552   1965    3  ...  -6.5  -231.8  25.3  -10.2  1013820\n",
              "4072  Bill Bergen  - - -   947   3228    2  ...  -9.1  -296.3  44.0  -16.2  1000867\n",
              "\n",
              "[4073 rows x 23 columns]"
            ]
          },
          "metadata": {
            "tags": []
          },
          "execution_count": 16
        }
      ]
    },
    {
      "cell_type": "code",
      "metadata": {
        "colab": {
          "base_uri": "https://localhost:8080/",
          "height": 224
        },
        "id": "id0PbetZoUej",
        "outputId": "104941f9-6cb2-4b08-987f-8e167822dafd"
      },
      "source": [
        "cols = ['WAR', 'K%']          # We will go through the same process again expect now, we will clean the strikeout column \n",
        "K_BATTERS = Batters_df[cols]\n",
        "K_BATTERS"
      ],
      "execution_count": 17,
      "outputs": [
        {
          "output_type": "execute_result",
          "data": {
            "text/html": [
              "<div>\n",
              "<style scoped>\n",
              "    .dataframe tbody tr th:only-of-type {\n",
              "        vertical-align: middle;\n",
              "    }\n",
              "\n",
              "    .dataframe tbody tr th {\n",
              "        vertical-align: top;\n",
              "    }\n",
              "\n",
              "    .dataframe thead th {\n",
              "        text-align: right;\n",
              "    }\n",
              "</style>\n",
              "<table border=\"1\" class=\"dataframe\">\n",
              "  <thead>\n",
              "    <tr style=\"text-align: right;\">\n",
              "      <th></th>\n",
              "      <th>WAR</th>\n",
              "      <th>K%</th>\n",
              "    </tr>\n",
              "  </thead>\n",
              "  <tbody>\n",
              "    <tr>\n",
              "      <th>0</th>\n",
              "      <td>168.4</td>\n",
              "      <td>12.5%</td>\n",
              "    </tr>\n",
              "    <tr>\n",
              "      <th>1</th>\n",
              "      <td>164.4</td>\n",
              "      <td>12.2%</td>\n",
              "    </tr>\n",
              "    <tr>\n",
              "      <th>...</th>\n",
              "      <td>...</td>\n",
              "      <td>...</td>\n",
              "    </tr>\n",
              "    <tr>\n",
              "      <th>4071</th>\n",
              "      <td>-10.2</td>\n",
              "      <td>26.5%</td>\n",
              "    </tr>\n",
              "    <tr>\n",
              "      <th>4072</th>\n",
              "      <td>-16.2</td>\n",
              "      <td>15.5%</td>\n",
              "    </tr>\n",
              "  </tbody>\n",
              "</table>\n",
              "<p>4073 rows × 2 columns</p>\n",
              "</div>"
            ],
            "text/plain": [
              "        WAR     K%\n",
              "0     168.4  12.5%\n",
              "1     164.4  12.2%\n",
              "...     ...    ...\n",
              "4071  -10.2  26.5%\n",
              "4072  -16.2  15.5%\n",
              "\n",
              "[4073 rows x 2 columns]"
            ]
          },
          "metadata": {
            "tags": []
          },
          "execution_count": 17
        }
      ]
    },
    {
      "cell_type": "code",
      "metadata": {
        "colab": {
          "base_uri": "https://localhost:8080/"
        },
        "id": "4BTjjS0Vo_C-",
        "outputId": "6431d80e-f63f-4a1c-9244-564847abbddc"
      },
      "source": [
        "List_Percentages = [str(x).replace('%',' ') for x in K_BATTERS[\"K%\"]]\n",
        "# Create a list with the percents columns and remove the symbol, reinsert the list later. \n",
        "List_Percentages[:10]"
      ],
      "execution_count": 18,
      "outputs": [
        {
          "output_type": "execute_result",
          "data": {
            "text/plain": [
              "['12.5 ',\n",
              " '12.2 ',\n",
              " '12.2 ',\n",
              " '4.1 ',\n",
              " '7.6 ',\n",
              " '9.9 ',\n",
              " '2.3 ',\n",
              " '7.2 ',\n",
              " '7.2 ',\n",
              " '5.5 ']"
            ]
          },
          "metadata": {
            "tags": []
          },
          "execution_count": 18
        }
      ]
    },
    {
      "cell_type": "code",
      "metadata": {
        "colab": {
          "base_uri": "https://localhost:8080/"
        },
        "id": "MyomS41HpG6L",
        "outputId": "ed81f789-f874-4723-ed3b-7a37e5a7d24b"
      },
      "source": [
        "K_BATTERS['Strike Rate']= List_Percentages\n",
        "\n",
        "List_Percentages[:10]\n"
      ],
      "execution_count": 19,
      "outputs": [
        {
          "output_type": "stream",
          "text": [
            "/usr/local/lib/python3.7/dist-packages/ipykernel_launcher.py:1: SettingWithCopyWarning:\n",
            "\n",
            "\n",
            "A value is trying to be set on a copy of a slice from a DataFrame.\n",
            "Try using .loc[row_indexer,col_indexer] = value instead\n",
            "\n",
            "See the caveats in the documentation: https://pandas.pydata.org/pandas-docs/stable/user_guide/indexing.html#returning-a-view-versus-a-copy\n",
            "\n"
          ],
          "name": "stderr"
        },
        {
          "output_type": "execute_result",
          "data": {
            "text/plain": [
              "['12.5 ',\n",
              " '12.2 ',\n",
              " '12.2 ',\n",
              " '4.1 ',\n",
              " '7.6 ',\n",
              " '9.9 ',\n",
              " '2.3 ',\n",
              " '7.2 ',\n",
              " '7.2 ',\n",
              " '5.5 ']"
            ]
          },
          "metadata": {
            "tags": []
          },
          "execution_count": 19
        }
      ]
    },
    {
      "cell_type": "code",
      "metadata": {
        "colab": {
          "base_uri": "https://localhost:8080/",
          "height": 224
        },
        "id": "_0FqgbHDpa9A",
        "outputId": "cb65e540-7f65-46f0-8d26-5fbd00468000"
      },
      "source": [
        "K_BATTERS_2=K_BATTERS.drop(columns=[\"K%\"])\n",
        "K_BATTERS_2"
      ],
      "execution_count": 20,
      "outputs": [
        {
          "output_type": "execute_result",
          "data": {
            "text/html": [
              "<div>\n",
              "<style scoped>\n",
              "    .dataframe tbody tr th:only-of-type {\n",
              "        vertical-align: middle;\n",
              "    }\n",
              "\n",
              "    .dataframe tbody tr th {\n",
              "        vertical-align: top;\n",
              "    }\n",
              "\n",
              "    .dataframe thead th {\n",
              "        text-align: right;\n",
              "    }\n",
              "</style>\n",
              "<table border=\"1\" class=\"dataframe\">\n",
              "  <thead>\n",
              "    <tr style=\"text-align: right;\">\n",
              "      <th></th>\n",
              "      <th>WAR</th>\n",
              "      <th>Strike Rate</th>\n",
              "    </tr>\n",
              "  </thead>\n",
              "  <tbody>\n",
              "    <tr>\n",
              "      <th>0</th>\n",
              "      <td>168.4</td>\n",
              "      <td>12.5</td>\n",
              "    </tr>\n",
              "    <tr>\n",
              "      <th>1</th>\n",
              "      <td>164.4</td>\n",
              "      <td>12.2</td>\n",
              "    </tr>\n",
              "    <tr>\n",
              "      <th>...</th>\n",
              "      <td>...</td>\n",
              "      <td>...</td>\n",
              "    </tr>\n",
              "    <tr>\n",
              "      <th>4071</th>\n",
              "      <td>-10.2</td>\n",
              "      <td>26.5</td>\n",
              "    </tr>\n",
              "    <tr>\n",
              "      <th>4072</th>\n",
              "      <td>-16.2</td>\n",
              "      <td>15.5</td>\n",
              "    </tr>\n",
              "  </tbody>\n",
              "</table>\n",
              "<p>4073 rows × 2 columns</p>\n",
              "</div>"
            ],
            "text/plain": [
              "        WAR Strike Rate\n",
              "0     168.4       12.5 \n",
              "1     164.4       12.2 \n",
              "...     ...         ...\n",
              "4071  -10.2       26.5 \n",
              "4072  -16.2       15.5 \n",
              "\n",
              "[4073 rows x 2 columns]"
            ]
          },
          "metadata": {
            "tags": []
          },
          "execution_count": 20
        }
      ]
    },
    {
      "cell_type": "code",
      "metadata": {
        "id": "cxWN83pBplRl"
      },
      "source": [
        "K_BATTERS_3=K_BATTERS_2.astype(float)"
      ],
      "execution_count": 21,
      "outputs": []
    },
    {
      "cell_type": "code",
      "metadata": {
        "colab": {
          "base_uri": "https://localhost:8080/",
          "height": 596
        },
        "id": "qtjPRGUmpv57",
        "outputId": "1d69001b-2b01-4f65-f6e3-c1a279a39657"
      },
      "source": [
        "corrMatrix = K_BATTERS_3.corr() # This correlation is much weaker, but negative as expected \n",
        "\n",
        "sn.heatmap(corrMatrix, annot=True)\n",
        "\n",
        "plt.show()"
      ],
      "execution_count": 22,
      "outputs": [
        {
          "output_type": "display_data",
          "data": {
            "image/png": "[encoded data removed]",
            "text/plain": [
              "<Figure size 720x720 with 2 Axes>"
            ]
          },
          "metadata": {
            "tags": [],
            "needs_background": "light"
          }
        }
      ]
    },
    {
      "cell_type": "markdown",
      "metadata": {
        "id": "TcHAWRmfqGYt"
      },
      "source": [
        "### Pitchers Value versus Strikeouts \n",
        "\n",
        "\n"
      ]
    },
    {
      "cell_type": "code",
      "metadata": {
        "colab": {
          "base_uri": "https://localhost:8080/",
          "height": 224
        },
        "id": "FbXPDUSTsc3S",
        "outputId": "be36e4da-af6c-4713-ffe3-5befb4a234a3"
      },
      "source": [
        "K_df=pd.read_csv(\"FanGraphs Leaderboard (1).csv\") # The main file we will use and manipulate for pitchers, no need to cleanse columns here fortunately  \n",
        "K_df"
      ],
      "execution_count": 23,
      "outputs": [
        {
          "output_type": "execute_result",
          "data": {
            "text/html": [
              "<div>\n",
              "<style scoped>\n",
              "    .dataframe tbody tr th:only-of-type {\n",
              "        vertical-align: middle;\n",
              "    }\n",
              "\n",
              "    .dataframe tbody tr th {\n",
              "        vertical-align: top;\n",
              "    }\n",
              "\n",
              "    .dataframe thead th {\n",
              "        text-align: right;\n",
              "    }\n",
              "</style>\n",
              "<table border=\"1\" class=\"dataframe\">\n",
              "  <thead>\n",
              "    <tr style=\"text-align: right;\">\n",
              "      <th></th>\n",
              "      <th>Name</th>\n",
              "      <th>Team</th>\n",
              "      <th>W</th>\n",
              "      <th>L</th>\n",
              "      <th>SV</th>\n",
              "      <th>G</th>\n",
              "      <th>GS</th>\n",
              "      <th>IP</th>\n",
              "      <th>K/9</th>\n",
              "      <th>BB/9</th>\n",
              "      <th>HR/9</th>\n",
              "      <th>BABIP</th>\n",
              "      <th>LOB%</th>\n",
              "      <th>GB%</th>\n",
              "      <th>HR/FB</th>\n",
              "      <th>vFA (pi)</th>\n",
              "      <th>ERA</th>\n",
              "      <th>xERA</th>\n",
              "      <th>FIP</th>\n",
              "      <th>xFIP</th>\n",
              "      <th>WAR</th>\n",
              "      <th>playerid</th>\n",
              "    </tr>\n",
              "  </thead>\n",
              "  <tbody>\n",
              "    <tr>\n",
              "      <th>0</th>\n",
              "      <td>Roger Clemens</td>\n",
              "      <td>- - -</td>\n",
              "      <td>354</td>\n",
              "      <td>184</td>\n",
              "      <td>0</td>\n",
              "      <td>709</td>\n",
              "      <td>707</td>\n",
              "      <td>4916.2</td>\n",
              "      <td>8.55</td>\n",
              "      <td>2.89</td>\n",
              "      <td>0.66</td>\n",
              "      <td>0.284</td>\n",
              "      <td>74.6%</td>\n",
              "      <td>46.8%</td>\n",
              "      <td>8.9%</td>\n",
              "      <td>91.4</td>\n",
              "      <td>3.12</td>\n",
              "      <td>NaN</td>\n",
              "      <td>3.09</td>\n",
              "      <td>3.50</td>\n",
              "      <td>133.7</td>\n",
              "      <td>815</td>\n",
              "    </tr>\n",
              "    <tr>\n",
              "      <th>1</th>\n",
              "      <td>Cy Young</td>\n",
              "      <td>- - -</td>\n",
              "      <td>511</td>\n",
              "      <td>316</td>\n",
              "      <td>17</td>\n",
              "      <td>906</td>\n",
              "      <td>815</td>\n",
              "      <td>7354.2</td>\n",
              "      <td>3.43</td>\n",
              "      <td>1.49</td>\n",
              "      <td>0.17</td>\n",
              "      <td>0.279</td>\n",
              "      <td>64.1%</td>\n",
              "      <td>NaN</td>\n",
              "      <td>NaN</td>\n",
              "      <td>NaN</td>\n",
              "      <td>2.63</td>\n",
              "      <td>NaN</td>\n",
              "      <td>2.82</td>\n",
              "      <td>NaN</td>\n",
              "      <td>131.5</td>\n",
              "      <td>1014369</td>\n",
              "    </tr>\n",
              "    <tr>\n",
              "      <th>...</th>\n",
              "      <td>...</td>\n",
              "      <td>...</td>\n",
              "      <td>...</td>\n",
              "      <td>...</td>\n",
              "      <td>...</td>\n",
              "      <td>...</td>\n",
              "      <td>...</td>\n",
              "      <td>...</td>\n",
              "      <td>...</td>\n",
              "      <td>...</td>\n",
              "      <td>...</td>\n",
              "      <td>...</td>\n",
              "      <td>...</td>\n",
              "      <td>...</td>\n",
              "      <td>...</td>\n",
              "      <td>...</td>\n",
              "      <td>...</td>\n",
              "      <td>...</td>\n",
              "      <td>...</td>\n",
              "      <td>...</td>\n",
              "      <td>...</td>\n",
              "      <td>...</td>\n",
              "    </tr>\n",
              "    <tr>\n",
              "      <th>3158</th>\n",
              "      <td>Pat Mahomes</td>\n",
              "      <td>- - -</td>\n",
              "      <td>42</td>\n",
              "      <td>39</td>\n",
              "      <td>5</td>\n",
              "      <td>308</td>\n",
              "      <td>63</td>\n",
              "      <td>709.0</td>\n",
              "      <td>5.74</td>\n",
              "      <td>4.98</td>\n",
              "      <td>1.47</td>\n",
              "      <td>0.284</td>\n",
              "      <td>69.5%</td>\n",
              "      <td>38.6%</td>\n",
              "      <td>6.8%</td>\n",
              "      <td>NaN</td>\n",
              "      <td>5.47</td>\n",
              "      <td>NaN</td>\n",
              "      <td>5.62</td>\n",
              "      <td>5.19</td>\n",
              "      <td>-3.0</td>\n",
              "      <td>291</td>\n",
              "    </tr>\n",
              "    <tr>\n",
              "      <th>3159</th>\n",
              "      <td>Alan Mills</td>\n",
              "      <td>- - -</td>\n",
              "      <td>39</td>\n",
              "      <td>32</td>\n",
              "      <td>15</td>\n",
              "      <td>474</td>\n",
              "      <td>5</td>\n",
              "      <td>636.0</td>\n",
              "      <td>6.45</td>\n",
              "      <td>5.59</td>\n",
              "      <td>1.17</td>\n",
              "      <td>0.265</td>\n",
              "      <td>78.4%</td>\n",
              "      <td>NaN</td>\n",
              "      <td>NaN</td>\n",
              "      <td>NaN</td>\n",
              "      <td>4.12</td>\n",
              "      <td>NaN</td>\n",
              "      <td>5.25</td>\n",
              "      <td>NaN</td>\n",
              "      <td>-3.6</td>\n",
              "      <td>1008949</td>\n",
              "    </tr>\n",
              "  </tbody>\n",
              "</table>\n",
              "<p>3160 rows × 22 columns</p>\n",
              "</div>"
            ],
            "text/plain": [
              "               Name   Team    W    L  SV  ...  xERA   FIP  xFIP    WAR  playerid\n",
              "0     Roger Clemens  - - -  354  184   0  ...   NaN  3.09  3.50  133.7       815\n",
              "1          Cy Young  - - -  511  316  17  ...   NaN  2.82   NaN  131.5   1014369\n",
              "...             ...    ...  ...  ...  ..  ...   ...   ...   ...    ...       ...\n",
              "3158    Pat Mahomes  - - -   42   39   5  ...   NaN  5.62  5.19   -3.0       291\n",
              "3159     Alan Mills  - - -   39   32  15  ...   NaN  5.25   NaN   -3.6   1008949\n",
              "\n",
              "[3160 rows x 22 columns]"
            ]
          },
          "metadata": {
            "tags": []
          },
          "execution_count": 23
        }
      ]
    },
    {
      "cell_type": "code",
      "metadata": {
        "colab": {
          "base_uri": "https://localhost:8080/",
          "height": 224
        },
        "id": "1pLmu-l7tklA",
        "outputId": "572b477b-6feb-4fe4-9519-83e81de97536"
      },
      "source": [
        "cols = ['WAR', 'K/9']\n",
        "K_RATE__BATTERS = K_df[cols]\n",
        "K_RATE__BATTERS"
      ],
      "execution_count": 24,
      "outputs": [
        {
          "output_type": "execute_result",
          "data": {
            "text/html": [
              "<div>\n",
              "<style scoped>\n",
              "    .dataframe tbody tr th:only-of-type {\n",
              "        vertical-align: middle;\n",
              "    }\n",
              "\n",
              "    .dataframe tbody tr th {\n",
              "        vertical-align: top;\n",
              "    }\n",
              "\n",
              "    .dataframe thead th {\n",
              "        text-align: right;\n",
              "    }\n",
              "</style>\n",
              "<table border=\"1\" class=\"dataframe\">\n",
              "  <thead>\n",
              "    <tr style=\"text-align: right;\">\n",
              "      <th></th>\n",
              "      <th>WAR</th>\n",
              "      <th>K/9</th>\n",
              "    </tr>\n",
              "  </thead>\n",
              "  <tbody>\n",
              "    <tr>\n",
              "      <th>0</th>\n",
              "      <td>133.7</td>\n",
              "      <td>8.55</td>\n",
              "    </tr>\n",
              "    <tr>\n",
              "      <th>1</th>\n",
              "      <td>131.5</td>\n",
              "      <td>3.43</td>\n",
              "    </tr>\n",
              "    <tr>\n",
              "      <th>...</th>\n",
              "      <td>...</td>\n",
              "      <td>...</td>\n",
              "    </tr>\n",
              "    <tr>\n",
              "      <th>3158</th>\n",
              "      <td>-3.0</td>\n",
              "      <td>5.74</td>\n",
              "    </tr>\n",
              "    <tr>\n",
              "      <th>3159</th>\n",
              "      <td>-3.6</td>\n",
              "      <td>6.45</td>\n",
              "    </tr>\n",
              "  </tbody>\n",
              "</table>\n",
              "<p>3160 rows × 2 columns</p>\n",
              "</div>"
            ],
            "text/plain": [
              "        WAR   K/9\n",
              "0     133.7  8.55\n",
              "1     131.5  3.43\n",
              "...     ...   ...\n",
              "3158   -3.0  5.74\n",
              "3159   -3.6  6.45\n",
              "\n",
              "[3160 rows x 2 columns]"
            ]
          },
          "metadata": {
            "tags": []
          },
          "execution_count": 24
        }
      ]
    },
    {
      "cell_type": "code",
      "metadata": {
        "colab": {
          "base_uri": "https://localhost:8080/",
          "height": 106
        },
        "id": "NOEPAsvPtxzv",
        "outputId": "8c90c9d2-8053-45d6-e62a-cdff258e5080"
      },
      "source": [
        "K_RATE__BATTERS.corr(method ='pearson')"
      ],
      "execution_count": 25,
      "outputs": [
        {
          "output_type": "execute_result",
          "data": {
            "text/html": [
              "<div>\n",
              "<style scoped>\n",
              "    .dataframe tbody tr th:only-of-type {\n",
              "        vertical-align: middle;\n",
              "    }\n",
              "\n",
              "    .dataframe tbody tr th {\n",
              "        vertical-align: top;\n",
              "    }\n",
              "\n",
              "    .dataframe thead th {\n",
              "        text-align: right;\n",
              "    }\n",
              "</style>\n",
              "<table border=\"1\" class=\"dataframe\">\n",
              "  <thead>\n",
              "    <tr style=\"text-align: right;\">\n",
              "      <th></th>\n",
              "      <th>WAR</th>\n",
              "      <th>K/9</th>\n",
              "    </tr>\n",
              "  </thead>\n",
              "  <tbody>\n",
              "    <tr>\n",
              "      <th>WAR</th>\n",
              "      <td>1.000000</td>\n",
              "      <td>0.044549</td>\n",
              "    </tr>\n",
              "    <tr>\n",
              "      <th>K/9</th>\n",
              "      <td>0.044549</td>\n",
              "      <td>1.000000</td>\n",
              "    </tr>\n",
              "  </tbody>\n",
              "</table>\n",
              "</div>"
            ],
            "text/plain": [
              "          WAR       K/9\n",
              "WAR  1.000000  0.044549\n",
              "K/9  0.044549  1.000000"
            ]
          },
          "metadata": {
            "tags": []
          },
          "execution_count": 25
        }
      ]
    },
    {
      "cell_type": "code",
      "metadata": {
        "colab": {
          "base_uri": "https://localhost:8080/",
          "height": 596
        },
        "id": "qmv0M7sU41Nu",
        "outputId": "47610cbe-3f5a-43d6-cd5a-1bb20ee3bfe7"
      },
      "source": [
        "corrMatrix = K_RATE__BATTERS.corr() # Almost no correlation \n",
        "\n",
        "sn.heatmap(corrMatrix, annot=True)\n",
        "\n",
        "plt.show()"
      ],
      "execution_count": 26,
      "outputs": [
        {
          "output_type": "display_data",
          "data": {
            "image/png": "[encoded data removed]",
            "text/plain": [
              "<Figure size 720x720 with 2 Axes>"
            ]
          },
          "metadata": {
            "tags": [],
            "needs_background": "light"
          }
        }
      ]
    },
    {
      "cell_type": "markdown",
      "metadata": {
        "id": "ozGgsBw6un5u"
      },
      "source": [
        "### Pitchers Value versus Walk Rate"
      ]
    },
    {
      "cell_type": "code",
      "metadata": {
        "colab": {
          "base_uri": "https://localhost:8080/",
          "height": 224
        },
        "id": "p8qy138uuqOA",
        "outputId": "461b472a-bab3-43a1-dede-7a858ee3a035"
      },
      "source": [
        "K_df_2=pd.read_csv(\"FanGraphs Leaderboard (1).csv\") # The main file we will use and manipulate for pitachers and Walks \n",
        "K_df_2"
      ],
      "execution_count": 27,
      "outputs": [
        {
          "output_type": "execute_result",
          "data": {
            "text/html": [
              "<div>\n",
              "<style scoped>\n",
              "    .dataframe tbody tr th:only-of-type {\n",
              "        vertical-align: middle;\n",
              "    }\n",
              "\n",
              "    .dataframe tbody tr th {\n",
              "        vertical-align: top;\n",
              "    }\n",
              "\n",
              "    .dataframe thead th {\n",
              "        text-align: right;\n",
              "    }\n",
              "</style>\n",
              "<table border=\"1\" class=\"dataframe\">\n",
              "  <thead>\n",
              "    <tr style=\"text-align: right;\">\n",
              "      <th></th>\n",
              "      <th>Name</th>\n",
              "      <th>Team</th>\n",
              "      <th>W</th>\n",
              "      <th>L</th>\n",
              "      <th>SV</th>\n",
              "      <th>G</th>\n",
              "      <th>GS</th>\n",
              "      <th>IP</th>\n",
              "      <th>K/9</th>\n",
              "      <th>BB/9</th>\n",
              "      <th>HR/9</th>\n",
              "      <th>BABIP</th>\n",
              "      <th>LOB%</th>\n",
              "      <th>GB%</th>\n",
              "      <th>HR/FB</th>\n",
              "      <th>vFA (pi)</th>\n",
              "      <th>ERA</th>\n",
              "      <th>xERA</th>\n",
              "      <th>FIP</th>\n",
              "      <th>xFIP</th>\n",
              "      <th>WAR</th>\n",
              "      <th>playerid</th>\n",
              "    </tr>\n",
              "  </thead>\n",
              "  <tbody>\n",
              "    <tr>\n",
              "      <th>0</th>\n",
              "      <td>Roger Clemens</td>\n",
              "      <td>- - -</td>\n",
              "      <td>354</td>\n",
              "      <td>184</td>\n",
              "      <td>0</td>\n",
              "      <td>709</td>\n",
              "      <td>707</td>\n",
              "      <td>4916.2</td>\n",
              "      <td>8.55</td>\n",
              "      <td>2.89</td>\n",
              "      <td>0.66</td>\n",
              "      <td>0.284</td>\n",
              "      <td>74.6%</td>\n",
              "      <td>46.8%</td>\n",
              "      <td>8.9%</td>\n",
              "      <td>91.4</td>\n",
              "      <td>3.12</td>\n",
              "      <td>NaN</td>\n",
              "      <td>3.09</td>\n",
              "      <td>3.50</td>\n",
              "      <td>133.7</td>\n",
              "      <td>815</td>\n",
              "    </tr>\n",
              "    <tr>\n",
              "      <th>1</th>\n",
              "      <td>Cy Young</td>\n",
              "      <td>- - -</td>\n",
              "      <td>511</td>\n",
              "      <td>316</td>\n",
              "      <td>17</td>\n",
              "      <td>906</td>\n",
              "      <td>815</td>\n",
              "      <td>7354.2</td>\n",
              "      <td>3.43</td>\n",
              "      <td>1.49</td>\n",
              "      <td>0.17</td>\n",
              "      <td>0.279</td>\n",
              "      <td>64.1%</td>\n",
              "      <td>NaN</td>\n",
              "      <td>NaN</td>\n",
              "      <td>NaN</td>\n",
              "      <td>2.63</td>\n",
              "      <td>NaN</td>\n",
              "      <td>2.82</td>\n",
              "      <td>NaN</td>\n",
              "      <td>131.5</td>\n",
              "      <td>1014369</td>\n",
              "    </tr>\n",
              "    <tr>\n",
              "      <th>...</th>\n",
              "      <td>...</td>\n",
              "      <td>...</td>\n",
              "      <td>...</td>\n",
              "      <td>...</td>\n",
              "      <td>...</td>\n",
              "      <td>...</td>\n",
              "      <td>...</td>\n",
              "      <td>...</td>\n",
              "      <td>...</td>\n",
              "      <td>...</td>\n",
              "      <td>...</td>\n",
              "      <td>...</td>\n",
              "      <td>...</td>\n",
              "      <td>...</td>\n",
              "      <td>...</td>\n",
              "      <td>...</td>\n",
              "      <td>...</td>\n",
              "      <td>...</td>\n",
              "      <td>...</td>\n",
              "      <td>...</td>\n",
              "      <td>...</td>\n",
              "      <td>...</td>\n",
              "    </tr>\n",
              "    <tr>\n",
              "      <th>3158</th>\n",
              "      <td>Pat Mahomes</td>\n",
              "      <td>- - -</td>\n",
              "      <td>42</td>\n",
              "      <td>39</td>\n",
              "      <td>5</td>\n",
              "      <td>308</td>\n",
              "      <td>63</td>\n",
              "      <td>709.0</td>\n",
              "      <td>5.74</td>\n",
              "      <td>4.98</td>\n",
              "      <td>1.47</td>\n",
              "      <td>0.284</td>\n",
              "      <td>69.5%</td>\n",
              "      <td>38.6%</td>\n",
              "      <td>6.8%</td>\n",
              "      <td>NaN</td>\n",
              "      <td>5.47</td>\n",
              "      <td>NaN</td>\n",
              "      <td>5.62</td>\n",
              "      <td>5.19</td>\n",
              "      <td>-3.0</td>\n",
              "      <td>291</td>\n",
              "    </tr>\n",
              "    <tr>\n",
              "      <th>3159</th>\n",
              "      <td>Alan Mills</td>\n",
              "      <td>- - -</td>\n",
              "      <td>39</td>\n",
              "      <td>32</td>\n",
              "      <td>15</td>\n",
              "      <td>474</td>\n",
              "      <td>5</td>\n",
              "      <td>636.0</td>\n",
              "      <td>6.45</td>\n",
              "      <td>5.59</td>\n",
              "      <td>1.17</td>\n",
              "      <td>0.265</td>\n",
              "      <td>78.4%</td>\n",
              "      <td>NaN</td>\n",
              "      <td>NaN</td>\n",
              "      <td>NaN</td>\n",
              "      <td>4.12</td>\n",
              "      <td>NaN</td>\n",
              "      <td>5.25</td>\n",
              "      <td>NaN</td>\n",
              "      <td>-3.6</td>\n",
              "      <td>1008949</td>\n",
              "    </tr>\n",
              "  </tbody>\n",
              "</table>\n",
              "<p>3160 rows × 22 columns</p>\n",
              "</div>"
            ],
            "text/plain": [
              "               Name   Team    W    L  SV  ...  xERA   FIP  xFIP    WAR  playerid\n",
              "0     Roger Clemens  - - -  354  184   0  ...   NaN  3.09  3.50  133.7       815\n",
              "1          Cy Young  - - -  511  316  17  ...   NaN  2.82   NaN  131.5   1014369\n",
              "...             ...    ...  ...  ...  ..  ...   ...   ...   ...    ...       ...\n",
              "3158    Pat Mahomes  - - -   42   39   5  ...   NaN  5.62  5.19   -3.0       291\n",
              "3159     Alan Mills  - - -   39   32  15  ...   NaN  5.25   NaN   -3.6   1008949\n",
              "\n",
              "[3160 rows x 22 columns]"
            ]
          },
          "metadata": {
            "tags": []
          },
          "execution_count": 27
        }
      ]
    },
    {
      "cell_type": "code",
      "metadata": {
        "colab": {
          "base_uri": "https://localhost:8080/",
          "height": 224
        },
        "id": "dwZ2a36euuVZ",
        "outputId": "c281e770-7a1b-49ee-9d22-61715b16467b"
      },
      "source": [
        "cols = ['WAR', 'BB/9']\n",
        "B_RATE__BATTERS = K_df_2[cols]\n",
        "B_RATE__BATTERS"
      ],
      "execution_count": 28,
      "outputs": [
        {
          "output_type": "execute_result",
          "data": {
            "text/html": [
              "<div>\n",
              "<style scoped>\n",
              "    .dataframe tbody tr th:only-of-type {\n",
              "        vertical-align: middle;\n",
              "    }\n",
              "\n",
              "    .dataframe tbody tr th {\n",
              "        vertical-align: top;\n",
              "    }\n",
              "\n",
              "    .dataframe thead th {\n",
              "        text-align: right;\n",
              "    }\n",
              "</style>\n",
              "<table border=\"1\" class=\"dataframe\">\n",
              "  <thead>\n",
              "    <tr style=\"text-align: right;\">\n",
              "      <th></th>\n",
              "      <th>WAR</th>\n",
              "      <th>BB/9</th>\n",
              "    </tr>\n",
              "  </thead>\n",
              "  <tbody>\n",
              "    <tr>\n",
              "      <th>0</th>\n",
              "      <td>133.7</td>\n",
              "      <td>2.89</td>\n",
              "    </tr>\n",
              "    <tr>\n",
              "      <th>1</th>\n",
              "      <td>131.5</td>\n",
              "      <td>1.49</td>\n",
              "    </tr>\n",
              "    <tr>\n",
              "      <th>...</th>\n",
              "      <td>...</td>\n",
              "      <td>...</td>\n",
              "    </tr>\n",
              "    <tr>\n",
              "      <th>3158</th>\n",
              "      <td>-3.0</td>\n",
              "      <td>4.98</td>\n",
              "    </tr>\n",
              "    <tr>\n",
              "      <th>3159</th>\n",
              "      <td>-3.6</td>\n",
              "      <td>5.59</td>\n",
              "    </tr>\n",
              "  </tbody>\n",
              "</table>\n",
              "<p>3160 rows × 2 columns</p>\n",
              "</div>"
            ],
            "text/plain": [
              "        WAR  BB/9\n",
              "0     133.7  2.89\n",
              "1     131.5  1.49\n",
              "...     ...   ...\n",
              "3158   -3.0  4.98\n",
              "3159   -3.6  5.59\n",
              "\n",
              "[3160 rows x 2 columns]"
            ]
          },
          "metadata": {
            "tags": []
          },
          "execution_count": 28
        }
      ]
    },
    {
      "cell_type": "code",
      "metadata": {
        "colab": {
          "base_uri": "https://localhost:8080/",
          "height": 106
        },
        "id": "TJE3J89cvynL",
        "outputId": "6ac8cd12-5452-4362-c6ae-893d401b4614"
      },
      "source": [
        "B_RATE__BATTERS.corr(method ='pearson')"
      ],
      "execution_count": 29,
      "outputs": [
        {
          "output_type": "execute_result",
          "data": {
            "text/html": [
              "<div>\n",
              "<style scoped>\n",
              "    .dataframe tbody tr th:only-of-type {\n",
              "        vertical-align: middle;\n",
              "    }\n",
              "\n",
              "    .dataframe tbody tr th {\n",
              "        vertical-align: top;\n",
              "    }\n",
              "\n",
              "    .dataframe thead th {\n",
              "        text-align: right;\n",
              "    }\n",
              "</style>\n",
              "<table border=\"1\" class=\"dataframe\">\n",
              "  <thead>\n",
              "    <tr style=\"text-align: right;\">\n",
              "      <th></th>\n",
              "      <th>WAR</th>\n",
              "      <th>BB/9</th>\n",
              "    </tr>\n",
              "  </thead>\n",
              "  <tbody>\n",
              "    <tr>\n",
              "      <th>WAR</th>\n",
              "      <td>1.000000</td>\n",
              "      <td>-0.359689</td>\n",
              "    </tr>\n",
              "    <tr>\n",
              "      <th>BB/9</th>\n",
              "      <td>-0.359689</td>\n",
              "      <td>1.000000</td>\n",
              "    </tr>\n",
              "  </tbody>\n",
              "</table>\n",
              "</div>"
            ],
            "text/plain": [
              "           WAR      BB/9\n",
              "WAR   1.000000 -0.359689\n",
              "BB/9 -0.359689  1.000000"
            ]
          },
          "metadata": {
            "tags": []
          },
          "execution_count": 29
        }
      ]
    },
    {
      "cell_type": "code",
      "metadata": {
        "colab": {
          "base_uri": "https://localhost:8080/",
          "height": 595
        },
        "id": "vtVj8v5448gi",
        "outputId": "5dded3ae-b095-4d80-dbf3-e1431761d4a2"
      },
      "source": [
        "corrMatrix = B_RATE__BATTERS.corr() # Moderate correlation as walks go up, sometimes value goes down \n",
        "\n",
        "sn.heatmap(corrMatrix, annot=True)\n",
        "\n",
        "plt.show()"
      ],
      "execution_count": 30,
      "outputs": [
        {
          "output_type": "display_data",
          "data": {
            "image/png": "[encoded data removed]",
            "text/plain": [
              "<Figure size 720x720 with 2 Axes>"
            ]
          },
          "metadata": {
            "tags": [],
            "needs_background": "light"
          }
        }
      ]
    },
    {
      "cell_type": "markdown",
      "metadata": {
        "id": "p6AH0seA9ryR"
      },
      "source": [
        "## Question 1 Value per 162 games "
      ]
    },
    {
      "cell_type": "markdown",
      "metadata": {
        "id": "k7RL2jTu6Inj"
      },
      "source": [
        " Do  pitchers or batters (hitters) have more value on a per game basis? If so, predict pitcher and batter value over a 162 game season. "
      ]
    },
    {
      "cell_type": "code",
      "metadata": {
        "id": "Ttx5fek794Hn",
        "colab": {
          "base_uri": "https://localhost:8080/",
          "height": 402
        },
        "outputId": "224932ac-8d35-46bc-90ef-ed9796049cd0"
      },
      "source": [
        "K_df_2=pd.read_csv(\"FanGraphs Leaderboard (1).csv\") # The main file we will use and manipulate and used before \n",
        "K_df_2"
      ],
      "execution_count": 72,
      "outputs": [
        {
          "output_type": "execute_result",
          "data": {
            "text/html": [
              "<div>\n",
              "<style scoped>\n",
              "    .dataframe tbody tr th:only-of-type {\n",
              "        vertical-align: middle;\n",
              "    }\n",
              "\n",
              "    .dataframe tbody tr th {\n",
              "        vertical-align: top;\n",
              "    }\n",
              "\n",
              "    .dataframe thead th {\n",
              "        text-align: right;\n",
              "    }\n",
              "</style>\n",
              "<table border=\"1\" class=\"dataframe\">\n",
              "  <thead>\n",
              "    <tr style=\"text-align: right;\">\n",
              "      <th></th>\n",
              "      <th>Name</th>\n",
              "      <th>Team</th>\n",
              "      <th>W</th>\n",
              "      <th>L</th>\n",
              "      <th>SV</th>\n",
              "      <th>G</th>\n",
              "      <th>GS</th>\n",
              "      <th>IP</th>\n",
              "      <th>K/9</th>\n",
              "      <th>BB/9</th>\n",
              "      <th>HR/9</th>\n",
              "      <th>BABIP</th>\n",
              "      <th>LOB%</th>\n",
              "      <th>GB%</th>\n",
              "      <th>HR/FB</th>\n",
              "      <th>vFA (pi)</th>\n",
              "      <th>ERA</th>\n",
              "      <th>xERA</th>\n",
              "      <th>FIP</th>\n",
              "      <th>xFIP</th>\n",
              "      <th>WAR</th>\n",
              "      <th>playerid</th>\n",
              "    </tr>\n",
              "  </thead>\n",
              "  <tbody>\n",
              "    <tr>\n",
              "      <th>0</th>\n",
              "      <td>Roger Clemens</td>\n",
              "      <td>- - -</td>\n",
              "      <td>354</td>\n",
              "      <td>184</td>\n",
              "      <td>0</td>\n",
              "      <td>709</td>\n",
              "      <td>707</td>\n",
              "      <td>4916.2</td>\n",
              "      <td>8.55</td>\n",
              "      <td>2.89</td>\n",
              "      <td>0.66</td>\n",
              "      <td>0.284</td>\n",
              "      <td>74.6%</td>\n",
              "      <td>46.8%</td>\n",
              "      <td>8.9%</td>\n",
              "      <td>91.4</td>\n",
              "      <td>3.12</td>\n",
              "      <td>NaN</td>\n",
              "      <td>3.09</td>\n",
              "      <td>3.50</td>\n",
              "      <td>133.7</td>\n",
              "      <td>815</td>\n",
              "    </tr>\n",
              "    <tr>\n",
              "      <th>1</th>\n",
              "      <td>Cy Young</td>\n",
              "      <td>- - -</td>\n",
              "      <td>511</td>\n",
              "      <td>316</td>\n",
              "      <td>17</td>\n",
              "      <td>906</td>\n",
              "      <td>815</td>\n",
              "      <td>7354.2</td>\n",
              "      <td>3.43</td>\n",
              "      <td>1.49</td>\n",
              "      <td>0.17</td>\n",
              "      <td>0.279</td>\n",
              "      <td>64.1%</td>\n",
              "      <td>NaN</td>\n",
              "      <td>NaN</td>\n",
              "      <td>NaN</td>\n",
              "      <td>2.63</td>\n",
              "      <td>NaN</td>\n",
              "      <td>2.82</td>\n",
              "      <td>NaN</td>\n",
              "      <td>131.5</td>\n",
              "      <td>1014369</td>\n",
              "    </tr>\n",
              "    <tr>\n",
              "      <th>2</th>\n",
              "      <td>Walter Johnson</td>\n",
              "      <td>WAS</td>\n",
              "      <td>417</td>\n",
              "      <td>279</td>\n",
              "      <td>34</td>\n",
              "      <td>802</td>\n",
              "      <td>666</td>\n",
              "      <td>5914.2</td>\n",
              "      <td>5.34</td>\n",
              "      <td>2.07</td>\n",
              "      <td>0.15</td>\n",
              "      <td>0.264</td>\n",
              "      <td>72.2%</td>\n",
              "      <td>NaN</td>\n",
              "      <td>NaN</td>\n",
              "      <td>NaN</td>\n",
              "      <td>2.17</td>\n",
              "      <td>NaN</td>\n",
              "      <td>2.36</td>\n",
              "      <td>NaN</td>\n",
              "      <td>117.1</td>\n",
              "      <td>1006511</td>\n",
              "    </tr>\n",
              "    <tr>\n",
              "      <th>3</th>\n",
              "      <td>Greg Maddux</td>\n",
              "      <td>- - -</td>\n",
              "      <td>355</td>\n",
              "      <td>227</td>\n",
              "      <td>0</td>\n",
              "      <td>744</td>\n",
              "      <td>740</td>\n",
              "      <td>5008.1</td>\n",
              "      <td>6.06</td>\n",
              "      <td>1.80</td>\n",
              "      <td>0.63</td>\n",
              "      <td>0.281</td>\n",
              "      <td>72.3%</td>\n",
              "      <td>51.5%</td>\n",
              "      <td>12.0%</td>\n",
              "      <td>81.0</td>\n",
              "      <td>3.16</td>\n",
              "      <td>NaN</td>\n",
              "      <td>3.26</td>\n",
              "      <td>3.73</td>\n",
              "      <td>116.7</td>\n",
              "      <td>104</td>\n",
              "    </tr>\n",
              "    <tr>\n",
              "      <th>4</th>\n",
              "      <td>Randy Johnson</td>\n",
              "      <td>- - -</td>\n",
              "      <td>303</td>\n",
              "      <td>166</td>\n",
              "      <td>2</td>\n",
              "      <td>618</td>\n",
              "      <td>603</td>\n",
              "      <td>4135.1</td>\n",
              "      <td>10.61</td>\n",
              "      <td>3.26</td>\n",
              "      <td>0.89</td>\n",
              "      <td>0.291</td>\n",
              "      <td>74.7%</td>\n",
              "      <td>43.2%</td>\n",
              "      <td>12.0%</td>\n",
              "      <td>91.2</td>\n",
              "      <td>3.29</td>\n",
              "      <td>NaN</td>\n",
              "      <td>3.19</td>\n",
              "      <td>3.23</td>\n",
              "      <td>110.4</td>\n",
              "      <td>60</td>\n",
              "    </tr>\n",
              "    <tr>\n",
              "      <th>...</th>\n",
              "      <td>...</td>\n",
              "      <td>...</td>\n",
              "      <td>...</td>\n",
              "      <td>...</td>\n",
              "      <td>...</td>\n",
              "      <td>...</td>\n",
              "      <td>...</td>\n",
              "      <td>...</td>\n",
              "      <td>...</td>\n",
              "      <td>...</td>\n",
              "      <td>...</td>\n",
              "      <td>...</td>\n",
              "      <td>...</td>\n",
              "      <td>...</td>\n",
              "      <td>...</td>\n",
              "      <td>...</td>\n",
              "      <td>...</td>\n",
              "      <td>...</td>\n",
              "      <td>...</td>\n",
              "      <td>...</td>\n",
              "      <td>...</td>\n",
              "      <td>...</td>\n",
              "    </tr>\n",
              "    <tr>\n",
              "      <th>3155</th>\n",
              "      <td>Lowell Palmer</td>\n",
              "      <td>- - -</td>\n",
              "      <td>5</td>\n",
              "      <td>18</td>\n",
              "      <td>0</td>\n",
              "      <td>106</td>\n",
              "      <td>25</td>\n",
              "      <td>316.2</td>\n",
              "      <td>6.79</td>\n",
              "      <td>5.74</td>\n",
              "      <td>1.17</td>\n",
              "      <td>0.279</td>\n",
              "      <td>70.5%</td>\n",
              "      <td>NaN</td>\n",
              "      <td>NaN</td>\n",
              "      <td>NaN</td>\n",
              "      <td>5.29</td>\n",
              "      <td>NaN</td>\n",
              "      <td>4.86</td>\n",
              "      <td>NaN</td>\n",
              "      <td>-2.3</td>\n",
              "      <td>1009974</td>\n",
              "    </tr>\n",
              "    <tr>\n",
              "      <th>3156</th>\n",
              "      <td>Ken Patterson</td>\n",
              "      <td>- - -</td>\n",
              "      <td>14</td>\n",
              "      <td>8</td>\n",
              "      <td>5</td>\n",
              "      <td>224</td>\n",
              "      <td>4</td>\n",
              "      <td>317.2</td>\n",
              "      <td>5.18</td>\n",
              "      <td>4.70</td>\n",
              "      <td>1.08</td>\n",
              "      <td>0.257</td>\n",
              "      <td>75.8%</td>\n",
              "      <td>NaN</td>\n",
              "      <td>NaN</td>\n",
              "      <td>NaN</td>\n",
              "      <td>3.88</td>\n",
              "      <td>NaN</td>\n",
              "      <td>4.86</td>\n",
              "      <td>NaN</td>\n",
              "      <td>-2.5</td>\n",
              "      <td>1010067</td>\n",
              "    </tr>\n",
              "    <tr>\n",
              "      <th>3157</th>\n",
              "      <td>Larry Bearnarth</td>\n",
              "      <td>- - -</td>\n",
              "      <td>13</td>\n",
              "      <td>21</td>\n",
              "      <td>8</td>\n",
              "      <td>173</td>\n",
              "      <td>7</td>\n",
              "      <td>322.2</td>\n",
              "      <td>3.46</td>\n",
              "      <td>3.77</td>\n",
              "      <td>0.86</td>\n",
              "      <td>0.283</td>\n",
              "      <td>70.1%</td>\n",
              "      <td>NaN</td>\n",
              "      <td>NaN</td>\n",
              "      <td>NaN</td>\n",
              "      <td>4.13</td>\n",
              "      <td>NaN</td>\n",
              "      <td>4.38</td>\n",
              "      <td>NaN</td>\n",
              "      <td>-2.6</td>\n",
              "      <td>1000723</td>\n",
              "    </tr>\n",
              "    <tr>\n",
              "      <th>3158</th>\n",
              "      <td>Pat Mahomes</td>\n",
              "      <td>- - -</td>\n",
              "      <td>42</td>\n",
              "      <td>39</td>\n",
              "      <td>5</td>\n",
              "      <td>308</td>\n",
              "      <td>63</td>\n",
              "      <td>709.0</td>\n",
              "      <td>5.74</td>\n",
              "      <td>4.98</td>\n",
              "      <td>1.47</td>\n",
              "      <td>0.284</td>\n",
              "      <td>69.5%</td>\n",
              "      <td>38.6%</td>\n",
              "      <td>6.8%</td>\n",
              "      <td>NaN</td>\n",
              "      <td>5.47</td>\n",
              "      <td>NaN</td>\n",
              "      <td>5.62</td>\n",
              "      <td>5.19</td>\n",
              "      <td>-3.0</td>\n",
              "      <td>291</td>\n",
              "    </tr>\n",
              "    <tr>\n",
              "      <th>3159</th>\n",
              "      <td>Alan Mills</td>\n",
              "      <td>- - -</td>\n",
              "      <td>39</td>\n",
              "      <td>32</td>\n",
              "      <td>15</td>\n",
              "      <td>474</td>\n",
              "      <td>5</td>\n",
              "      <td>636.0</td>\n",
              "      <td>6.45</td>\n",
              "      <td>5.59</td>\n",
              "      <td>1.17</td>\n",
              "      <td>0.265</td>\n",
              "      <td>78.4%</td>\n",
              "      <td>NaN</td>\n",
              "      <td>NaN</td>\n",
              "      <td>NaN</td>\n",
              "      <td>4.12</td>\n",
              "      <td>NaN</td>\n",
              "      <td>5.25</td>\n",
              "      <td>NaN</td>\n",
              "      <td>-3.6</td>\n",
              "      <td>1008949</td>\n",
              "    </tr>\n",
              "  </tbody>\n",
              "</table>\n",
              "<p>3160 rows × 22 columns</p>\n",
              "</div>"
            ],
            "text/plain": [
              "                 Name   Team    W    L  SV  ...  xERA   FIP  xFIP    WAR  playerid\n",
              "0       Roger Clemens  - - -  354  184   0  ...   NaN  3.09  3.50  133.7       815\n",
              "1            Cy Young  - - -  511  316  17  ...   NaN  2.82   NaN  131.5   1014369\n",
              "2      Walter Johnson    WAS  417  279  34  ...   NaN  2.36   NaN  117.1   1006511\n",
              "3         Greg Maddux  - - -  355  227   0  ...   NaN  3.26  3.73  116.7       104\n",
              "4       Randy Johnson  - - -  303  166   2  ...   NaN  3.19  3.23  110.4        60\n",
              "...               ...    ...  ...  ...  ..  ...   ...   ...   ...    ...       ...\n",
              "3155    Lowell Palmer  - - -    5   18   0  ...   NaN  4.86   NaN   -2.3   1009974\n",
              "3156    Ken Patterson  - - -   14    8   5  ...   NaN  4.86   NaN   -2.5   1010067\n",
              "3157  Larry Bearnarth  - - -   13   21   8  ...   NaN  4.38   NaN   -2.6   1000723\n",
              "3158      Pat Mahomes  - - -   42   39   5  ...   NaN  5.62  5.19   -3.0       291\n",
              "3159       Alan Mills  - - -   39   32  15  ...   NaN  5.25   NaN   -3.6   1008949\n",
              "\n",
              "[3160 rows x 22 columns]"
            ]
          },
          "metadata": {
            "tags": []
          },
          "execution_count": 72
        }
      ]
    },
    {
      "cell_type": "code",
      "metadata": {
        "colab": {
          "base_uri": "https://localhost:8080/",
          "height": 224
        },
        "id": "-WOTjrcQwm7k",
        "outputId": "9a134edb-4cda-4a56-d380-0347341659ee"
      },
      "source": [
        "cols = ['WAR', 'G']\n",
        "PITCHERS_DF = K_df_2[cols]\n",
        "PITCHERS_DF"
      ],
      "execution_count": 32,
      "outputs": [
        {
          "output_type": "execute_result",
          "data": {
            "text/html": [
              "<div>\n",
              "<style scoped>\n",
              "    .dataframe tbody tr th:only-of-type {\n",
              "        vertical-align: middle;\n",
              "    }\n",
              "\n",
              "    .dataframe tbody tr th {\n",
              "        vertical-align: top;\n",
              "    }\n",
              "\n",
              "    .dataframe thead th {\n",
              "        text-align: right;\n",
              "    }\n",
              "</style>\n",
              "<table border=\"1\" class=\"dataframe\">\n",
              "  <thead>\n",
              "    <tr style=\"text-align: right;\">\n",
              "      <th></th>\n",
              "      <th>WAR</th>\n",
              "      <th>G</th>\n",
              "    </tr>\n",
              "  </thead>\n",
              "  <tbody>\n",
              "    <tr>\n",
              "      <th>0</th>\n",
              "      <td>133.7</td>\n",
              "      <td>709</td>\n",
              "    </tr>\n",
              "    <tr>\n",
              "      <th>1</th>\n",
              "      <td>131.5</td>\n",
              "      <td>906</td>\n",
              "    </tr>\n",
              "    <tr>\n",
              "      <th>...</th>\n",
              "      <td>...</td>\n",
              "      <td>...</td>\n",
              "    </tr>\n",
              "    <tr>\n",
              "      <th>3158</th>\n",
              "      <td>-3.0</td>\n",
              "      <td>308</td>\n",
              "    </tr>\n",
              "    <tr>\n",
              "      <th>3159</th>\n",
              "      <td>-3.6</td>\n",
              "      <td>474</td>\n",
              "    </tr>\n",
              "  </tbody>\n",
              "</table>\n",
              "<p>3160 rows × 2 columns</p>\n",
              "</div>"
            ],
            "text/plain": [
              "        WAR    G\n",
              "0     133.7  709\n",
              "1     131.5  906\n",
              "...     ...  ...\n",
              "3158   -3.0  308\n",
              "3159   -3.6  474\n",
              "\n",
              "[3160 rows x 2 columns]"
            ]
          },
          "metadata": {
            "tags": []
          },
          "execution_count": 32
        }
      ]
    },
    {
      "cell_type": "code",
      "metadata": {
        "colab": {
          "base_uri": "https://localhost:8080/"
        },
        "id": "R1Om1wROxf1A",
        "outputId": "9f4be747-eb26-4e32-ea65-b9933dfae7df"
      },
      "source": [
        "PITCHERS_DF.sum()"
      ],
      "execution_count": 33,
      "outputs": [
        {
          "output_type": "execute_result",
          "data": {
            "text/plain": [
              "WAR     38127.0\n",
              "G      914778.0\n",
              "dtype: float64"
            ]
          },
          "metadata": {
            "tags": []
          },
          "execution_count": 33
        }
      ]
    },
    {
      "cell_type": "code",
      "metadata": {
        "colab": {
          "base_uri": "https://localhost:8080/"
        },
        "id": "NMLunGSzxpLM",
        "outputId": "3cb0222a-d2f8-4527-939e-731ad29f9b95"
      },
      "source": [
        "Per_game_value= 38185.7/916113.0 \n",
        "Per_game_value*162"
      ],
      "execution_count": 34,
      "outputs": [
        {
          "output_type": "execute_result",
          "data": {
            "text/plain": [
              "6.752533148203332"
            ]
          },
          "metadata": {
            "tags": []
          },
          "execution_count": 34
        }
      ]
    },
    {
      "cell_type": "code",
      "metadata": {
        "colab": {
          "base_uri": "https://localhost:8080/",
          "height": 224
        },
        "id": "8tVePzpsyBEL",
        "outputId": "67f76881-3cf3-47fa-a081-dece387d7906"
      },
      "source": [
        "DF=pd.read_csv(\"FanGraphs Leaderboard.csv\") # The main file we will use and manipulate \n",
        "DF\n",
        "# https://catalog.data.gov/group/older-adults-health-data?page=7"
      ],
      "execution_count": 35,
      "outputs": [
        {
          "output_type": "execute_result",
          "data": {
            "text/html": [
              "<div>\n",
              "<style scoped>\n",
              "    .dataframe tbody tr th:only-of-type {\n",
              "        vertical-align: middle;\n",
              "    }\n",
              "\n",
              "    .dataframe tbody tr th {\n",
              "        vertical-align: top;\n",
              "    }\n",
              "\n",
              "    .dataframe thead th {\n",
              "        text-align: right;\n",
              "    }\n",
              "</style>\n",
              "<table border=\"1\" class=\"dataframe\">\n",
              "  <thead>\n",
              "    <tr style=\"text-align: right;\">\n",
              "      <th></th>\n",
              "      <th>Name</th>\n",
              "      <th>Team</th>\n",
              "      <th>G</th>\n",
              "      <th>PA</th>\n",
              "      <th>HR</th>\n",
              "      <th>R</th>\n",
              "      <th>RBI</th>\n",
              "      <th>SB</th>\n",
              "      <th>BB%</th>\n",
              "      <th>K%</th>\n",
              "      <th>ISO</th>\n",
              "      <th>BABIP</th>\n",
              "      <th>AVG</th>\n",
              "      <th>OBP</th>\n",
              "      <th>SLG</th>\n",
              "      <th>wOBA</th>\n",
              "      <th>xwOBA</th>\n",
              "      <th>wRC+</th>\n",
              "      <th>BsR</th>\n",
              "      <th>Off</th>\n",
              "      <th>Def</th>\n",
              "      <th>WAR</th>\n",
              "      <th>playerid</th>\n",
              "    </tr>\n",
              "  </thead>\n",
              "  <tbody>\n",
              "    <tr>\n",
              "      <th>0</th>\n",
              "      <td>Babe Ruth</td>\n",
              "      <td>- - -</td>\n",
              "      <td>2503</td>\n",
              "      <td>10616</td>\n",
              "      <td>714</td>\n",
              "      <td>2174</td>\n",
              "      <td>2217</td>\n",
              "      <td>123.0</td>\n",
              "      <td>19.4%</td>\n",
              "      <td>12.5%</td>\n",
              "      <td>0.348</td>\n",
              "      <td>0.340</td>\n",
              "      <td>0.342</td>\n",
              "      <td>0.474</td>\n",
              "      <td>0.690</td>\n",
              "      <td>0.513</td>\n",
              "      <td>NaN</td>\n",
              "      <td>197</td>\n",
              "      <td>-23.4</td>\n",
              "      <td>1347.3</td>\n",
              "      <td>-18.6</td>\n",
              "      <td>168.4</td>\n",
              "      <td>1011327</td>\n",
              "    </tr>\n",
              "    <tr>\n",
              "      <th>1</th>\n",
              "      <td>Barry Bonds</td>\n",
              "      <td>- - -</td>\n",
              "      <td>2986</td>\n",
              "      <td>12606</td>\n",
              "      <td>762</td>\n",
              "      <td>2227</td>\n",
              "      <td>1996</td>\n",
              "      <td>514.0</td>\n",
              "      <td>20.3%</td>\n",
              "      <td>12.2%</td>\n",
              "      <td>0.309</td>\n",
              "      <td>0.285</td>\n",
              "      <td>0.298</td>\n",
              "      <td>0.444</td>\n",
              "      <td>0.607</td>\n",
              "      <td>0.435</td>\n",
              "      <td>NaN</td>\n",
              "      <td>173</td>\n",
              "      <td>30.4</td>\n",
              "      <td>1173.8</td>\n",
              "      <td>67.6</td>\n",
              "      <td>164.4</td>\n",
              "      <td>1109</td>\n",
              "    </tr>\n",
              "    <tr>\n",
              "      <th>...</th>\n",
              "      <td>...</td>\n",
              "      <td>...</td>\n",
              "      <td>...</td>\n",
              "      <td>...</td>\n",
              "      <td>...</td>\n",
              "      <td>...</td>\n",
              "      <td>...</td>\n",
              "      <td>...</td>\n",
              "      <td>...</td>\n",
              "      <td>...</td>\n",
              "      <td>...</td>\n",
              "      <td>...</td>\n",
              "      <td>...</td>\n",
              "      <td>...</td>\n",
              "      <td>...</td>\n",
              "      <td>...</td>\n",
              "      <td>...</td>\n",
              "      <td>...</td>\n",
              "      <td>...</td>\n",
              "      <td>...</td>\n",
              "      <td>...</td>\n",
              "      <td>...</td>\n",
              "      <td>...</td>\n",
              "    </tr>\n",
              "    <tr>\n",
              "      <th>4071</th>\n",
              "      <td>Gus Weyhing</td>\n",
              "      <td>- - -</td>\n",
              "      <td>552</td>\n",
              "      <td>1965</td>\n",
              "      <td>3</td>\n",
              "      <td>163</td>\n",
              "      <td>133</td>\n",
              "      <td>32.0</td>\n",
              "      <td>5.1%</td>\n",
              "      <td>26.5%</td>\n",
              "      <td>0.043</td>\n",
              "      <td>0.203</td>\n",
              "      <td>0.166</td>\n",
              "      <td>0.210</td>\n",
              "      <td>0.209</td>\n",
              "      <td>0.207</td>\n",
              "      <td>NaN</td>\n",
              "      <td>28</td>\n",
              "      <td>-6.5</td>\n",
              "      <td>-231.8</td>\n",
              "      <td>25.3</td>\n",
              "      <td>-10.2</td>\n",
              "      <td>1013820</td>\n",
              "    </tr>\n",
              "    <tr>\n",
              "      <th>4072</th>\n",
              "      <td>Bill Bergen</td>\n",
              "      <td>- - -</td>\n",
              "      <td>947</td>\n",
              "      <td>3228</td>\n",
              "      <td>2</td>\n",
              "      <td>138</td>\n",
              "      <td>193</td>\n",
              "      <td>23.0</td>\n",
              "      <td>2.7%</td>\n",
              "      <td>15.5%</td>\n",
              "      <td>0.031</td>\n",
              "      <td>0.177</td>\n",
              "      <td>0.170</td>\n",
              "      <td>0.194</td>\n",
              "      <td>0.201</td>\n",
              "      <td>0.192</td>\n",
              "      <td>NaN</td>\n",
              "      <td>22</td>\n",
              "      <td>-9.1</td>\n",
              "      <td>-296.3</td>\n",
              "      <td>44.0</td>\n",
              "      <td>-16.2</td>\n",
              "      <td>1000867</td>\n",
              "    </tr>\n",
              "  </tbody>\n",
              "</table>\n",
              "<p>4073 rows × 23 columns</p>\n",
              "</div>"
            ],
            "text/plain": [
              "             Name   Team     G     PA   HR  ...   BsR     Off   Def    WAR playerid\n",
              "0       Babe Ruth  - - -  2503  10616  714  ... -23.4  1347.3 -18.6  168.4  1011327\n",
              "1     Barry Bonds  - - -  2986  12606  762  ...  30.4  1173.8  67.6  164.4     1109\n",
              "...           ...    ...   ...    ...  ...  ...   ...     ...   ...    ...      ...\n",
              "4071  Gus Weyhing  - - -   552   1965    3  ...  -6.5  -231.8  25.3  -10.2  1013820\n",
              "4072  Bill Bergen  - - -   947   3228    2  ...  -9.1  -296.3  44.0  -16.2  1000867\n",
              "\n",
              "[4073 rows x 23 columns]"
            ]
          },
          "metadata": {
            "tags": []
          },
          "execution_count": 35
        }
      ]
    },
    {
      "cell_type": "code",
      "metadata": {
        "colab": {
          "base_uri": "https://localhost:8080/",
          "height": 224
        },
        "id": "uEhsTXqSynZN",
        "outputId": "f95dc2dd-94a4-4a36-9bc2-960f765c4fe5"
      },
      "source": [
        "cols = ['WAR', 'G']\n",
        "DF = DF[cols]\n",
        "DF"
      ],
      "execution_count": 36,
      "outputs": [
        {
          "output_type": "execute_result",
          "data": {
            "text/html": [
              "<div>\n",
              "<style scoped>\n",
              "    .dataframe tbody tr th:only-of-type {\n",
              "        vertical-align: middle;\n",
              "    }\n",
              "\n",
              "    .dataframe tbody tr th {\n",
              "        vertical-align: top;\n",
              "    }\n",
              "\n",
              "    .dataframe thead th {\n",
              "        text-align: right;\n",
              "    }\n",
              "</style>\n",
              "<table border=\"1\" class=\"dataframe\">\n",
              "  <thead>\n",
              "    <tr style=\"text-align: right;\">\n",
              "      <th></th>\n",
              "      <th>WAR</th>\n",
              "      <th>G</th>\n",
              "    </tr>\n",
              "  </thead>\n",
              "  <tbody>\n",
              "    <tr>\n",
              "      <th>0</th>\n",
              "      <td>168.4</td>\n",
              "      <td>2503</td>\n",
              "    </tr>\n",
              "    <tr>\n",
              "      <th>1</th>\n",
              "      <td>164.4</td>\n",
              "      <td>2986</td>\n",
              "    </tr>\n",
              "    <tr>\n",
              "      <th>...</th>\n",
              "      <td>...</td>\n",
              "      <td>...</td>\n",
              "    </tr>\n",
              "    <tr>\n",
              "      <th>4071</th>\n",
              "      <td>-10.2</td>\n",
              "      <td>552</td>\n",
              "    </tr>\n",
              "    <tr>\n",
              "      <th>4072</th>\n",
              "      <td>-16.2</td>\n",
              "      <td>947</td>\n",
              "    </tr>\n",
              "  </tbody>\n",
              "</table>\n",
              "<p>4073 rows × 2 columns</p>\n",
              "</div>"
            ],
            "text/plain": [
              "        WAR     G\n",
              "0     168.4  2503\n",
              "1     164.4  2986\n",
              "...     ...   ...\n",
              "4071  -10.2   552\n",
              "4072  -16.2   947\n",
              "\n",
              "[4073 rows x 2 columns]"
            ]
          },
          "metadata": {
            "tags": []
          },
          "execution_count": 36
        }
      ]
    },
    {
      "cell_type": "code",
      "metadata": {
        "colab": {
          "base_uri": "https://localhost:8080/"
        },
        "id": "9uDJBIebzniE",
        "outputId": "ed92aae1-5fc6-4689-fd2b-ba6465e9ec00"
      },
      "source": [
        "DF.sum()"
      ],
      "execution_count": 37,
      "outputs": [
        {
          "output_type": "execute_result",
          "data": {
            "text/plain": [
              "WAR      53536.1\n",
              "G      3957398.0\n",
              "dtype: float64"
            ]
          },
          "metadata": {
            "tags": []
          },
          "execution_count": 37
        }
      ]
    },
    {
      "cell_type": "code",
      "metadata": {
        "colab": {
          "base_uri": "https://localhost:8080/"
        },
        "id": "MlLMwa2JzqXU",
        "outputId": "216475fa-1c43-4466-96bd-eed6e7a5af2a"
      },
      "source": [
        "Per_game_value= 53621.2/3963917.0\n",
        "Per_game_value*162"
      ],
      "execution_count": 38,
      "outputs": [
        {
          "output_type": "execute_result",
          "data": {
            "text/plain": [
              "2.19142691433751"
            ]
          },
          "metadata": {
            "tags": []
          },
          "execution_count": 38
        }
      ]
    },
    {
      "cell_type": "code",
      "metadata": {
        "colab": {
          "base_uri": "https://localhost:8080/",
          "height": 730
        },
        "id": "D7SjHhue5fja",
        "outputId": "31ddb64e-787b-4f28-fcc7-984214879e79"
      },
      "source": [
        "Poverty_Rate  = [2.19142691433751,6.752533148203332]                       #https://www.worldbank.org/en/topic/poverty/overview#:~:text=The%20global%20extreme%20poverty%20rate,%245.50%20a%20day%20in%202017\n",
        "Country = [\"Batters Value\",\t\"Pitchers Value\"]  # Made my own dataframe, only needed two data points, no need for web scarping and csv, data is based off above link  \n",
        "Poverty_Rate\n",
        "\n",
        "fig, ax = plt.subplots(figsize=(12,12))\n",
        "\n",
        "ax.bar(Country, Poverty_Rate)\n",
        "ax.set_title(\"Batter vs Pitcher Value\")\n",
        "ax.set_xlabel(\"Pitcher versus Batters\")\n",
        "ax.set_ylabel(\"Value per 162 game season\")\n",
        "\n",
        "fig.show()"
      ],
      "execution_count": 39,
      "outputs": [
        {
          "output_type": "display_data",
          "data": {
            "image/png": "[encoded data removed]",
            "text/plain": [
              "<Figure size 864x864 with 1 Axes>"
            ]
          },
          "metadata": {
            "tags": [],
            "needs_background": "light"
          }
        }
      ]
    },
    {
      "cell_type": "markdown",
      "metadata": {
        "id": "aII8QTTHBXln"
      },
      "source": [
        "### Pitchers are more valuable than batters per game  \n",
        "\n",
        "\n"
      ]
    },
    {
      "cell_type": "markdown",
      "metadata": {
        "id": "IZHewqmr9wsF"
      },
      "source": [
        "## Question 2 T-Test"
      ]
    },
    {
      "cell_type": "markdown",
      "metadata": {
        "id": "39ah9Q6Q6LTQ"
      },
      "source": [
        " Can one categorize baseball players based off their strikeouts or strikeout production? Compare different types of baseball players ( \"average\" players etc and hall of famers) and use a \"t-test\" to see if hall of famers pitchers and batters strikeout or produce more strikeouts than average caliber players. You will need two t-tests. "
      ]
    },
    {
      "cell_type": "code",
      "metadata": {
        "colab": {
          "base_uri": "https://localhost:8080/",
          "height": 224
        },
        "id": "KXEQExqN2f2G",
        "outputId": "f71cff79-dee0-408c-b4eb-b77e46dbdcbe"
      },
      "source": [
        "Batters_df=pd.read_csv(\"FanGraphs Leaderboard.csv\") # The main file for batters\n",
        "Batters_df"
      ],
      "execution_count": 40,
      "outputs": [
        {
          "output_type": "execute_result",
          "data": {
            "text/html": [
              "<div>\n",
              "<style scoped>\n",
              "    .dataframe tbody tr th:only-of-type {\n",
              "        vertical-align: middle;\n",
              "    }\n",
              "\n",
              "    .dataframe tbody tr th {\n",
              "        vertical-align: top;\n",
              "    }\n",
              "\n",
              "    .dataframe thead th {\n",
              "        text-align: right;\n",
              "    }\n",
              "</style>\n",
              "<table border=\"1\" class=\"dataframe\">\n",
              "  <thead>\n",
              "    <tr style=\"text-align: right;\">\n",
              "      <th></th>\n",
              "      <th>Name</th>\n",
              "      <th>Team</th>\n",
              "      <th>G</th>\n",
              "      <th>PA</th>\n",
              "      <th>HR</th>\n",
              "      <th>R</th>\n",
              "      <th>RBI</th>\n",
              "      <th>SB</th>\n",
              "      <th>BB%</th>\n",
              "      <th>K%</th>\n",
              "      <th>ISO</th>\n",
              "      <th>BABIP</th>\n",
              "      <th>AVG</th>\n",
              "      <th>OBP</th>\n",
              "      <th>SLG</th>\n",
              "      <th>wOBA</th>\n",
              "      <th>xwOBA</th>\n",
              "      <th>wRC+</th>\n",
              "      <th>BsR</th>\n",
              "      <th>Off</th>\n",
              "      <th>Def</th>\n",
              "      <th>WAR</th>\n",
              "      <th>playerid</th>\n",
              "    </tr>\n",
              "  </thead>\n",
              "  <tbody>\n",
              "    <tr>\n",
              "      <th>0</th>\n",
              "      <td>Babe Ruth</td>\n",
              "      <td>- - -</td>\n",
              "      <td>2503</td>\n",
              "      <td>10616</td>\n",
              "      <td>714</td>\n",
              "      <td>2174</td>\n",
              "      <td>2217</td>\n",
              "      <td>123.0</td>\n",
              "      <td>19.4%</td>\n",
              "      <td>12.5%</td>\n",
              "      <td>0.348</td>\n",
              "      <td>0.340</td>\n",
              "      <td>0.342</td>\n",
              "      <td>0.474</td>\n",
              "      <td>0.690</td>\n",
              "      <td>0.513</td>\n",
              "      <td>NaN</td>\n",
              "      <td>197</td>\n",
              "      <td>-23.4</td>\n",
              "      <td>1347.3</td>\n",
              "      <td>-18.6</td>\n",
              "      <td>168.4</td>\n",
              "      <td>1011327</td>\n",
              "    </tr>\n",
              "    <tr>\n",
              "      <th>1</th>\n",
              "      <td>Barry Bonds</td>\n",
              "      <td>- - -</td>\n",
              "      <td>2986</td>\n",
              "      <td>12606</td>\n",
              "      <td>762</td>\n",
              "      <td>2227</td>\n",
              "      <td>1996</td>\n",
              "      <td>514.0</td>\n",
              "      <td>20.3%</td>\n",
              "      <td>12.2%</td>\n",
              "      <td>0.309</td>\n",
              "      <td>0.285</td>\n",
              "      <td>0.298</td>\n",
              "      <td>0.444</td>\n",
              "      <td>0.607</td>\n",
              "      <td>0.435</td>\n",
              "      <td>NaN</td>\n",
              "      <td>173</td>\n",
              "      <td>30.4</td>\n",
              "      <td>1173.8</td>\n",
              "      <td>67.6</td>\n",
              "      <td>164.4</td>\n",
              "      <td>1109</td>\n",
              "    </tr>\n",
              "    <tr>\n",
              "      <th>...</th>\n",
              "      <td>...</td>\n",
              "      <td>...</td>\n",
              "      <td>...</td>\n",
              "      <td>...</td>\n",
              "      <td>...</td>\n",
              "      <td>...</td>\n",
              "      <td>...</td>\n",
              "      <td>...</td>\n",
              "      <td>...</td>\n",
              "      <td>...</td>\n",
              "      <td>...</td>\n",
              "      <td>...</td>\n",
              "      <td>...</td>\n",
              "      <td>...</td>\n",
              "      <td>...</td>\n",
              "      <td>...</td>\n",
              "      <td>...</td>\n",
              "      <td>...</td>\n",
              "      <td>...</td>\n",
              "      <td>...</td>\n",
              "      <td>...</td>\n",
              "      <td>...</td>\n",
              "      <td>...</td>\n",
              "    </tr>\n",
              "    <tr>\n",
              "      <th>4071</th>\n",
              "      <td>Gus Weyhing</td>\n",
              "      <td>- - -</td>\n",
              "      <td>552</td>\n",
              "      <td>1965</td>\n",
              "      <td>3</td>\n",
              "      <td>163</td>\n",
              "      <td>133</td>\n",
              "      <td>32.0</td>\n",
              "      <td>5.1%</td>\n",
              "      <td>26.5%</td>\n",
              "      <td>0.043</td>\n",
              "      <td>0.203</td>\n",
              "      <td>0.166</td>\n",
              "      <td>0.210</td>\n",
              "      <td>0.209</td>\n",
              "      <td>0.207</td>\n",
              "      <td>NaN</td>\n",
              "      <td>28</td>\n",
              "      <td>-6.5</td>\n",
              "      <td>-231.8</td>\n",
              "      <td>25.3</td>\n",
              "      <td>-10.2</td>\n",
              "      <td>1013820</td>\n",
              "    </tr>\n",
              "    <tr>\n",
              "      <th>4072</th>\n",
              "      <td>Bill Bergen</td>\n",
              "      <td>- - -</td>\n",
              "      <td>947</td>\n",
              "      <td>3228</td>\n",
              "      <td>2</td>\n",
              "      <td>138</td>\n",
              "      <td>193</td>\n",
              "      <td>23.0</td>\n",
              "      <td>2.7%</td>\n",
              "      <td>15.5%</td>\n",
              "      <td>0.031</td>\n",
              "      <td>0.177</td>\n",
              "      <td>0.170</td>\n",
              "      <td>0.194</td>\n",
              "      <td>0.201</td>\n",
              "      <td>0.192</td>\n",
              "      <td>NaN</td>\n",
              "      <td>22</td>\n",
              "      <td>-9.1</td>\n",
              "      <td>-296.3</td>\n",
              "      <td>44.0</td>\n",
              "      <td>-16.2</td>\n",
              "      <td>1000867</td>\n",
              "    </tr>\n",
              "  </tbody>\n",
              "</table>\n",
              "<p>4073 rows × 23 columns</p>\n",
              "</div>"
            ],
            "text/plain": [
              "             Name   Team     G     PA   HR  ...   BsR     Off   Def    WAR playerid\n",
              "0       Babe Ruth  - - -  2503  10616  714  ... -23.4  1347.3 -18.6  168.4  1011327\n",
              "1     Barry Bonds  - - -  2986  12606  762  ...  30.4  1173.8  67.6  164.4     1109\n",
              "...           ...    ...   ...    ...  ...  ...   ...     ...   ...    ...      ...\n",
              "4071  Gus Weyhing  - - -   552   1965    3  ...  -6.5  -231.8  25.3  -10.2  1013820\n",
              "4072  Bill Bergen  - - -   947   3228    2  ...  -9.1  -296.3  44.0  -16.2  1000867\n",
              "\n",
              "[4073 rows x 23 columns]"
            ]
          },
          "metadata": {
            "tags": []
          },
          "execution_count": 40
        }
      ]
    },
    {
      "cell_type": "code",
      "metadata": {
        "id": "-3B4sYyW94de",
        "colab": {
          "base_uri": "https://localhost:8080/",
          "height": 224
        },
        "outputId": "5f3550be-d289-464d-f216-de533d785c8f"
      },
      "source": [
        "DF=pd.read_csv(\"FanGraphs Leaderboard (3).csv\") # Hall of fame baseball players \n",
        "DF"
      ],
      "execution_count": 41,
      "outputs": [
        {
          "output_type": "execute_result",
          "data": {
            "text/html": [
              "<div>\n",
              "<style scoped>\n",
              "    .dataframe tbody tr th:only-of-type {\n",
              "        vertical-align: middle;\n",
              "    }\n",
              "\n",
              "    .dataframe tbody tr th {\n",
              "        vertical-align: top;\n",
              "    }\n",
              "\n",
              "    .dataframe thead th {\n",
              "        text-align: right;\n",
              "    }\n",
              "</style>\n",
              "<table border=\"1\" class=\"dataframe\">\n",
              "  <thead>\n",
              "    <tr style=\"text-align: right;\">\n",
              "      <th></th>\n",
              "      <th>Name</th>\n",
              "      <th>Team</th>\n",
              "      <th>G</th>\n",
              "      <th>PA</th>\n",
              "      <th>HR</th>\n",
              "      <th>R</th>\n",
              "      <th>RBI</th>\n",
              "      <th>SB</th>\n",
              "      <th>BB%</th>\n",
              "      <th>K%</th>\n",
              "      <th>ISO</th>\n",
              "      <th>BABIP</th>\n",
              "      <th>AVG</th>\n",
              "      <th>OBP</th>\n",
              "      <th>SLG</th>\n",
              "      <th>wOBA</th>\n",
              "      <th>xwOBA</th>\n",
              "      <th>wRC+</th>\n",
              "      <th>BsR</th>\n",
              "      <th>Off</th>\n",
              "      <th>Def</th>\n",
              "      <th>WAR</th>\n",
              "      <th>playerid</th>\n",
              "    </tr>\n",
              "  </thead>\n",
              "  <tbody>\n",
              "    <tr>\n",
              "      <th>0</th>\n",
              "      <td>Babe Ruth</td>\n",
              "      <td>- - -</td>\n",
              "      <td>2503</td>\n",
              "      <td>10616</td>\n",
              "      <td>714</td>\n",
              "      <td>2174</td>\n",
              "      <td>2217</td>\n",
              "      <td>123</td>\n",
              "      <td>19.4%</td>\n",
              "      <td>12.5%</td>\n",
              "      <td>0.348</td>\n",
              "      <td>0.340</td>\n",
              "      <td>0.342</td>\n",
              "      <td>0.474</td>\n",
              "      <td>0.690</td>\n",
              "      <td>0.513</td>\n",
              "      <td>NaN</td>\n",
              "      <td>197</td>\n",
              "      <td>-23.4</td>\n",
              "      <td>1347.3</td>\n",
              "      <td>-18.6</td>\n",
              "      <td>168.4</td>\n",
              "      <td>1011327</td>\n",
              "    </tr>\n",
              "    <tr>\n",
              "      <th>1</th>\n",
              "      <td>Willie Mays</td>\n",
              "      <td>- - -</td>\n",
              "      <td>2992</td>\n",
              "      <td>12493</td>\n",
              "      <td>660</td>\n",
              "      <td>2062</td>\n",
              "      <td>1903</td>\n",
              "      <td>338</td>\n",
              "      <td>11.7%</td>\n",
              "      <td>12.2%</td>\n",
              "      <td>0.256</td>\n",
              "      <td>0.299</td>\n",
              "      <td>0.302</td>\n",
              "      <td>0.384</td>\n",
              "      <td>0.557</td>\n",
              "      <td>0.409</td>\n",
              "      <td>NaN</td>\n",
              "      <td>154</td>\n",
              "      <td>32.9</td>\n",
              "      <td>837.5</td>\n",
              "      <td>170.1</td>\n",
              "      <td>149.9</td>\n",
              "      <td>1008315</td>\n",
              "    </tr>\n",
              "    <tr>\n",
              "      <th>...</th>\n",
              "      <td>...</td>\n",
              "      <td>...</td>\n",
              "      <td>...</td>\n",
              "      <td>...</td>\n",
              "      <td>...</td>\n",
              "      <td>...</td>\n",
              "      <td>...</td>\n",
              "      <td>...</td>\n",
              "      <td>...</td>\n",
              "      <td>...</td>\n",
              "      <td>...</td>\n",
              "      <td>...</td>\n",
              "      <td>...</td>\n",
              "      <td>...</td>\n",
              "      <td>...</td>\n",
              "      <td>...</td>\n",
              "      <td>...</td>\n",
              "      <td>...</td>\n",
              "      <td>...</td>\n",
              "      <td>...</td>\n",
              "      <td>...</td>\n",
              "      <td>...</td>\n",
              "      <td>...</td>\n",
              "    </tr>\n",
              "    <tr>\n",
              "      <th>228</th>\n",
              "      <td>Vic Willis</td>\n",
              "      <td>- - -</td>\n",
              "      <td>531</td>\n",
              "      <td>1623</td>\n",
              "      <td>1</td>\n",
              "      <td>107</td>\n",
              "      <td>84</td>\n",
              "      <td>3</td>\n",
              "      <td>5.0%</td>\n",
              "      <td>11.1%</td>\n",
              "      <td>0.020</td>\n",
              "      <td>0.190</td>\n",
              "      <td>0.166</td>\n",
              "      <td>0.213</td>\n",
              "      <td>0.186</td>\n",
              "      <td>0.200</td>\n",
              "      <td>NaN</td>\n",
              "      <td>23</td>\n",
              "      <td>-7.3</td>\n",
              "      <td>-156.8</td>\n",
              "      <td>56.3</td>\n",
              "      <td>-4.7</td>\n",
              "      <td>1014042</td>\n",
              "    </tr>\n",
              "    <tr>\n",
              "      <th>229</th>\n",
              "      <td>Stan Coveleski</td>\n",
              "      <td>- - -</td>\n",
              "      <td>451</td>\n",
              "      <td>1187</td>\n",
              "      <td>1</td>\n",
              "      <td>70</td>\n",
              "      <td>81</td>\n",
              "      <td>0</td>\n",
              "      <td>4.5%</td>\n",
              "      <td>25.8%</td>\n",
              "      <td>0.046</td>\n",
              "      <td>0.223</td>\n",
              "      <td>0.159</td>\n",
              "      <td>0.202</td>\n",
              "      <td>0.205</td>\n",
              "      <td>0.199</td>\n",
              "      <td>NaN</td>\n",
              "      <td>7</td>\n",
              "      <td>-0.8</td>\n",
              "      <td>-141.7</td>\n",
              "      <td>54.5</td>\n",
              "      <td>-4.8</td>\n",
              "      <td>1002682</td>\n",
              "    </tr>\n",
              "  </tbody>\n",
              "</table>\n",
              "<p>230 rows × 23 columns</p>\n",
              "</div>"
            ],
            "text/plain": [
              "               Name   Team     G     PA  ...     Off    Def    WAR  playerid\n",
              "0         Babe Ruth  - - -  2503  10616  ...  1347.3  -18.6  168.4   1011327\n",
              "1       Willie Mays  - - -  2992  12493  ...   837.5  170.1  149.9   1008315\n",
              "..              ...    ...   ...    ...  ...     ...    ...    ...       ...\n",
              "228      Vic Willis  - - -   531   1623  ...  -156.8   56.3   -4.7   1014042\n",
              "229  Stan Coveleski  - - -   451   1187  ...  -141.7   54.5   -4.8   1002682\n",
              "\n",
              "[230 rows x 23 columns]"
            ]
          },
          "metadata": {
            "tags": []
          },
          "execution_count": 41
        }
      ]
    },
    {
      "cell_type": "markdown",
      "metadata": {
        "id": "LGFt7jBj2sW9"
      },
      "source": [
        "###Null Hypothesis: Hall of Fame Baseball players strikeout as much the average MLB player \n",
        "\n"
      ]
    },
    {
      "cell_type": "markdown",
      "metadata": {
        "id": "gWA7_EidAmfO"
      },
      "source": [
        "###Altenate Hypothesis: Hall of Fame Baseball players strikeout less than the average MLB player "
      ]
    },
    {
      "cell_type": "code",
      "metadata": {
        "colab": {
          "base_uri": "https://localhost:8080/",
          "height": 224
        },
        "id": "B8h3pLbZ2ofP",
        "outputId": "3e6f3988-4d3e-4503-a7f2-14d02a748764"
      },
      "source": [
        "B_df=pd.read_csv(\"FanGraphs Leaderboard.csv\") # Large sample of baseball players  \n",
        "B_df"
      ],
      "execution_count": 44,
      "outputs": [
        {
          "output_type": "execute_result",
          "data": {
            "text/html": [
              "<div>\n",
              "<style scoped>\n",
              "    .dataframe tbody tr th:only-of-type {\n",
              "        vertical-align: middle;\n",
              "    }\n",
              "\n",
              "    .dataframe tbody tr th {\n",
              "        vertical-align: top;\n",
              "    }\n",
              "\n",
              "    .dataframe thead th {\n",
              "        text-align: right;\n",
              "    }\n",
              "</style>\n",
              "<table border=\"1\" class=\"dataframe\">\n",
              "  <thead>\n",
              "    <tr style=\"text-align: right;\">\n",
              "      <th></th>\n",
              "      <th>Name</th>\n",
              "      <th>Team</th>\n",
              "      <th>G</th>\n",
              "      <th>PA</th>\n",
              "      <th>HR</th>\n",
              "      <th>R</th>\n",
              "      <th>RBI</th>\n",
              "      <th>SB</th>\n",
              "      <th>BB%</th>\n",
              "      <th>K%</th>\n",
              "      <th>ISO</th>\n",
              "      <th>BABIP</th>\n",
              "      <th>AVG</th>\n",
              "      <th>OBP</th>\n",
              "      <th>SLG</th>\n",
              "      <th>wOBA</th>\n",
              "      <th>xwOBA</th>\n",
              "      <th>wRC+</th>\n",
              "      <th>BsR</th>\n",
              "      <th>Off</th>\n",
              "      <th>Def</th>\n",
              "      <th>WAR</th>\n",
              "      <th>playerid</th>\n",
              "    </tr>\n",
              "  </thead>\n",
              "  <tbody>\n",
              "    <tr>\n",
              "      <th>0</th>\n",
              "      <td>Babe Ruth</td>\n",
              "      <td>- - -</td>\n",
              "      <td>2503</td>\n",
              "      <td>10616</td>\n",
              "      <td>714</td>\n",
              "      <td>2174</td>\n",
              "      <td>2217</td>\n",
              "      <td>123.0</td>\n",
              "      <td>19.4%</td>\n",
              "      <td>12.5%</td>\n",
              "      <td>0.348</td>\n",
              "      <td>0.340</td>\n",
              "      <td>0.342</td>\n",
              "      <td>0.474</td>\n",
              "      <td>0.690</td>\n",
              "      <td>0.513</td>\n",
              "      <td>NaN</td>\n",
              "      <td>197</td>\n",
              "      <td>-23.4</td>\n",
              "      <td>1347.3</td>\n",
              "      <td>-18.6</td>\n",
              "      <td>168.4</td>\n",
              "      <td>1011327</td>\n",
              "    </tr>\n",
              "    <tr>\n",
              "      <th>1</th>\n",
              "      <td>Barry Bonds</td>\n",
              "      <td>- - -</td>\n",
              "      <td>2986</td>\n",
              "      <td>12606</td>\n",
              "      <td>762</td>\n",
              "      <td>2227</td>\n",
              "      <td>1996</td>\n",
              "      <td>514.0</td>\n",
              "      <td>20.3%</td>\n",
              "      <td>12.2%</td>\n",
              "      <td>0.309</td>\n",
              "      <td>0.285</td>\n",
              "      <td>0.298</td>\n",
              "      <td>0.444</td>\n",
              "      <td>0.607</td>\n",
              "      <td>0.435</td>\n",
              "      <td>NaN</td>\n",
              "      <td>173</td>\n",
              "      <td>30.4</td>\n",
              "      <td>1173.8</td>\n",
              "      <td>67.6</td>\n",
              "      <td>164.4</td>\n",
              "      <td>1109</td>\n",
              "    </tr>\n",
              "    <tr>\n",
              "      <th>...</th>\n",
              "      <td>...</td>\n",
              "      <td>...</td>\n",
              "      <td>...</td>\n",
              "      <td>...</td>\n",
              "      <td>...</td>\n",
              "      <td>...</td>\n",
              "      <td>...</td>\n",
              "      <td>...</td>\n",
              "      <td>...</td>\n",
              "      <td>...</td>\n",
              "      <td>...</td>\n",
              "      <td>...</td>\n",
              "      <td>...</td>\n",
              "      <td>...</td>\n",
              "      <td>...</td>\n",
              "      <td>...</td>\n",
              "      <td>...</td>\n",
              "      <td>...</td>\n",
              "      <td>...</td>\n",
              "      <td>...</td>\n",
              "      <td>...</td>\n",
              "      <td>...</td>\n",
              "      <td>...</td>\n",
              "    </tr>\n",
              "    <tr>\n",
              "      <th>4071</th>\n",
              "      <td>Gus Weyhing</td>\n",
              "      <td>- - -</td>\n",
              "      <td>552</td>\n",
              "      <td>1965</td>\n",
              "      <td>3</td>\n",
              "      <td>163</td>\n",
              "      <td>133</td>\n",
              "      <td>32.0</td>\n",
              "      <td>5.1%</td>\n",
              "      <td>26.5%</td>\n",
              "      <td>0.043</td>\n",
              "      <td>0.203</td>\n",
              "      <td>0.166</td>\n",
              "      <td>0.210</td>\n",
              "      <td>0.209</td>\n",
              "      <td>0.207</td>\n",
              "      <td>NaN</td>\n",
              "      <td>28</td>\n",
              "      <td>-6.5</td>\n",
              "      <td>-231.8</td>\n",
              "      <td>25.3</td>\n",
              "      <td>-10.2</td>\n",
              "      <td>1013820</td>\n",
              "    </tr>\n",
              "    <tr>\n",
              "      <th>4072</th>\n",
              "      <td>Bill Bergen</td>\n",
              "      <td>- - -</td>\n",
              "      <td>947</td>\n",
              "      <td>3228</td>\n",
              "      <td>2</td>\n",
              "      <td>138</td>\n",
              "      <td>193</td>\n",
              "      <td>23.0</td>\n",
              "      <td>2.7%</td>\n",
              "      <td>15.5%</td>\n",
              "      <td>0.031</td>\n",
              "      <td>0.177</td>\n",
              "      <td>0.170</td>\n",
              "      <td>0.194</td>\n",
              "      <td>0.201</td>\n",
              "      <td>0.192</td>\n",
              "      <td>NaN</td>\n",
              "      <td>22</td>\n",
              "      <td>-9.1</td>\n",
              "      <td>-296.3</td>\n",
              "      <td>44.0</td>\n",
              "      <td>-16.2</td>\n",
              "      <td>1000867</td>\n",
              "    </tr>\n",
              "  </tbody>\n",
              "</table>\n",
              "<p>4073 rows × 23 columns</p>\n",
              "</div>"
            ],
            "text/plain": [
              "             Name   Team     G     PA   HR  ...   BsR     Off   Def    WAR playerid\n",
              "0       Babe Ruth  - - -  2503  10616  714  ... -23.4  1347.3 -18.6  168.4  1011327\n",
              "1     Barry Bonds  - - -  2986  12606  762  ...  30.4  1173.8  67.6  164.4     1109\n",
              "...           ...    ...   ...    ...  ...  ...   ...     ...   ...    ...      ...\n",
              "4071  Gus Weyhing  - - -   552   1965    3  ...  -6.5  -231.8  25.3  -10.2  1013820\n",
              "4072  Bill Bergen  - - -   947   3228    2  ...  -9.1  -296.3  44.0  -16.2  1000867\n",
              "\n",
              "[4073 rows x 23 columns]"
            ]
          },
          "metadata": {
            "tags": []
          },
          "execution_count": 44
        }
      ]
    },
    {
      "cell_type": "code",
      "metadata": {
        "colab": {
          "base_uri": "https://localhost:8080/",
          "height": 224
        },
        "id": "WprJnXO8bsMx",
        "outputId": "5d071b96-fdb2-4ad6-cada-da1857e3546a"
      },
      "source": [
        "K_BATTERS_2\n",
        "Sample_size= 4073\n",
        "K_BATTERS_2.astype(float)"
      ],
      "execution_count": 46,
      "outputs": [
        {
          "output_type": "execute_result",
          "data": {
            "text/html": [
              "<div>\n",
              "<style scoped>\n",
              "    .dataframe tbody tr th:only-of-type {\n",
              "        vertical-align: middle;\n",
              "    }\n",
              "\n",
              "    .dataframe tbody tr th {\n",
              "        vertical-align: top;\n",
              "    }\n",
              "\n",
              "    .dataframe thead th {\n",
              "        text-align: right;\n",
              "    }\n",
              "</style>\n",
              "<table border=\"1\" class=\"dataframe\">\n",
              "  <thead>\n",
              "    <tr style=\"text-align: right;\">\n",
              "      <th></th>\n",
              "      <th>WAR</th>\n",
              "      <th>Strike Rate</th>\n",
              "    </tr>\n",
              "  </thead>\n",
              "  <tbody>\n",
              "    <tr>\n",
              "      <th>0</th>\n",
              "      <td>168.4</td>\n",
              "      <td>12.5</td>\n",
              "    </tr>\n",
              "    <tr>\n",
              "      <th>1</th>\n",
              "      <td>164.4</td>\n",
              "      <td>12.2</td>\n",
              "    </tr>\n",
              "    <tr>\n",
              "      <th>...</th>\n",
              "      <td>...</td>\n",
              "      <td>...</td>\n",
              "    </tr>\n",
              "    <tr>\n",
              "      <th>4071</th>\n",
              "      <td>-10.2</td>\n",
              "      <td>26.5</td>\n",
              "    </tr>\n",
              "    <tr>\n",
              "      <th>4072</th>\n",
              "      <td>-16.2</td>\n",
              "      <td>15.5</td>\n",
              "    </tr>\n",
              "  </tbody>\n",
              "</table>\n",
              "<p>4073 rows × 2 columns</p>\n",
              "</div>"
            ],
            "text/plain": [
              "        WAR  Strike Rate\n",
              "0     168.4         12.5\n",
              "1     164.4         12.2\n",
              "...     ...          ...\n",
              "4071  -10.2         26.5\n",
              "4072  -16.2         15.5\n",
              "\n",
              "[4073 rows x 2 columns]"
            ]
          },
          "metadata": {
            "tags": []
          },
          "execution_count": 46
        }
      ]
    },
    {
      "cell_type": "code",
      "metadata": {
        "colab": {
          "base_uri": "https://localhost:8080/"
        },
        "id": "BpfbOqVWWR1m",
        "outputId": "7792539f-2dbd-4154-f886-e5c3762cc2c0"
      },
      "source": [
        "K_BATTERS_2.mean()"
      ],
      "execution_count": 50,
      "outputs": [
        {
          "output_type": "execute_result",
          "data": {
            "text/plain": [
              "WAR            13.144144\n",
              "Strike Rate    13.091247\n",
              "dtype: float64"
            ]
          },
          "metadata": {
            "tags": []
          },
          "execution_count": 50
        }
      ]
    },
    {
      "cell_type": "code",
      "metadata": {
        "id": "Fjn4OiXGjMCC"
      },
      "source": [
        "K_BATTERS_2['Strike Rate'] = K_BATTERS_2['Strike Rate'].astype(float)"
      ],
      "execution_count": 51,
      "outputs": []
    },
    {
      "cell_type": "code",
      "metadata": {
        "id": "czhGAEpKisrl"
      },
      "source": [
        "K_BATTERS_2\n",
        "Sample_size= 4073\n",
        "K_BATTERS_2.astype(float)\n",
        "K_BATTERS_2.mean()\n",
        "sample_mean=13.091247"
      ],
      "execution_count": 52,
      "outputs": []
    },
    {
      "cell_type": "code",
      "metadata": {
        "colab": {
          "base_uri": "https://localhost:8080/",
          "height": 284
        },
        "id": "Ikaq5U2vn7xg",
        "outputId": "88b6ef05-af11-456e-be6d-79b63bcb6486"
      },
      "source": [
        "pd.set_option(\"max_rows\", 10)  \n",
        "K_BATTERS_2.describe()"
      ],
      "execution_count": 53,
      "outputs": [
        {
          "output_type": "execute_result",
          "data": {
            "text/html": [
              "<div>\n",
              "<style scoped>\n",
              "    .dataframe tbody tr th:only-of-type {\n",
              "        vertical-align: middle;\n",
              "    }\n",
              "\n",
              "    .dataframe tbody tr th {\n",
              "        vertical-align: top;\n",
              "    }\n",
              "\n",
              "    .dataframe thead th {\n",
              "        text-align: right;\n",
              "    }\n",
              "</style>\n",
              "<table border=\"1\" class=\"dataframe\">\n",
              "  <thead>\n",
              "    <tr style=\"text-align: right;\">\n",
              "      <th></th>\n",
              "      <th>WAR</th>\n",
              "      <th>Strike Rate</th>\n",
              "    </tr>\n",
              "  </thead>\n",
              "  <tbody>\n",
              "    <tr>\n",
              "      <th>count</th>\n",
              "      <td>4073.000000</td>\n",
              "      <td>3953.000000</td>\n",
              "    </tr>\n",
              "    <tr>\n",
              "      <th>mean</th>\n",
              "      <td>13.144144</td>\n",
              "      <td>13.091247</td>\n",
              "    </tr>\n",
              "    <tr>\n",
              "      <th>std</th>\n",
              "      <td>17.883704</td>\n",
              "      <td>6.509516</td>\n",
              "    </tr>\n",
              "    <tr>\n",
              "      <th>min</th>\n",
              "      <td>-16.200000</td>\n",
              "      <td>0.000000</td>\n",
              "    </tr>\n",
              "    <tr>\n",
              "      <th>25%</th>\n",
              "      <td>2.000000</td>\n",
              "      <td>8.000000</td>\n",
              "    </tr>\n",
              "    <tr>\n",
              "      <th>50%</th>\n",
              "      <td>6.800000</td>\n",
              "      <td>12.300000</td>\n",
              "    </tr>\n",
              "    <tr>\n",
              "      <th>75%</th>\n",
              "      <td>18.000000</td>\n",
              "      <td>17.200000</td>\n",
              "    </tr>\n",
              "    <tr>\n",
              "      <th>max</th>\n",
              "      <td>168.400000</td>\n",
              "      <td>50.000000</td>\n",
              "    </tr>\n",
              "  </tbody>\n",
              "</table>\n",
              "</div>"
            ],
            "text/plain": [
              "               WAR  Strike Rate\n",
              "count  4073.000000  3953.000000\n",
              "mean     13.144144    13.091247\n",
              "std      17.883704     6.509516\n",
              "min     -16.200000     0.000000\n",
              "25%       2.000000     8.000000\n",
              "50%       6.800000    12.300000\n",
              "75%      18.000000    17.200000\n",
              "max     168.400000    50.000000"
            ]
          },
          "metadata": {
            "tags": []
          },
          "execution_count": 53
        }
      ]
    },
    {
      "cell_type": "code",
      "metadata": {
        "id": "-JKghTzzohYf"
      },
      "source": [
        "STD=6.509516"
      ],
      "execution_count": 56,
      "outputs": []
    },
    {
      "cell_type": "code",
      "metadata": {
        "colab": {
          "base_uri": "https://localhost:8080/"
        },
        "id": "GvKZ42qkok8a",
        "outputId": "44486eae-e1c0-415d-b652-22bc6dd9c902"
      },
      "source": [
        "std_err =(STD / math.sqrt(4073)) # Calculate and display the sample standard error, essentially we need these \"pieces\" to get a t-score\n",
        "print(\"Sample Standard Error is\", std_err)"
      ],
      "execution_count": 57,
      "outputs": [
        {
          "output_type": "stream",
          "text": [
            "Sample Standard Error is 0.10199796187391012\n"
          ],
          "name": "stdout"
        }
      ]
    },
    {
      "cell_type": "code",
      "metadata": {
        "colab": {
          "base_uri": "https://localhost:8080/"
        },
        "id": "CJZMQNd8nBbW",
        "outputId": "9ff7d9b8-f474-4ba3-e8f2-2c4dd802a3f8"
      },
      "source": [
        "t_value = round(stats.t.ppf(0.975, 4073),2)\n",
        "print(\"t critical value = \", t_value)"
      ],
      "execution_count": 58,
      "outputs": [
        {
          "output_type": "stream",
          "text": [
            "t critical value =  1.96\n"
          ],
          "name": "stdout"
        }
      ]
    },
    {
      "cell_type": "code",
      "metadata": {
        "colab": {
          "base_uri": "https://localhost:8080/"
        },
        "id": "nLhfaFZKnvV0",
        "outputId": "34370eef-7cf9-4880-dadc-bc59d56c6816"
      },
      "source": [
        "margin_of_error = (t_value * std_err)\n",
        "print(\"Margin of Error =\", margin_of_error)"
      ],
      "execution_count": 59,
      "outputs": [
        {
          "output_type": "stream",
          "text": [
            "Margin of Error = 0.19991600527286385\n"
          ],
          "name": "stdout"
        }
      ]
    },
    {
      "cell_type": "code",
      "metadata": {
        "colab": {
          "base_uri": "https://localhost:8080/"
        },
        "id": "CHuBt1-Apl2M",
        "outputId": "c7d9832c-e245-4991-fa76-0695f300317a"
      },
      "source": [
        "lower_limit = sample_mean - margin_of_error\n",
        "print (\"Lower Limit = \", lower_limit)"
      ],
      "execution_count": 60,
      "outputs": [
        {
          "output_type": "stream",
          "text": [
            "Lower Limit =  12.891330994727136\n"
          ],
          "name": "stdout"
        }
      ]
    },
    {
      "cell_type": "code",
      "metadata": {
        "colab": {
          "base_uri": "https://localhost:8080/"
        },
        "id": "EzAgLG0CpyhN",
        "outputId": "c48b4af6-e687-40d7-d71b-f0e6db6e420f"
      },
      "source": [
        "upper_limit = sample_mean + margin_of_error\n",
        "print (\"Upper Limit = \", upper_limit)"
      ],
      "execution_count": 61,
      "outputs": [
        {
          "output_type": "stream",
          "text": [
            "Upper Limit =  13.291163005272862\n"
          ],
          "name": "stdout"
        }
      ]
    },
    {
      "cell_type": "code",
      "metadata": {
        "colab": {
          "base_uri": "https://localhost:8080/"
        },
        "id": "6Ta-8cvdpzzU",
        "outputId": "8240a12b-1f19-405f-f202-ab12d34d0431"
      },
      "source": [
        "# Print the 95% confidence interveral in the form (lower limit, upper limit)\n",
        "\n",
        "print(\"The 95% Confidence Interval = (\", lower_limit, \",\", upper_limit, \")\") # Now print both above to get your confidence interval"
      ],
      "execution_count": 62,
      "outputs": [
        {
          "output_type": "stream",
          "text": [
            "The 95% Confidence Interval = ( 12.891330994727136 , 13.291163005272862 )\n"
          ],
          "name": "stdout"
        }
      ]
    },
    {
      "cell_type": "code",
      "metadata": {
        "colab": {
          "base_uri": "https://localhost:8080/",
          "height": 402
        },
        "id": "zTz110dZqFq9",
        "outputId": "aa8b16f9-9762-41d3-8177-88b29437e504"
      },
      "source": [
        "B_df_2=pd.read_csv(\"FanGraphs Leaderboard (3).csv\") # The main file we will use and manipulate \n",
        "B_df_2"
      ],
      "execution_count": 73,
      "outputs": [
        {
          "output_type": "execute_result",
          "data": {
            "text/html": [
              "<div>\n",
              "<style scoped>\n",
              "    .dataframe tbody tr th:only-of-type {\n",
              "        vertical-align: middle;\n",
              "    }\n",
              "\n",
              "    .dataframe tbody tr th {\n",
              "        vertical-align: top;\n",
              "    }\n",
              "\n",
              "    .dataframe thead th {\n",
              "        text-align: right;\n",
              "    }\n",
              "</style>\n",
              "<table border=\"1\" class=\"dataframe\">\n",
              "  <thead>\n",
              "    <tr style=\"text-align: right;\">\n",
              "      <th></th>\n",
              "      <th>Name</th>\n",
              "      <th>Team</th>\n",
              "      <th>G</th>\n",
              "      <th>PA</th>\n",
              "      <th>HR</th>\n",
              "      <th>R</th>\n",
              "      <th>RBI</th>\n",
              "      <th>SB</th>\n",
              "      <th>BB%</th>\n",
              "      <th>K%</th>\n",
              "      <th>ISO</th>\n",
              "      <th>BABIP</th>\n",
              "      <th>AVG</th>\n",
              "      <th>OBP</th>\n",
              "      <th>SLG</th>\n",
              "      <th>wOBA</th>\n",
              "      <th>xwOBA</th>\n",
              "      <th>wRC+</th>\n",
              "      <th>BsR</th>\n",
              "      <th>Off</th>\n",
              "      <th>Def</th>\n",
              "      <th>WAR</th>\n",
              "      <th>playerid</th>\n",
              "    </tr>\n",
              "  </thead>\n",
              "  <tbody>\n",
              "    <tr>\n",
              "      <th>0</th>\n",
              "      <td>Babe Ruth</td>\n",
              "      <td>- - -</td>\n",
              "      <td>2503</td>\n",
              "      <td>10616</td>\n",
              "      <td>714</td>\n",
              "      <td>2174</td>\n",
              "      <td>2217</td>\n",
              "      <td>123</td>\n",
              "      <td>19.4%</td>\n",
              "      <td>12.5%</td>\n",
              "      <td>0.348</td>\n",
              "      <td>0.340</td>\n",
              "      <td>0.342</td>\n",
              "      <td>0.474</td>\n",
              "      <td>0.690</td>\n",
              "      <td>0.513</td>\n",
              "      <td>NaN</td>\n",
              "      <td>197</td>\n",
              "      <td>-23.4</td>\n",
              "      <td>1347.3</td>\n",
              "      <td>-18.6</td>\n",
              "      <td>168.4</td>\n",
              "      <td>1011327</td>\n",
              "    </tr>\n",
              "    <tr>\n",
              "      <th>1</th>\n",
              "      <td>Willie Mays</td>\n",
              "      <td>- - -</td>\n",
              "      <td>2992</td>\n",
              "      <td>12493</td>\n",
              "      <td>660</td>\n",
              "      <td>2062</td>\n",
              "      <td>1903</td>\n",
              "      <td>338</td>\n",
              "      <td>11.7%</td>\n",
              "      <td>12.2%</td>\n",
              "      <td>0.256</td>\n",
              "      <td>0.299</td>\n",
              "      <td>0.302</td>\n",
              "      <td>0.384</td>\n",
              "      <td>0.557</td>\n",
              "      <td>0.409</td>\n",
              "      <td>NaN</td>\n",
              "      <td>154</td>\n",
              "      <td>32.9</td>\n",
              "      <td>837.5</td>\n",
              "      <td>170.1</td>\n",
              "      <td>149.9</td>\n",
              "      <td>1008315</td>\n",
              "    </tr>\n",
              "    <tr>\n",
              "      <th>2</th>\n",
              "      <td>Ty Cobb</td>\n",
              "      <td>- - -</td>\n",
              "      <td>3035</td>\n",
              "      <td>13072</td>\n",
              "      <td>117</td>\n",
              "      <td>2246</td>\n",
              "      <td>1937</td>\n",
              "      <td>892</td>\n",
              "      <td>9.6%</td>\n",
              "      <td>4.1%</td>\n",
              "      <td>0.146</td>\n",
              "      <td>0.378</td>\n",
              "      <td>0.366</td>\n",
              "      <td>0.433</td>\n",
              "      <td>0.512</td>\n",
              "      <td>0.445</td>\n",
              "      <td>NaN</td>\n",
              "      <td>165</td>\n",
              "      <td>60.6</td>\n",
              "      <td>1036.0</td>\n",
              "      <td>-90.0</td>\n",
              "      <td>149.3</td>\n",
              "      <td>1002378</td>\n",
              "    </tr>\n",
              "    <tr>\n",
              "      <th>3</th>\n",
              "      <td>Honus Wagner</td>\n",
              "      <td>- - -</td>\n",
              "      <td>2792</td>\n",
              "      <td>11739</td>\n",
              "      <td>101</td>\n",
              "      <td>1736</td>\n",
              "      <td>1732</td>\n",
              "      <td>722</td>\n",
              "      <td>8.2%</td>\n",
              "      <td>7.6%</td>\n",
              "      <td>0.139</td>\n",
              "      <td>0.318</td>\n",
              "      <td>0.327</td>\n",
              "      <td>0.391</td>\n",
              "      <td>0.466</td>\n",
              "      <td>0.408</td>\n",
              "      <td>NaN</td>\n",
              "      <td>147</td>\n",
              "      <td>56.9</td>\n",
              "      <td>704.7</td>\n",
              "      <td>184.4</td>\n",
              "      <td>138.1</td>\n",
              "      <td>1013485</td>\n",
              "    </tr>\n",
              "    <tr>\n",
              "      <th>4</th>\n",
              "      <td>Hank Aaron</td>\n",
              "      <td>- - -</td>\n",
              "      <td>3298</td>\n",
              "      <td>13940</td>\n",
              "      <td>755</td>\n",
              "      <td>2174</td>\n",
              "      <td>2297</td>\n",
              "      <td>240</td>\n",
              "      <td>10.1%</td>\n",
              "      <td>9.9%</td>\n",
              "      <td>0.250</td>\n",
              "      <td>0.291</td>\n",
              "      <td>0.305</td>\n",
              "      <td>0.374</td>\n",
              "      <td>0.555</td>\n",
              "      <td>0.403</td>\n",
              "      <td>NaN</td>\n",
              "      <td>153</td>\n",
              "      <td>24.9</td>\n",
              "      <td>882.0</td>\n",
              "      <td>-61.2</td>\n",
              "      <td>136.3</td>\n",
              "      <td>1000001</td>\n",
              "    </tr>\n",
              "    <tr>\n",
              "      <th>...</th>\n",
              "      <td>...</td>\n",
              "      <td>...</td>\n",
              "      <td>...</td>\n",
              "      <td>...</td>\n",
              "      <td>...</td>\n",
              "      <td>...</td>\n",
              "      <td>...</td>\n",
              "      <td>...</td>\n",
              "      <td>...</td>\n",
              "      <td>...</td>\n",
              "      <td>...</td>\n",
              "      <td>...</td>\n",
              "      <td>...</td>\n",
              "      <td>...</td>\n",
              "      <td>...</td>\n",
              "      <td>...</td>\n",
              "      <td>...</td>\n",
              "      <td>...</td>\n",
              "      <td>...</td>\n",
              "      <td>...</td>\n",
              "      <td>...</td>\n",
              "      <td>...</td>\n",
              "      <td>...</td>\n",
              "    </tr>\n",
              "    <tr>\n",
              "      <th>225</th>\n",
              "      <td>Lefty Gomez</td>\n",
              "      <td>- - -</td>\n",
              "      <td>368</td>\n",
              "      <td>1024</td>\n",
              "      <td>0</td>\n",
              "      <td>59</td>\n",
              "      <td>58</td>\n",
              "      <td>1</td>\n",
              "      <td>4.9%</td>\n",
              "      <td>24.6%</td>\n",
              "      <td>0.012</td>\n",
              "      <td>0.204</td>\n",
              "      <td>0.147</td>\n",
              "      <td>0.194</td>\n",
              "      <td>0.159</td>\n",
              "      <td>0.174</td>\n",
              "      <td>NaN</td>\n",
              "      <td>-2</td>\n",
              "      <td>-0.5</td>\n",
              "      <td>-146.6</td>\n",
              "      <td>69.0</td>\n",
              "      <td>-3.9</td>\n",
              "      <td>1004821</td>\n",
              "    </tr>\n",
              "    <tr>\n",
              "      <th>226</th>\n",
              "      <td>Lefty Grove</td>\n",
              "      <td>- - -</td>\n",
              "      <td>619</td>\n",
              "      <td>1579</td>\n",
              "      <td>15</td>\n",
              "      <td>119</td>\n",
              "      <td>121</td>\n",
              "      <td>1</td>\n",
              "      <td>6.6%</td>\n",
              "      <td>37.6%</td>\n",
              "      <td>0.060</td>\n",
              "      <td>0.246</td>\n",
              "      <td>0.148</td>\n",
              "      <td>0.209</td>\n",
              "      <td>0.207</td>\n",
              "      <td>0.202</td>\n",
              "      <td>NaN</td>\n",
              "      <td>6</td>\n",
              "      <td>-0.5</td>\n",
              "      <td>-206.3</td>\n",
              "      <td>103.6</td>\n",
              "      <td>-4.4</td>\n",
              "      <td>1005099</td>\n",
              "    </tr>\n",
              "    <tr>\n",
              "      <th>227</th>\n",
              "      <td>Pud Galvin</td>\n",
              "      <td>- - -</td>\n",
              "      <td>731</td>\n",
              "      <td>2788</td>\n",
              "      <td>5</td>\n",
              "      <td>278</td>\n",
              "      <td>220</td>\n",
              "      <td>23</td>\n",
              "      <td>1.4%</td>\n",
              "      <td>24.7%</td>\n",
              "      <td>0.060</td>\n",
              "      <td>0.263</td>\n",
              "      <td>0.201</td>\n",
              "      <td>0.212</td>\n",
              "      <td>0.261</td>\n",
              "      <td>0.217</td>\n",
              "      <td>NaN</td>\n",
              "      <td>57</td>\n",
              "      <td>-2.7</td>\n",
              "      <td>-181.7</td>\n",
              "      <td>25.7</td>\n",
              "      <td>-4.5</td>\n",
              "      <td>1004469</td>\n",
              "    </tr>\n",
              "    <tr>\n",
              "      <th>228</th>\n",
              "      <td>Vic Willis</td>\n",
              "      <td>- - -</td>\n",
              "      <td>531</td>\n",
              "      <td>1623</td>\n",
              "      <td>1</td>\n",
              "      <td>107</td>\n",
              "      <td>84</td>\n",
              "      <td>3</td>\n",
              "      <td>5.0%</td>\n",
              "      <td>11.1%</td>\n",
              "      <td>0.020</td>\n",
              "      <td>0.190</td>\n",
              "      <td>0.166</td>\n",
              "      <td>0.213</td>\n",
              "      <td>0.186</td>\n",
              "      <td>0.200</td>\n",
              "      <td>NaN</td>\n",
              "      <td>23</td>\n",
              "      <td>-7.3</td>\n",
              "      <td>-156.8</td>\n",
              "      <td>56.3</td>\n",
              "      <td>-4.7</td>\n",
              "      <td>1014042</td>\n",
              "    </tr>\n",
              "    <tr>\n",
              "      <th>229</th>\n",
              "      <td>Stan Coveleski</td>\n",
              "      <td>- - -</td>\n",
              "      <td>451</td>\n",
              "      <td>1187</td>\n",
              "      <td>1</td>\n",
              "      <td>70</td>\n",
              "      <td>81</td>\n",
              "      <td>0</td>\n",
              "      <td>4.5%</td>\n",
              "      <td>25.8%</td>\n",
              "      <td>0.046</td>\n",
              "      <td>0.223</td>\n",
              "      <td>0.159</td>\n",
              "      <td>0.202</td>\n",
              "      <td>0.205</td>\n",
              "      <td>0.199</td>\n",
              "      <td>NaN</td>\n",
              "      <td>7</td>\n",
              "      <td>-0.8</td>\n",
              "      <td>-141.7</td>\n",
              "      <td>54.5</td>\n",
              "      <td>-4.8</td>\n",
              "      <td>1002682</td>\n",
              "    </tr>\n",
              "  </tbody>\n",
              "</table>\n",
              "<p>230 rows × 23 columns</p>\n",
              "</div>"
            ],
            "text/plain": [
              "               Name   Team     G     PA  ...     Off    Def    WAR  playerid\n",
              "0         Babe Ruth  - - -  2503  10616  ...  1347.3  -18.6  168.4   1011327\n",
              "1       Willie Mays  - - -  2992  12493  ...   837.5  170.1  149.9   1008315\n",
              "2           Ty Cobb  - - -  3035  13072  ...  1036.0  -90.0  149.3   1002378\n",
              "3      Honus Wagner  - - -  2792  11739  ...   704.7  184.4  138.1   1013485\n",
              "4        Hank Aaron  - - -  3298  13940  ...   882.0  -61.2  136.3   1000001\n",
              "..              ...    ...   ...    ...  ...     ...    ...    ...       ...\n",
              "225     Lefty Gomez  - - -   368   1024  ...  -146.6   69.0   -3.9   1004821\n",
              "226     Lefty Grove  - - -   619   1579  ...  -206.3  103.6   -4.4   1005099\n",
              "227      Pud Galvin  - - -   731   2788  ...  -181.7   25.7   -4.5   1004469\n",
              "228      Vic Willis  - - -   531   1623  ...  -156.8   56.3   -4.7   1014042\n",
              "229  Stan Coveleski  - - -   451   1187  ...  -141.7   54.5   -4.8   1002682\n",
              "\n",
              "[230 rows x 23 columns]"
            ]
          },
          "metadata": {
            "tags": []
          },
          "execution_count": 73
        }
      ]
    },
    {
      "cell_type": "code",
      "metadata": {
        "colab": {
          "base_uri": "https://localhost:8080/",
          "height": 402
        },
        "id": "-jMmsuvwqWiR",
        "outputId": "8865f87a-bf91-4341-c39c-4735492b2fba"
      },
      "source": [
        "cols = ['WAR', 'K%']\n",
        "WALKS_BATTERS = B_df_2[cols]\n",
        "WALKS_BATTERS"
      ],
      "execution_count": 64,
      "outputs": [
        {
          "output_type": "execute_result",
          "data": {
            "text/html": [
              "<div>\n",
              "<style scoped>\n",
              "    .dataframe tbody tr th:only-of-type {\n",
              "        vertical-align: middle;\n",
              "    }\n",
              "\n",
              "    .dataframe tbody tr th {\n",
              "        vertical-align: top;\n",
              "    }\n",
              "\n",
              "    .dataframe thead th {\n",
              "        text-align: right;\n",
              "    }\n",
              "</style>\n",
              "<table border=\"1\" class=\"dataframe\">\n",
              "  <thead>\n",
              "    <tr style=\"text-align: right;\">\n",
              "      <th></th>\n",
              "      <th>WAR</th>\n",
              "      <th>K%</th>\n",
              "    </tr>\n",
              "  </thead>\n",
              "  <tbody>\n",
              "    <tr>\n",
              "      <th>0</th>\n",
              "      <td>168.4</td>\n",
              "      <td>12.5%</td>\n",
              "    </tr>\n",
              "    <tr>\n",
              "      <th>1</th>\n",
              "      <td>149.9</td>\n",
              "      <td>12.2%</td>\n",
              "    </tr>\n",
              "    <tr>\n",
              "      <th>2</th>\n",
              "      <td>149.3</td>\n",
              "      <td>4.1%</td>\n",
              "    </tr>\n",
              "    <tr>\n",
              "      <th>3</th>\n",
              "      <td>138.1</td>\n",
              "      <td>7.6%</td>\n",
              "    </tr>\n",
              "    <tr>\n",
              "      <th>4</th>\n",
              "      <td>136.3</td>\n",
              "      <td>9.9%</td>\n",
              "    </tr>\n",
              "    <tr>\n",
              "      <th>...</th>\n",
              "      <td>...</td>\n",
              "      <td>...</td>\n",
              "    </tr>\n",
              "    <tr>\n",
              "      <th>225</th>\n",
              "      <td>-3.9</td>\n",
              "      <td>24.6%</td>\n",
              "    </tr>\n",
              "    <tr>\n",
              "      <th>226</th>\n",
              "      <td>-4.4</td>\n",
              "      <td>37.6%</td>\n",
              "    </tr>\n",
              "    <tr>\n",
              "      <th>227</th>\n",
              "      <td>-4.5</td>\n",
              "      <td>24.7%</td>\n",
              "    </tr>\n",
              "    <tr>\n",
              "      <th>228</th>\n",
              "      <td>-4.7</td>\n",
              "      <td>11.1%</td>\n",
              "    </tr>\n",
              "    <tr>\n",
              "      <th>229</th>\n",
              "      <td>-4.8</td>\n",
              "      <td>25.8%</td>\n",
              "    </tr>\n",
              "  </tbody>\n",
              "</table>\n",
              "<p>230 rows × 2 columns</p>\n",
              "</div>"
            ],
            "text/plain": [
              "       WAR     K%\n",
              "0    168.4  12.5%\n",
              "1    149.9  12.2%\n",
              "2    149.3   4.1%\n",
              "3    138.1   7.6%\n",
              "4    136.3   9.9%\n",
              "..     ...    ...\n",
              "225   -3.9  24.6%\n",
              "226   -4.4  37.6%\n",
              "227   -4.5  24.7%\n",
              "228   -4.7  11.1%\n",
              "229   -4.8  25.8%\n",
              "\n",
              "[230 rows x 2 columns]"
            ]
          },
          "metadata": {
            "tags": []
          },
          "execution_count": 64
        }
      ]
    },
    {
      "cell_type": "code",
      "metadata": {
        "colab": {
          "base_uri": "https://localhost:8080/"
        },
        "id": "0SIDa9wJqi8w",
        "outputId": "28881940-d725-4cf8-d53b-dbd90172796f"
      },
      "source": [
        "List_Percentages = [str(x).replace('%',' ') for x in WALKS_BATTERS[\"K%\"]]\n",
        "# Create a list with the percents columns and remove the symbol, reinsert the list later. \n",
        "List_Percentages[:10]"
      ],
      "execution_count": 65,
      "outputs": [
        {
          "output_type": "execute_result",
          "data": {
            "text/plain": [
              "['12.5 ',\n",
              " '12.2 ',\n",
              " '4.1 ',\n",
              " '7.6 ',\n",
              " '9.9 ',\n",
              " '2.3 ',\n",
              " '7.2 ',\n",
              " '7.2 ',\n",
              " '5.5 ',\n",
              " '3.2 ']"
            ]
          },
          "metadata": {
            "tags": []
          },
          "execution_count": 65
        }
      ]
    },
    {
      "cell_type": "code",
      "metadata": {
        "colab": {
          "base_uri": "https://localhost:8080/",
          "height": 536
        },
        "id": "Q4QQvMvjrLX-",
        "outputId": "b1e6cbc9-4c26-4b44-f71f-f7ae874d1dab"
      },
      "source": [
        "WALKS_BATTERS['Strike Rate']= List_Percentages\n",
        "\n",
        "List_Percentages[:10]\n",
        "\n",
        "WALK_BATTERS_2=WALKS_BATTERS.drop(columns=[\"K%\"])\n",
        "WALK_BATTERS_2"
      ],
      "execution_count": 66,
      "outputs": [
        {
          "output_type": "stream",
          "text": [
            "/usr/local/lib/python3.7/dist-packages/ipykernel_launcher.py:1: SettingWithCopyWarning:\n",
            "\n",
            "\n",
            "A value is trying to be set on a copy of a slice from a DataFrame.\n",
            "Try using .loc[row_indexer,col_indexer] = value instead\n",
            "\n",
            "See the caveats in the documentation: https://pandas.pydata.org/pandas-docs/stable/user_guide/indexing.html#returning-a-view-versus-a-copy\n",
            "\n"
          ],
          "name": "stderr"
        },
        {
          "output_type": "execute_result",
          "data": {
            "text/html": [
              "<div>\n",
              "<style scoped>\n",
              "    .dataframe tbody tr th:only-of-type {\n",
              "        vertical-align: middle;\n",
              "    }\n",
              "\n",
              "    .dataframe tbody tr th {\n",
              "        vertical-align: top;\n",
              "    }\n",
              "\n",
              "    .dataframe thead th {\n",
              "        text-align: right;\n",
              "    }\n",
              "</style>\n",
              "<table border=\"1\" class=\"dataframe\">\n",
              "  <thead>\n",
              "    <tr style=\"text-align: right;\">\n",
              "      <th></th>\n",
              "      <th>WAR</th>\n",
              "      <th>Strike Rate</th>\n",
              "    </tr>\n",
              "  </thead>\n",
              "  <tbody>\n",
              "    <tr>\n",
              "      <th>0</th>\n",
              "      <td>168.4</td>\n",
              "      <td>12.5</td>\n",
              "    </tr>\n",
              "    <tr>\n",
              "      <th>1</th>\n",
              "      <td>149.9</td>\n",
              "      <td>12.2</td>\n",
              "    </tr>\n",
              "    <tr>\n",
              "      <th>2</th>\n",
              "      <td>149.3</td>\n",
              "      <td>4.1</td>\n",
              "    </tr>\n",
              "    <tr>\n",
              "      <th>3</th>\n",
              "      <td>138.1</td>\n",
              "      <td>7.6</td>\n",
              "    </tr>\n",
              "    <tr>\n",
              "      <th>4</th>\n",
              "      <td>136.3</td>\n",
              "      <td>9.9</td>\n",
              "    </tr>\n",
              "    <tr>\n",
              "      <th>...</th>\n",
              "      <td>...</td>\n",
              "      <td>...</td>\n",
              "    </tr>\n",
              "    <tr>\n",
              "      <th>225</th>\n",
              "      <td>-3.9</td>\n",
              "      <td>24.6</td>\n",
              "    </tr>\n",
              "    <tr>\n",
              "      <th>226</th>\n",
              "      <td>-4.4</td>\n",
              "      <td>37.6</td>\n",
              "    </tr>\n",
              "    <tr>\n",
              "      <th>227</th>\n",
              "      <td>-4.5</td>\n",
              "      <td>24.7</td>\n",
              "    </tr>\n",
              "    <tr>\n",
              "      <th>228</th>\n",
              "      <td>-4.7</td>\n",
              "      <td>11.1</td>\n",
              "    </tr>\n",
              "    <tr>\n",
              "      <th>229</th>\n",
              "      <td>-4.8</td>\n",
              "      <td>25.8</td>\n",
              "    </tr>\n",
              "  </tbody>\n",
              "</table>\n",
              "<p>230 rows × 2 columns</p>\n",
              "</div>"
            ],
            "text/plain": [
              "       WAR Strike Rate\n",
              "0    168.4       12.5 \n",
              "1    149.9       12.2 \n",
              "2    149.3        4.1 \n",
              "3    138.1        7.6 \n",
              "4    136.3        9.9 \n",
              "..     ...         ...\n",
              "225   -3.9       24.6 \n",
              "226   -4.4       37.6 \n",
              "227   -4.5       24.7 \n",
              "228   -4.7       11.1 \n",
              "229   -4.8       25.8 \n",
              "\n",
              "[230 rows x 2 columns]"
            ]
          },
          "metadata": {
            "tags": []
          },
          "execution_count": 66
        }
      ]
    },
    {
      "cell_type": "code",
      "metadata": {
        "colab": {
          "base_uri": "https://localhost:8080/"
        },
        "id": "BrO8IBypr6Bt",
        "outputId": "3c770c03-30d5-47ed-8ac4-4715ca669c8f"
      },
      "source": [
        "WALK_BATTERS_2['Strike Rate'] = WALK_BATTERS_2['Strike Rate'].astype(float)\n",
        "WALK_BATTERS_2.mean()"
      ],
      "execution_count": 67,
      "outputs": [
        {
          "output_type": "execute_result",
          "data": {
            "text/plain": [
              "WAR            45.763043\n",
              "Strike Rate    12.587556\n",
              "dtype: float64"
            ]
          },
          "metadata": {
            "tags": []
          },
          "execution_count": 67
        }
      ]
    },
    {
      "cell_type": "code",
      "metadata": {
        "id": "BUe2IlqHsLuF"
      },
      "source": [
        "HALL_of_Famers=12.587556 # This is lower than the lower limit of the confidence interval therefore, our alternate is true "
      ],
      "execution_count": null,
      "outputs": []
    },
    {
      "cell_type": "code",
      "metadata": {
        "colab": {
          "base_uri": "https://localhost:8080/"
        },
        "id": "SR_sEZpbsY1z",
        "outputId": "becb32e4-6e3c-4c52-f8bc-683b05f78bb2"
      },
      "source": [
        "# Print the 95% confidence interveral in the form (lower limit, upper limit)\n",
        "\n",
        "print(\"The 95% Confidence Interval = (\", lower_limit, \",\", upper_limit, \")\") # Now print both above to get your confidence interval\n",
        "\n",
        "\n",
        "print(\"The Hall of Fame Mean is  12.587556, less than the lower limit of \", lower_limit, )"
      ],
      "execution_count": 82,
      "outputs": [
        {
          "output_type": "stream",
          "text": [
            "The 95% Confidence Interval = ( 12.891330994727136 , 13.291163005272862 )\n",
            "The Hall of Fame Mean is  12.587556, less than the lower limit of  12.891330994727136\n"
          ],
          "name": "stdout"
        }
      ]
    },
    {
      "cell_type": "markdown",
      "metadata": {
        "id": "q5eLyPe9sfdk"
      },
      "source": [
        "### Alternate Hypothesis is true, Hall of Famer Batters stuck out less than the average MLB player. "
      ]
    },
    {
      "cell_type": "markdown",
      "metadata": {
        "id": "HycdBsBcTh7J"
      },
      "source": [
        "## Conclusion and analysis "
      ]
    },
    {
      "cell_type": "markdown",
      "metadata": {
        "id": "Ub1Wy2Agz-2N"
      },
      "source": [
        "Hypothesis 1 analysis : The correlation between walks and value are often much stronger than the correlation between strikeouts and value. One issue I came across is that, perhaps for the future, I can include value per game as opposed per game instead of total value throughout a career, as it is a correlation that is probably more accurate. \n",
        "\n",
        "Question 1 analysis: This one seemed obvious, pitchers are more valueable per game, but don't play every day whereas batters play everyday so this can be misleading. \n",
        "\n",
        "Question 2 analysis: This one is interesting, after finding out the confidence levels, ( which has a low range due to the size of the sample) a sample of hall of fame players do strikeout less than the average mlb player. So hall of fame batters do often strikeout less than there a large sample of baseball players. \n",
        "\n",
        "Questions/analysis and different approaches for subsequent study: \n",
        "\n",
        "As stated before,  I can include value per game as opposed per game instead of total value throughout a career, as it is a correlation that is probably more accurate. This is something that will be probably increase the correlations throughout. \n",
        "\n",
        "Lets keep in mind the other things that determine player value for reference. \n",
        "\n",
        "*   Batter value can be determined be player defensive rating, especially in positions that value defense more highly (shortstop and center fielder)  \n",
        "*   Batter value can be determined be player slugging percentage where homeruns can be the main driver of slugging percentage. \n",
        "*   Baserunning can also affect batter value \n",
        "*   Since the project did not look at per game value and looked at total value instead longevity can affect the correlations reliability \n",
        "*   Pitcher value is mostly determined by three things; walk rate, strikeouts, and homeruns given per game ( per nine innings to be exact) \n",
        "\n",
        "**Conclusion: Walks and strikeouts are just one of many ways to determine player value but walks are a better predictor of player value than strikeouts.** \n",
        "\n",
        "\n",
        "\n"
      ]
    }
  ]
}