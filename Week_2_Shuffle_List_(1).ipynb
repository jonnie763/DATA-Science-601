{
  "nbformat": 4,
  "nbformat_minor": 0,
  "metadata": {
    "kernelspec": {
      "display_name": "Python 3",
      "language": "python",
      "name": "python3"
    },
    "language_info": {
      "codemirror_mode": {
        "name": "ipython",
        "version": 3
      },
      "file_extension": ".py",
      "mimetype": "text/x-python",
      "name": "python",
      "nbconvert_exporter": "python",
      "pygments_lexer": "ipython3",
      "version": "3.8.3"
    },
    "colab": {
      "name": "Week 2 Shuffle List (1).ipynb",
      "provenance": [],
      "include_colab_link": true
    }
  },
  "cells": [
    {
      "cell_type": "markdown",
      "metadata": {
        "id": "view-in-github",
        "colab_type": "text"
      },
      "source": [
        "<a href=\"https://colab.research.google.com/github/jonnie763/DATA-Science-601/blob/main/Week_2_Shuffle_List_(1).ipynb\" target=\"_parent\"><img src=\"https://colab.research.google.com/assets/colab-badge.svg\" alt=\"Open In Colab\"/></a>"
      ]
    },
    {
      "cell_type": "markdown",
      "metadata": {
        "id": "78Wqotc3xKOc"
      },
      "source": [
        "Write a function that takes a list as the argument and returns a list with each element shifted right by one index. ​\n",
        "\n",
        "For example, [3, 7, 4, 1] becomes [1, 3, 7, 4]​\n",
        "\n",
        "Submit a .ipynb file via Blackboard. ​ ​"
      ]
    },
    {
      "cell_type": "code",
      "metadata": {
        "id": "zsOA0WedxKOe"
      },
      "source": [
        "def rotatebyone(l, n):      #Define function \n",
        "    return l[-n:] + l[:-n]  # Index by one return"
      ],
      "execution_count": 1,
      "outputs": []
    },
    {
      "cell_type": "code",
      "metadata": {
        "id": "nJkQ8klgxKOf"
      },
      "source": [
        "Number_list=[3, 7, 4, 1]   # Test Function "
      ],
      "execution_count": 3,
      "outputs": []
    },
    {
      "cell_type": "code",
      "metadata": {
        "id": "PynSRkIMxKOf",
        "outputId": "49f1abce-ca28-477c-d5ea-97e6dc9f0c7c",
        "colab": {
          "base_uri": "https://localhost:8080/"
        }
      },
      "source": [
        "rotatebyone(Number_list,1) # Function tested, output correct "
      ],
      "execution_count": 4,
      "outputs": [
        {
          "output_type": "execute_result",
          "data": {
            "text/plain": [
              "[1, 3, 7, 4]"
            ]
          },
          "metadata": {
            "tags": []
          },
          "execution_count": 4
        }
      ]
    },
    {
      "cell_type": "code",
      "metadata": {
        "id": "3hBsH7cZxKOg"
      },
      "source": [
        "Number_list_2=[1, 2, 3, 4] # Another example to test, output is correct index by one "
      ],
      "execution_count": 5,
      "outputs": []
    },
    {
      "cell_type": "code",
      "metadata": {
        "id": "hqGMBKBexKOg",
        "outputId": "bea91fc3-467e-4349-cb6b-4955c3b12cec",
        "colab": {
          "base_uri": "https://localhost:8080/"
        }
      },
      "source": [
        "rotatebyone(Number_list_2,1)"
      ],
      "execution_count": 6,
      "outputs": [
        {
          "output_type": "execute_result",
          "data": {
            "text/plain": [
              "[4, 1, 2, 3]"
            ]
          },
          "metadata": {
            "tags": []
          },
          "execution_count": 6
        }
      ]
    },
    {
      "cell_type": "code",
      "metadata": {
        "id": "hSLiH2VVxKOg"
      },
      "source": [
        ""
      ],
      "execution_count": null,
      "outputs": []
    }
  ]
}