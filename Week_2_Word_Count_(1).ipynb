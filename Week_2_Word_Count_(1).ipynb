{
  "nbformat": 4,
  "nbformat_minor": 0,
  "metadata": {
    "kernelspec": {
      "display_name": "Python 3",
      "language": "python",
      "name": "python3"
    },
    "language_info": {
      "codemirror_mode": {
        "name": "ipython",
        "version": 3
      },
      "file_extension": ".py",
      "mimetype": "text/x-python",
      "name": "python",
      "nbconvert_exporter": "python",
      "pygments_lexer": "ipython3",
      "version": "3.8.3"
    },
    "colab": {
      "name": "Week 2 Word Count (1).ipynb",
      "provenance": [],
      "include_colab_link": true
    }
  },
  "cells": [
    {
      "cell_type": "markdown",
      "metadata": {
        "id": "view-in-github",
        "colab_type": "text"
      },
      "source": [
        "<a href=\"https://colab.research.google.com/github/jonnie763/DATA-Science-601/blob/main/Week_2_Word_Count_(1).ipynb\" target=\"_parent\"><img src=\"https://colab.research.google.com/assets/colab-badge.svg\" alt=\"Open In Colab\"/></a>"
      ]
    },
    {
      "cell_type": "markdown",
      "metadata": {
        "id": "_Wf2qixLxklv"
      },
      "source": [
        "1. Assignment Content\n",
        "\n",
        "Write a function that returns the count of characters and words in a string. Do not use the print() function to display the results. The string should provided to the function as an argument. Submit a .ipynb file via Blackboard. ​ ​"
      ]
    },
    {
      "cell_type": "code",
      "metadata": {
        "colab": {
          "base_uri": "https://localhost:8080/"
        },
        "id": "AXyjpzFWxklx",
        "outputId": "651a866e-0d39-48a2-95a3-b830f0adf70a"
      },
      "source": [
        "String1= \"Hi my name is Jonathan\" # String I am using \n",
        "len (String1)                     # Count characters and whitespaces \n",
        "res = len(String1.split())        # Count Words \n",
        "\n",
        "print (\"There are\", str(res), \"words\")                               # Print version not for grade, just to check for later \n",
        "print ( \"There are\",(len (String1))-String1.count(' '),\"characters\") # You need to subtract to ccancel the white spaces "
      ],
      "execution_count": 6,
      "outputs": [
        {
          "output_type": "stream",
          "text": [
            "There are 5 words\n",
            "There are 18 characters\n"
          ],
          "name": "stdout"
        }
      ]
    },
    {
      "cell_type": "code",
      "metadata": {
        "id": "52_nGlxPxkly"
      },
      "source": [
        "string = \"Hi my name is Jonathan\"          # Make variables for string \n",
        "res = len(string.split())                  # Use for identifying word count \n",
        "def countlettersandwords(string):          # We will do what we did before, however now with a function \n",
        "    print (str(res))                       # Display word count \n",
        "    return len (string)- string.count(' ') # Return "
      ],
      "execution_count": 7,
      "outputs": []
    },
    {
      "cell_type": "code",
      "metadata": {
        "colab": {
          "base_uri": "https://localhost:8080/"
        },
        "id": "Tcs3poYjxklz",
        "outputId": "2b04e41b-ee1a-4090-a157-95d1c20cf4ea"
      },
      "source": [
        "countlettersandwords(string)              # Matches output from before (but now with function), also I did not use the print function to display the results on this code           "
      ],
      "execution_count": 8,
      "outputs": [
        {
          "output_type": "stream",
          "text": [
            "5\n"
          ],
          "name": "stdout"
        },
        {
          "output_type": "execute_result",
          "data": {
            "text/plain": [
              "18"
            ]
          },
          "metadata": {
            "tags": []
          },
          "execution_count": 8
        }
      ]
    },
    {
      "cell_type": "code",
      "metadata": {
        "colab": {
          "base_uri": "https://localhost:8080/"
        },
        "id": "L8NLLxn0xklz",
        "outputId": "0fbd6c16-875e-41f5-9e7a-7c4196ab71ed"
      },
      "source": [
        "string = \"I am 28\"           # Test another String \n",
        "res = len(string.split())    # For character counting\n",
        "countlettersandwords(string) #Another string has correct output, function is reliable "
      ],
      "execution_count": 9,
      "outputs": [
        {
          "output_type": "stream",
          "text": [
            "3\n"
          ],
          "name": "stdout"
        },
        {
          "output_type": "execute_result",
          "data": {
            "text/plain": [
              "5"
            ]
          },
          "metadata": {
            "tags": []
          },
          "execution_count": 9
        }
      ]
    }
  ]
}