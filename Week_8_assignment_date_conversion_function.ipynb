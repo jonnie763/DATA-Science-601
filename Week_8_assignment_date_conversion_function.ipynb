{
  "nbformat": 4,
  "nbformat_minor": 0,
  "metadata": {
    "colab": {
      "name": "Week 8 - assignment - date conversion function.ipynb",
      "provenance": [],
      "collapsed_sections": [],
      "authorship_tag": "ABX9TyOAfKt/FiILMg+w6yC/DFJX",
      "include_colab_link": true
    },
    "kernelspec": {
      "name": "python3",
      "display_name": "Python 3"
    },
    "language_info": {
      "name": "python"
    }
  },
  "cells": [
    {
      "cell_type": "markdown",
      "metadata": {
        "id": "view-in-github",
        "colab_type": "text"
      },
      "source": [
        "<a href=\"https://colab.research.google.com/github/jonnie763/DATA-Science-601/blob/main/Week_8_assignment_date_conversion_function.ipynb\" target=\"_parent\"><img src=\"https://colab.research.google.com/assets/colab-badge.svg\" alt=\"Open In Colab\"/></a>"
      ]
    },
    {
      "cell_type": "markdown",
      "metadata": {
        "id": "Mzk4EgIINPdn"
      },
      "source": [
        "Week 8 - assignment - date conversion function\n",
        "\n",
        "Assignment Content\n",
        "\n",
        "Complete the function that converts date to day of week\n",
        "\n",
        "The function should pass the doctest\n",
        "\n",
        "A template .ipynb file is provided"
      ]
    },
    {
      "cell_type": "code",
      "metadata": {
        "id": "aEVXSQzVNQnG"
      },
      "source": [
        "# https://kolesnikov.ga/Testing_and_Debugging_Jupyter_Notebooks/\n",
        "\n",
        "#https://www.geeksforgeeks.org/python-program-to-find-day-of-the-week-for-a-given-date/#:~:text=The%20weekday()%20function%20of,the%20day%20of%20the%20week.\n",
        "\n",
        "import doctest                    # Part of the assignment \n",
        "import datetime                   # Need it for the formatting \n",
        "import calendar                   # Also need this for the assignment \n",
        "from datetime import datetime     # Might need this for Eastern Time Zone \n",
        "from pytz import timezone         # Might need this for Eastern Time Zone"
      ],
      "execution_count": 1,
      "outputs": []
    },
    {
      "cell_type": "code",
      "metadata": {
        "colab": {
          "base_uri": "https://localhost:8080/"
        },
        "id": "Y9pYeiVqlAAB",
        "outputId": "ac110137-fc6b-4786-ccdc-5a9abe96f3db"
      },
      "source": [
        "# Python program to Find day of \n",
        "\n",
        "# the week for a given date\n",
        "\n",
        "# https://docs.python.org/3/library/datetime.html\n",
        "\n",
        "# https://www.geeksforgeeks.org/python-program-to-find-day-of-the-week-for-a-given-date/#:~:text=The%20weekday()%20function%20of,the%20day%20of%20the%20week.\n",
        "\n",
        "\n",
        "def findDay(date):                                                      # I grabbed a function that assesmbled our assignment, the link for this function is online \n",
        "    \"\"\"\n",
        "    This function takes date in the format MON DAY YEAR  HH:MM(PM/AM)  \n",
        "    and returns the day of the week\n",
        "    Assume input string is UTC\n",
        "    \n",
        "    >>> findDay('Jun 01 2005 1:33PM')\n",
        "    'Wednesday'\n",
        "    >>> findDay('Oct 25 2012  2:17AM')\n",
        "    'Thursday'\n",
        "    \"\"\"\n",
        "    born = datetime.strptime(date, '%b %d %Y %H:%M%p').weekday()     # The format of this is important so that it matches our assignment, a link for how datetime works is online below \n",
        "    return (calendar.day_name[born])                                 # https://docs.python.org/3/library/datetime.html\n",
        "  \n",
        "\n",
        "date = 'Jun 01 2005 1:33PM'                                          # I tested both dates with a print statement \n",
        "\n",
        "date_2=  \"Oct 25 2012 2:17AM\"\n",
        "\n",
        "\n",
        "print(findDay(date))\n",
        "\n",
        "\n",
        "print(findDay(date_2))                                              # Lets run a doctest to confirm "
      ],
      "execution_count": 2,
      "outputs": [
        {
          "output_type": "stream",
          "text": [
            "Wednesday\n",
            "Thursday\n"
          ],
          "name": "stdout"
        }
      ]
    },
    {
      "cell_type": "code",
      "metadata": {
        "colab": {
          "base_uri": "https://localhost:8080/"
        },
        "id": "t0hmyUEK3eiv",
        "outputId": "d3ccaafb-0fe1-4583-c231-3d50ad81614e"
      },
      "source": [
        "import doctest                                                      # The doc test confirms what is in the print statements \n",
        "doctest.testmod(verbose=True)"
      ],
      "execution_count": 3,
      "outputs": [
        {
          "output_type": "stream",
          "text": [
            "\n",
            "PYDEV DEBUGGER WARNING:\n",
            "sys.settrace() should not be used when the debugger is being used.\n",
            "This may cause the debugger to stop working correctly.\n",
            "If this is needed, please check: \n",
            "http://pydev.blogspot.com/2007/06/why-cant-pydev-debugger-work-with.html\n",
            "to see how to restore the debug tracing back correctly.\n",
            "Call Location:\n",
            "  File \"/usr/lib/python3.7/doctest.py\", line 1487, in run\n",
            "    sys.settrace(save_trace)\n",
            "\n"
          ],
          "name": "stderr"
        },
        {
          "output_type": "stream",
          "text": [
            "Trying:\n",
            "    findDay('Jun 01 2005 1:33PM')\n",
            "Expecting:\n",
            "    'Wednesday'\n",
            "ok\n",
            "Trying:\n",
            "    findDay('Oct 25 2012  2:17AM')\n",
            "Expecting:\n",
            "    'Thursday'\n",
            "ok\n",
            "1 items had no tests:\n",
            "    __main__\n",
            "1 items passed all tests:\n",
            "   2 tests in __main__.findDay\n",
            "2 tests in 2 items.\n",
            "2 passed and 0 failed.\n",
            "Test passed.\n"
          ],
          "name": "stdout"
        },
        {
          "output_type": "execute_result",
          "data": {
            "text/plain": [
              "TestResults(failed=0, attempted=2)"
            ]
          },
          "metadata": {
            "tags": []
          },
          "execution_count": 3
        }
      ]
    },
    {
      "cell_type": "code",
      "metadata": {
        "id": "dLNKLX8EZ8xg",
        "colab": {
          "base_uri": "https://localhost:8080/"
        },
        "outputId": "d694a30a-3afe-4c40-9d88-f5e181ec2f4d"
      },
      "source": [
        "def convert_datetime_to_dayofweek(datetime_string):                    # This is very similar to the code stated beforehand, however one has has to change the wording the function to match the assignment \n",
        "    \"\"\"\n",
        "    This function takes date in the format MON DAY YEAR  HH:MM(PM/AM)\n",
        "    and returns the day of the week\n",
        "    Assume input string is UTC\n",
        "    \n",
        "    >>> convert_datetime_to_dayofweek('Jun 01 2005 1:33PM')\n",
        "    'Wednesday'\n",
        "    >>> convert_datetime_to_dayofweek('Oct 25 2012  2:17AM')\n",
        "    'Thursday'\n",
        "    \"\"\"\n",
        "  \n",
        "    dayofweek =datetime.strptime(datetime_string, '%b %d %Y %H:%M%p').weekday()\n",
        "    \n",
        "    return (calendar.day_name[dayofweek])\n",
        "\n",
        "datetime_string = 'Jun 01 2005 1:33PM'\n",
        "\n",
        "datetime_string_2= 'Oct 25 2012 2:17AM'\n",
        "\n",
        "print(convert_datetime_to_dayofweek(datetime_string))\n",
        "\n",
        "print(convert_datetime_to_dayofweek(datetime_string_2))                 # Print has to match doctest"
      ],
      "execution_count": 4,
      "outputs": [
        {
          "output_type": "stream",
          "text": [
            "Wednesday\n",
            "Thursday\n"
          ],
          "name": "stdout"
        }
      ]
    },
    {
      "cell_type": "code",
      "metadata": {
        "id": "V7HcVuRraV_d",
        "colab": {
          "base_uri": "https://localhost:8080/"
        },
        "outputId": "280129c6-7b89-4413-b260-37291c05ef15"
      },
      "source": [
        "import doctest                 # Print statement matches doctest, assignment completed\n",
        "doctest.testmod(verbose=True)"
      ],
      "execution_count": 5,
      "outputs": [
        {
          "output_type": "stream",
          "text": [
            "Trying:\n",
            "    convert_datetime_to_dayofweek('Jun 01 2005 1:33PM')\n",
            "Expecting:\n",
            "    'Wednesday'\n",
            "ok\n",
            "Trying:\n",
            "    convert_datetime_to_dayofweek('Oct 25 2012  2:17AM')\n",
            "Expecting:\n",
            "    'Thursday'\n",
            "ok\n",
            "Trying:\n",
            "    findDay('Jun 01 2005 1:33PM')\n",
            "Expecting:\n",
            "    'Wednesday'\n",
            "ok\n",
            "Trying:\n",
            "    findDay('Oct 25 2012  2:17AM')\n",
            "Expecting:\n",
            "    'Thursday'\n",
            "ok\n",
            "1 items had no tests:\n",
            "    __main__\n",
            "2 items passed all tests:\n",
            "   2 tests in __main__.convert_datetime_to_dayofweek\n",
            "   2 tests in __main__.findDay\n",
            "4 tests in 3 items.\n",
            "4 passed and 0 failed.\n",
            "Test passed.\n"
          ],
          "name": "stdout"
        },
        {
          "output_type": "execute_result",
          "data": {
            "text/plain": [
              "TestResults(failed=0, attempted=4)"
            ]
          },
          "metadata": {
            "tags": []
          },
          "execution_count": 5
        }
      ]
    }
  ]
}