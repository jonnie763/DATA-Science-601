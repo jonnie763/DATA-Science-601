{
  "nbformat": 4,
  "nbformat_minor": 0,
  "metadata": {
    "kernelspec": {
      "display_name": "Python 3",
      "language": "python",
      "name": "python3"
    },
    "language_info": {
      "codemirror_mode": {
        "name": "ipython",
        "version": 3
      },
      "file_extension": ".py",
      "mimetype": "text/x-python",
      "name": "python",
      "nbconvert_exporter": "python",
      "pygments_lexer": "ipython3",
      "version": "3.8.5"
    },
    "colab": {
      "name": "Week 3, Fake Data.ipynb",
      "provenance": [],
      "include_colab_link": true
    }
  },
  "cells": [
    {
      "cell_type": "markdown",
      "metadata": {
        "id": "view-in-github",
        "colab_type": "text"
      },
      "source": [
        "<a href=\"https://colab.research.google.com/github/jonnie763/DATA-Science-601/blob/main/Week_3%2C_Fake_Data.ipynb\" target=\"_parent\"><img src=\"https://colab.research.google.com/assets/colab-badge.svg\" alt=\"Open In Colab\"/></a>"
      ]
    },
    {
      "cell_type": "markdown",
      "metadata": {
        "id": "AQtjM3mgP6q9"
      },
      "source": [
        "Assignment Content\n",
        "\n",
        "Write a Python notebook that generates a file containing the following data:​ ​\n",
        "\n",
        "Email addresses​. Must have an \"@\"\n",
        "Phone numbers​\n",
        "Home Address​\n",
        "Person's name​\n",
        "Year born. Use realistic values.​\n",
        "Number of kids. Use realistic values.​\n",
        "Categorical variable: rent or own?​\n",
        "Annual income. Optional challenge: Use a non-uniform distribution​\n",
        "Number of speeding tickets in past year. Optional challenge: Use a non-uniform distribution​\n",
        "The user of your notebook should be able to specify how many entities are to be generated.​ ​\n",
        "\n",
        "​Do not include the .csv output file in your submission -- the file should be generated dynamically.\n",
        "\n",
        "Order of columns in CSV is not relevant. ​\n",
        "\n",
        "See slides in lecture for tips."
      ]
    },
    {
      "cell_type": "markdown",
      "metadata": {
        "id": "azOmHUX4P6q_"
      },
      "source": [
        "1. I took a one column at a time approach, see below.  I WILL DO 100 ROWS and 9 COLUMNS. "
      ]
    },
    {
      "cell_type": "code",
      "metadata": {
        "id": "f0Ll0nzFP6rA"
      },
      "source": [
        "import pandas as pd # Import necessary libraries, I used alot of pandas and random here\n",
        "import numpy as np\n",
        "import random \n",
        "import string\n",
        "pd.set_option(\"max_rows\", 5)\n"
      ],
      "execution_count": null,
      "outputs": []
    },
    {
      "cell_type": "code",
      "metadata": {
        "id": "IMW-CN5-P6rB",
        "outputId": "d3a08f87-5820-4537-b1c8-ed898c9c11fc"
      },
      "source": [
        "data = np.random.randint(1920,2021,size=100) # Start with years, randomly generate years I thought this range was realistic \n",
        "df = pd.DataFrame(data,columns=['Year Born'])\n",
        "df"
      ],
      "execution_count": null,
      "outputs": [
        {
          "output_type": "execute_result",
          "data": {
            "text/html": [
              "<div>\n",
              "<style scoped>\n",
              "    .dataframe tbody tr th:only-of-type {\n",
              "        vertical-align: middle;\n",
              "    }\n",
              "\n",
              "    .dataframe tbody tr th {\n",
              "        vertical-align: top;\n",
              "    }\n",
              "\n",
              "    .dataframe thead th {\n",
              "        text-align: right;\n",
              "    }\n",
              "</style>\n",
              "<table border=\"1\" class=\"dataframe\">\n",
              "  <thead>\n",
              "    <tr style=\"text-align: right;\">\n",
              "      <th></th>\n",
              "      <th>Year Born</th>\n",
              "    </tr>\n",
              "  </thead>\n",
              "  <tbody>\n",
              "    <tr>\n",
              "      <th>0</th>\n",
              "      <td>2000</td>\n",
              "    </tr>\n",
              "    <tr>\n",
              "      <th>1</th>\n",
              "      <td>1995</td>\n",
              "    </tr>\n",
              "    <tr>\n",
              "      <th>...</th>\n",
              "      <td>...</td>\n",
              "    </tr>\n",
              "    <tr>\n",
              "      <th>98</th>\n",
              "      <td>1944</td>\n",
              "    </tr>\n",
              "    <tr>\n",
              "      <th>99</th>\n",
              "      <td>1986</td>\n",
              "    </tr>\n",
              "  </tbody>\n",
              "</table>\n",
              "<p>100 rows × 1 columns</p>\n",
              "</div>"
            ],
            "text/plain": [
              "    Year Born\n",
              "0        2000\n",
              "1        1995\n",
              "..        ...\n",
              "98       1944\n",
              "99       1986\n",
              "\n",
              "[100 rows x 1 columns]"
            ]
          },
          "metadata": {
            "tags": []
          },
          "execution_count": 204
        }
      ]
    },
    {
      "cell_type": "code",
      "metadata": {
        "id": "AiGN9y_gP6rC",
        "outputId": "56644463-bdc7-45c1-9f7d-1a8e61666630"
      },
      "source": [
        "data_2 = np.random.randint(0,5,size=100)\n",
        "df2 = pd.DataFrame(data_2, columns=['Number of Kids']) # Same as before, functionally, but with different range \n",
        "df2"
      ],
      "execution_count": null,
      "outputs": [
        {
          "output_type": "execute_result",
          "data": {
            "text/html": [
              "<div>\n",
              "<style scoped>\n",
              "    .dataframe tbody tr th:only-of-type {\n",
              "        vertical-align: middle;\n",
              "    }\n",
              "\n",
              "    .dataframe tbody tr th {\n",
              "        vertical-align: top;\n",
              "    }\n",
              "\n",
              "    .dataframe thead th {\n",
              "        text-align: right;\n",
              "    }\n",
              "</style>\n",
              "<table border=\"1\" class=\"dataframe\">\n",
              "  <thead>\n",
              "    <tr style=\"text-align: right;\">\n",
              "      <th></th>\n",
              "      <th>Number of Kids</th>\n",
              "    </tr>\n",
              "  </thead>\n",
              "  <tbody>\n",
              "    <tr>\n",
              "      <th>0</th>\n",
              "      <td>3</td>\n",
              "    </tr>\n",
              "    <tr>\n",
              "      <th>1</th>\n",
              "      <td>3</td>\n",
              "    </tr>\n",
              "    <tr>\n",
              "      <th>...</th>\n",
              "      <td>...</td>\n",
              "    </tr>\n",
              "    <tr>\n",
              "      <th>98</th>\n",
              "      <td>1</td>\n",
              "    </tr>\n",
              "    <tr>\n",
              "      <th>99</th>\n",
              "      <td>1</td>\n",
              "    </tr>\n",
              "  </tbody>\n",
              "</table>\n",
              "<p>100 rows × 1 columns</p>\n",
              "</div>"
            ],
            "text/plain": [
              "    Number of Kids\n",
              "0                3\n",
              "1                3\n",
              "..             ...\n",
              "98               1\n",
              "99               1\n",
              "\n",
              "[100 rows x 1 columns]"
            ]
          },
          "metadata": {
            "tags": []
          },
          "execution_count": 205
        }
      ]
    },
    {
      "cell_type": "code",
      "metadata": {
        "id": "fwPtAaEdP6rD",
        "outputId": "5094933a-84f6-4e49-d039-a3453ba468e6"
      },
      "source": [
        "df.join(df2)     # How I do my assignment, generate column, then I check if the column has sensible values, once it does I add to the other columns using \"join\"\n",
        "df3=df.join(df2)\n",
        "df3"
      ],
      "execution_count": null,
      "outputs": [
        {
          "output_type": "execute_result",
          "data": {
            "text/html": [
              "<div>\n",
              "<style scoped>\n",
              "    .dataframe tbody tr th:only-of-type {\n",
              "        vertical-align: middle;\n",
              "    }\n",
              "\n",
              "    .dataframe tbody tr th {\n",
              "        vertical-align: top;\n",
              "    }\n",
              "\n",
              "    .dataframe thead th {\n",
              "        text-align: right;\n",
              "    }\n",
              "</style>\n",
              "<table border=\"1\" class=\"dataframe\">\n",
              "  <thead>\n",
              "    <tr style=\"text-align: right;\">\n",
              "      <th></th>\n",
              "      <th>Year Born</th>\n",
              "      <th>Number of Kids</th>\n",
              "    </tr>\n",
              "  </thead>\n",
              "  <tbody>\n",
              "    <tr>\n",
              "      <th>0</th>\n",
              "      <td>2000</td>\n",
              "      <td>3</td>\n",
              "    </tr>\n",
              "    <tr>\n",
              "      <th>1</th>\n",
              "      <td>1995</td>\n",
              "      <td>3</td>\n",
              "    </tr>\n",
              "    <tr>\n",
              "      <th>...</th>\n",
              "      <td>...</td>\n",
              "      <td>...</td>\n",
              "    </tr>\n",
              "    <tr>\n",
              "      <th>98</th>\n",
              "      <td>1944</td>\n",
              "      <td>1</td>\n",
              "    </tr>\n",
              "    <tr>\n",
              "      <th>99</th>\n",
              "      <td>1986</td>\n",
              "      <td>1</td>\n",
              "    </tr>\n",
              "  </tbody>\n",
              "</table>\n",
              "<p>100 rows × 2 columns</p>\n",
              "</div>"
            ],
            "text/plain": [
              "    Year Born  Number of Kids\n",
              "0        2000               3\n",
              "1        1995               3\n",
              "..        ...             ...\n",
              "98       1944               1\n",
              "99       1986               1\n",
              "\n",
              "[100 rows x 2 columns]"
            ]
          },
          "metadata": {
            "tags": []
          },
          "execution_count": 206
        }
      ]
    },
    {
      "cell_type": "code",
      "metadata": {
        "id": "ZV8psfHtP6rD",
        "outputId": "22f1674d-8558-4402-aac2-666b9c4544b3"
      },
      "source": [
        "import pandas as pd\n",
        "Ad_df= pd.read_html(\"https://gist.github.com/HeroicEric/1102788\") # I webscraped some fake data to make the data a little more convincing    \n",
        "Ad_df = Ad_df[0] # Save the variable as GDP_df                    # Have to clean data then add one column at a time \n",
        "Ad_df"
      ],
      "execution_count": null,
      "outputs": [
        {
          "output_type": "execute_result",
          "data": {
            "text/html": [
              "<div>\n",
              "<style scoped>\n",
              "    .dataframe tbody tr th:only-of-type {\n",
              "        vertical-align: middle;\n",
              "    }\n",
              "\n",
              "    .dataframe tbody tr th {\n",
              "        vertical-align: top;\n",
              "    }\n",
              "\n",
              "    .dataframe thead th {\n",
              "        text-align: right;\n",
              "    }\n",
              "</style>\n",
              "<table border=\"1\" class=\"dataframe\">\n",
              "  <thead>\n",
              "    <tr style=\"text-align: right;\">\n",
              "      <th></th>\n",
              "      <th>0</th>\n",
              "      <th>1</th>\n",
              "    </tr>\n",
              "  </thead>\n",
              "  <tbody>\n",
              "    <tr>\n",
              "      <th>0</th>\n",
              "      <td>NaN</td>\n",
              "      <td>777 Brockton Avenue, Abington MA 2351</td>\n",
              "    </tr>\n",
              "    <tr>\n",
              "      <th>1</th>\n",
              "      <td>NaN</td>\n",
              "      <td>30 Memorial Drive, Avon MA 2322</td>\n",
              "    </tr>\n",
              "    <tr>\n",
              "      <th>...</th>\n",
              "      <td>...</td>\n",
              "      <td>...</td>\n",
              "    </tr>\n",
              "    <tr>\n",
              "      <th>232</th>\n",
              "      <td>NaN</td>\n",
              "      <td>4538 Us Hwy 231, Wetumpka AL 36092</td>\n",
              "    </tr>\n",
              "    <tr>\n",
              "      <th>233</th>\n",
              "      <td>NaN</td>\n",
              "      <td>2575 Us Hwy 43, Winfield AL 35594</td>\n",
              "    </tr>\n",
              "  </tbody>\n",
              "</table>\n",
              "<p>234 rows × 2 columns</p>\n",
              "</div>"
            ],
            "text/plain": [
              "      0                                      1\n",
              "0   NaN  777 Brockton Avenue, Abington MA 2351\n",
              "1   NaN        30 Memorial Drive, Avon MA 2322\n",
              "..   ..                                    ...\n",
              "232 NaN     4538 Us Hwy 231, Wetumpka AL 36092\n",
              "233 NaN      2575 Us Hwy 43, Winfield AL 35594\n",
              "\n",
              "[234 rows x 2 columns]"
            ]
          },
          "metadata": {
            "tags": []
          },
          "execution_count": 207
        }
      ]
    },
    {
      "cell_type": "code",
      "metadata": {
        "id": "DPJ8KWNrP6rE",
        "outputId": "e42832a5-24f2-4e30-b912-6d95c6d745d6"
      },
      "source": [
        "Ad_df.head(100)\n",
        "\n",
        "df_4=Ad_df.head(100)\n",
        "\n",
        "df_4=df_4.drop(columns=[0]) # Drop unnecessary columns \n",
        "\n",
        "df_4"
      ],
      "execution_count": null,
      "outputs": [
        {
          "output_type": "execute_result",
          "data": {
            "text/html": [
              "<div>\n",
              "<style scoped>\n",
              "    .dataframe tbody tr th:only-of-type {\n",
              "        vertical-align: middle;\n",
              "    }\n",
              "\n",
              "    .dataframe tbody tr th {\n",
              "        vertical-align: top;\n",
              "    }\n",
              "\n",
              "    .dataframe thead th {\n",
              "        text-align: right;\n",
              "    }\n",
              "</style>\n",
              "<table border=\"1\" class=\"dataframe\">\n",
              "  <thead>\n",
              "    <tr style=\"text-align: right;\">\n",
              "      <th></th>\n",
              "      <th>1</th>\n",
              "    </tr>\n",
              "  </thead>\n",
              "  <tbody>\n",
              "    <tr>\n",
              "      <th>0</th>\n",
              "      <td>777 Brockton Avenue, Abington MA 2351</td>\n",
              "    </tr>\n",
              "    <tr>\n",
              "      <th>1</th>\n",
              "      <td>30 Memorial Drive, Avon MA 2322</td>\n",
              "    </tr>\n",
              "    <tr>\n",
              "      <th>...</th>\n",
              "      <td>...</td>\n",
              "    </tr>\n",
              "    <tr>\n",
              "      <th>98</th>\n",
              "      <td>4765 Commercial Drive, New Hartford NY 13413</td>\n",
              "    </tr>\n",
              "    <tr>\n",
              "      <th>99</th>\n",
              "      <td>1201 Rt 300, Newburgh NY 12550</td>\n",
              "    </tr>\n",
              "  </tbody>\n",
              "</table>\n",
              "<p>100 rows × 1 columns</p>\n",
              "</div>"
            ],
            "text/plain": [
              "                                               1\n",
              "0          777 Brockton Avenue, Abington MA 2351\n",
              "1                30 Memorial Drive, Avon MA 2322\n",
              "..                                           ...\n",
              "98  4765 Commercial Drive, New Hartford NY 13413\n",
              "99                1201 Rt 300, Newburgh NY 12550\n",
              "\n",
              "[100 rows x 1 columns]"
            ]
          },
          "metadata": {
            "tags": []
          },
          "execution_count": 208
        }
      ]
    },
    {
      "cell_type": "code",
      "metadata": {
        "id": "TfiQodylP6rE",
        "outputId": "0fa3be61-cfae-4c58-e408-83088bf13101"
      },
      "source": [
        "df3.join(df_4)\n",
        "columns_3_df=df3.join(df_4) # Join columns but need to rename column, use join \n",
        "columns_3_df"
      ],
      "execution_count": null,
      "outputs": [
        {
          "output_type": "execute_result",
          "data": {
            "text/html": [
              "<div>\n",
              "<style scoped>\n",
              "    .dataframe tbody tr th:only-of-type {\n",
              "        vertical-align: middle;\n",
              "    }\n",
              "\n",
              "    .dataframe tbody tr th {\n",
              "        vertical-align: top;\n",
              "    }\n",
              "\n",
              "    .dataframe thead th {\n",
              "        text-align: right;\n",
              "    }\n",
              "</style>\n",
              "<table border=\"1\" class=\"dataframe\">\n",
              "  <thead>\n",
              "    <tr style=\"text-align: right;\">\n",
              "      <th></th>\n",
              "      <th>Year Born</th>\n",
              "      <th>Number of Kids</th>\n",
              "      <th>1</th>\n",
              "    </tr>\n",
              "  </thead>\n",
              "  <tbody>\n",
              "    <tr>\n",
              "      <th>0</th>\n",
              "      <td>2000</td>\n",
              "      <td>3</td>\n",
              "      <td>777 Brockton Avenue, Abington MA 2351</td>\n",
              "    </tr>\n",
              "    <tr>\n",
              "      <th>1</th>\n",
              "      <td>1995</td>\n",
              "      <td>3</td>\n",
              "      <td>30 Memorial Drive, Avon MA 2322</td>\n",
              "    </tr>\n",
              "    <tr>\n",
              "      <th>...</th>\n",
              "      <td>...</td>\n",
              "      <td>...</td>\n",
              "      <td>...</td>\n",
              "    </tr>\n",
              "    <tr>\n",
              "      <th>98</th>\n",
              "      <td>1944</td>\n",
              "      <td>1</td>\n",
              "      <td>4765 Commercial Drive, New Hartford NY 13413</td>\n",
              "    </tr>\n",
              "    <tr>\n",
              "      <th>99</th>\n",
              "      <td>1986</td>\n",
              "      <td>1</td>\n",
              "      <td>1201 Rt 300, Newburgh NY 12550</td>\n",
              "    </tr>\n",
              "  </tbody>\n",
              "</table>\n",
              "<p>100 rows × 3 columns</p>\n",
              "</div>"
            ],
            "text/plain": [
              "    Year Born  Number of Kids                                             1\n",
              "0        2000               3         777 Brockton Avenue, Abington MA 2351\n",
              "1        1995               3               30 Memorial Drive, Avon MA 2322\n",
              "..        ...             ...                                           ...\n",
              "98       1944               1  4765 Commercial Drive, New Hartford NY 13413\n",
              "99       1986               1                1201 Rt 300, Newburgh NY 12550\n",
              "\n",
              "[100 rows x 3 columns]"
            ]
          },
          "metadata": {
            "tags": []
          },
          "execution_count": 209
        }
      ]
    },
    {
      "cell_type": "code",
      "metadata": {
        "id": "CK9HB79cP6rF",
        "outputId": "09571ae8-dfd4-46cd-d02d-2ef9e11e76bd"
      },
      "source": [
        "Rename_df= columns_3_df.rename(columns={1: 'Addresses'}) # Rename to Addresses\n",
        "Rename_df"
      ],
      "execution_count": null,
      "outputs": [
        {
          "output_type": "execute_result",
          "data": {
            "text/html": [
              "<div>\n",
              "<style scoped>\n",
              "    .dataframe tbody tr th:only-of-type {\n",
              "        vertical-align: middle;\n",
              "    }\n",
              "\n",
              "    .dataframe tbody tr th {\n",
              "        vertical-align: top;\n",
              "    }\n",
              "\n",
              "    .dataframe thead th {\n",
              "        text-align: right;\n",
              "    }\n",
              "</style>\n",
              "<table border=\"1\" class=\"dataframe\">\n",
              "  <thead>\n",
              "    <tr style=\"text-align: right;\">\n",
              "      <th></th>\n",
              "      <th>Year Born</th>\n",
              "      <th>Number of Kids</th>\n",
              "      <th>Addresses</th>\n",
              "    </tr>\n",
              "  </thead>\n",
              "  <tbody>\n",
              "    <tr>\n",
              "      <th>0</th>\n",
              "      <td>2000</td>\n",
              "      <td>3</td>\n",
              "      <td>777 Brockton Avenue, Abington MA 2351</td>\n",
              "    </tr>\n",
              "    <tr>\n",
              "      <th>1</th>\n",
              "      <td>1995</td>\n",
              "      <td>3</td>\n",
              "      <td>30 Memorial Drive, Avon MA 2322</td>\n",
              "    </tr>\n",
              "    <tr>\n",
              "      <th>...</th>\n",
              "      <td>...</td>\n",
              "      <td>...</td>\n",
              "      <td>...</td>\n",
              "    </tr>\n",
              "    <tr>\n",
              "      <th>98</th>\n",
              "      <td>1944</td>\n",
              "      <td>1</td>\n",
              "      <td>4765 Commercial Drive, New Hartford NY 13413</td>\n",
              "    </tr>\n",
              "    <tr>\n",
              "      <th>99</th>\n",
              "      <td>1986</td>\n",
              "      <td>1</td>\n",
              "      <td>1201 Rt 300, Newburgh NY 12550</td>\n",
              "    </tr>\n",
              "  </tbody>\n",
              "</table>\n",
              "<p>100 rows × 3 columns</p>\n",
              "</div>"
            ],
            "text/plain": [
              "    Year Born  Number of Kids                                     Addresses\n",
              "0        2000               3         777 Brockton Avenue, Abington MA 2351\n",
              "1        1995               3               30 Memorial Drive, Avon MA 2322\n",
              "..        ...             ...                                           ...\n",
              "98       1944               1  4765 Commercial Drive, New Hartford NY 13413\n",
              "99       1986               1                1201 Rt 300, Newburgh NY 12550\n",
              "\n",
              "[100 rows x 3 columns]"
            ]
          },
          "metadata": {
            "tags": []
          },
          "execution_count": 210
        }
      ]
    },
    {
      "cell_type": "code",
      "metadata": {
        "id": "oYFt1fXEP6rF",
        "outputId": "c7cb8319-05dd-4598-9360-d25047eb41d6"
      },
      "source": [
        "pd.set_option(\"max_rows\", 5)\n",
        "\n",
        "Name_df= pd.read_html(\"https://www.ssa.gov/oact/babynames/decades/century.html\") # I webscraped more data this time names \n",
        "\n",
        "Name_df = Name_df[0] \n",
        "\n",
        "Males_df=Name_df['Males']\n",
        "\n",
        "Males_df[\"Name\"]\n",
        "\n",
        "Females_df=Name_df['Females']\n",
        "\n",
        "Combined_genders=Males_df[\"Name\"].append(Females_df['Name']).reset_index(drop=True) # I did a couple of things, first I seperated male and females names then added them again, I needed to reset the index to use the join function again\n",
        "\n",
        "Random_Names=Combined_genders.sample(100)                                           # Need only 100, so 100 random \n",
        "\n",
        "\n",
        "Random_Names_Cleansed = Random_Names.reset_index(drop=True) # Very important I reset indexes, or \"join\" won't work \n",
        "\n",
        "\n",
        "Random_Names_Cleansed\n"
      ],
      "execution_count": null,
      "outputs": [
        {
          "output_type": "execute_result",
          "data": {
            "text/plain": [
              "0       John\n",
              "1      Randy\n",
              "       ...  \n",
              "98    Evelyn\n",
              "99    Johnny\n",
              "Name: Name, Length: 100, dtype: object"
            ]
          },
          "metadata": {
            "tags": []
          },
          "execution_count": 211
        }
      ]
    },
    {
      "cell_type": "code",
      "metadata": {
        "id": "joKBTHH_P6rG"
      },
      "source": [
        "# There was problem with one of the cells, needed to replace it with realistic name, this came in handy \n",
        "\n",
        "Random_Names_Cleansed.replace(to_replace = \"Source: 100% sample based on Social Security card application data as of of March 2020. See the limitations of  this data source.\", \n",
        "                 value =\"Jonathan\") \n",
        "\n",
        "Random_Names_Cleansed_2=Random_Names_Cleansed.replace(to_replace = \"Source: 100% sample based on Social Security card application data as of of March 2020. See the limitations of  this data source.\", \n",
        "                 value =\"Jonathan\") "
      ],
      "execution_count": null,
      "outputs": []
    },
    {
      "cell_type": "code",
      "metadata": {
        "id": "_BUEdQmxP6rG",
        "outputId": "60928138-5d42-40c0-c74c-0a4a5b5af349"
      },
      "source": [
        "columns_4_df=Rename_df.join(Random_Names_Cleansed_2) # Join again \n",
        "\n",
        "columns_4_df"
      ],
      "execution_count": null,
      "outputs": [
        {
          "output_type": "execute_result",
          "data": {
            "text/html": [
              "<div>\n",
              "<style scoped>\n",
              "    .dataframe tbody tr th:only-of-type {\n",
              "        vertical-align: middle;\n",
              "    }\n",
              "\n",
              "    .dataframe tbody tr th {\n",
              "        vertical-align: top;\n",
              "    }\n",
              "\n",
              "    .dataframe thead th {\n",
              "        text-align: right;\n",
              "    }\n",
              "</style>\n",
              "<table border=\"1\" class=\"dataframe\">\n",
              "  <thead>\n",
              "    <tr style=\"text-align: right;\">\n",
              "      <th></th>\n",
              "      <th>Year Born</th>\n",
              "      <th>Number of Kids</th>\n",
              "      <th>Addresses</th>\n",
              "      <th>Name</th>\n",
              "    </tr>\n",
              "  </thead>\n",
              "  <tbody>\n",
              "    <tr>\n",
              "      <th>0</th>\n",
              "      <td>2000</td>\n",
              "      <td>3</td>\n",
              "      <td>777 Brockton Avenue, Abington MA 2351</td>\n",
              "      <td>John</td>\n",
              "    </tr>\n",
              "    <tr>\n",
              "      <th>1</th>\n",
              "      <td>1995</td>\n",
              "      <td>3</td>\n",
              "      <td>30 Memorial Drive, Avon MA 2322</td>\n",
              "      <td>Randy</td>\n",
              "    </tr>\n",
              "    <tr>\n",
              "      <th>...</th>\n",
              "      <td>...</td>\n",
              "      <td>...</td>\n",
              "      <td>...</td>\n",
              "      <td>...</td>\n",
              "    </tr>\n",
              "    <tr>\n",
              "      <th>98</th>\n",
              "      <td>1944</td>\n",
              "      <td>1</td>\n",
              "      <td>4765 Commercial Drive, New Hartford NY 13413</td>\n",
              "      <td>Evelyn</td>\n",
              "    </tr>\n",
              "    <tr>\n",
              "      <th>99</th>\n",
              "      <td>1986</td>\n",
              "      <td>1</td>\n",
              "      <td>1201 Rt 300, Newburgh NY 12550</td>\n",
              "      <td>Johnny</td>\n",
              "    </tr>\n",
              "  </tbody>\n",
              "</table>\n",
              "<p>100 rows × 4 columns</p>\n",
              "</div>"
            ],
            "text/plain": [
              "    Year Born  Number of Kids                                     Addresses  \\\n",
              "0        2000               3         777 Brockton Avenue, Abington MA 2351   \n",
              "1        1995               3               30 Memorial Drive, Avon MA 2322   \n",
              "..        ...             ...                                           ...   \n",
              "98       1944               1  4765 Commercial Drive, New Hartford NY 13413   \n",
              "99       1986               1                1201 Rt 300, Newburgh NY 12550   \n",
              "\n",
              "      Name  \n",
              "0     John  \n",
              "1    Randy  \n",
              "..     ...  \n",
              "98  Evelyn  \n",
              "99  Johnny  \n",
              "\n",
              "[100 rows x 4 columns]"
            ]
          },
          "metadata": {
            "tags": []
          },
          "execution_count": 213
        }
      ]
    },
    {
      "cell_type": "code",
      "metadata": {
        "id": "pciDMEW9P6rG",
        "outputId": "2b59f18d-abf4-4c3c-e2f3-bef3bfbf75df"
      },
      "source": [
        "import random # https://www.tutorialspoint.com/generating-random-number-list-in-python\n",
        "\n",
        "randomlist = [] # Link above helpful, however need to change values \n",
        "for i in range(0,100):\n",
        "    n = random.randint(1111111111,9999999999)\n",
        "    randomlist.append(n)\n",
        "print(randomlist[80:]) # I truncated it to reduce the list, conserve space \n"
      ],
      "execution_count": null,
      "outputs": [
        {
          "output_type": "stream",
          "text": [
            "[9601121425, 6583773039, 6752820287, 5358588987, 2999150128, 5736741815, 1835527553, 3982699166, 4396971229, 7548608941, 9414247384, 1839097090, 1158510587, 1987282752, 7127438463, 2352617431, 3414462580, 7083765906, 8206574383, 2623301705]\n"
          ],
          "name": "stdout"
        }
      ]
    },
    {
      "cell_type": "code",
      "metadata": {
        "id": "h_-a6s9sP6rH",
        "outputId": "c9b7f7f3-f2e8-4307-b24e-0c7621e55cc8"
      },
      "source": [
        "df_random = pd.DataFrame(randomlist,columns=['Phone Numbers']) # Turn values into workable column \n",
        "\n",
        "print(df_random)\n"
      ],
      "execution_count": null,
      "outputs": [
        {
          "output_type": "stream",
          "text": [
            "    Phone Numbers\n",
            "0      4397552170\n",
            "1      9608110897\n",
            "..            ...\n",
            "98     8206574383\n",
            "99     2623301705\n",
            "\n",
            "[100 rows x 1 columns]\n"
          ],
          "name": "stdout"
        }
      ]
    },
    {
      "cell_type": "code",
      "metadata": {
        "id": "OT3wDyu-P6rH",
        "outputId": "748e9422-05bb-4613-bada-1f7d749b6ddb"
      },
      "source": [
        "columns_5_df=columns_4_df.join(df_random) # Take previous column and add the cleansed column \n",
        "\n",
        "columns_5_df"
      ],
      "execution_count": null,
      "outputs": [
        {
          "output_type": "execute_result",
          "data": {
            "text/html": [
              "<div>\n",
              "<style scoped>\n",
              "    .dataframe tbody tr th:only-of-type {\n",
              "        vertical-align: middle;\n",
              "    }\n",
              "\n",
              "    .dataframe tbody tr th {\n",
              "        vertical-align: top;\n",
              "    }\n",
              "\n",
              "    .dataframe thead th {\n",
              "        text-align: right;\n",
              "    }\n",
              "</style>\n",
              "<table border=\"1\" class=\"dataframe\">\n",
              "  <thead>\n",
              "    <tr style=\"text-align: right;\">\n",
              "      <th></th>\n",
              "      <th>Year Born</th>\n",
              "      <th>Number of Kids</th>\n",
              "      <th>Addresses</th>\n",
              "      <th>Name</th>\n",
              "      <th>Phone Numbers</th>\n",
              "    </tr>\n",
              "  </thead>\n",
              "  <tbody>\n",
              "    <tr>\n",
              "      <th>0</th>\n",
              "      <td>2000</td>\n",
              "      <td>3</td>\n",
              "      <td>777 Brockton Avenue, Abington MA 2351</td>\n",
              "      <td>John</td>\n",
              "      <td>4397552170</td>\n",
              "    </tr>\n",
              "    <tr>\n",
              "      <th>1</th>\n",
              "      <td>1995</td>\n",
              "      <td>3</td>\n",
              "      <td>30 Memorial Drive, Avon MA 2322</td>\n",
              "      <td>Randy</td>\n",
              "      <td>9608110897</td>\n",
              "    </tr>\n",
              "    <tr>\n",
              "      <th>...</th>\n",
              "      <td>...</td>\n",
              "      <td>...</td>\n",
              "      <td>...</td>\n",
              "      <td>...</td>\n",
              "      <td>...</td>\n",
              "    </tr>\n",
              "    <tr>\n",
              "      <th>98</th>\n",
              "      <td>1944</td>\n",
              "      <td>1</td>\n",
              "      <td>4765 Commercial Drive, New Hartford NY 13413</td>\n",
              "      <td>Evelyn</td>\n",
              "      <td>8206574383</td>\n",
              "    </tr>\n",
              "    <tr>\n",
              "      <th>99</th>\n",
              "      <td>1986</td>\n",
              "      <td>1</td>\n",
              "      <td>1201 Rt 300, Newburgh NY 12550</td>\n",
              "      <td>Johnny</td>\n",
              "      <td>2623301705</td>\n",
              "    </tr>\n",
              "  </tbody>\n",
              "</table>\n",
              "<p>100 rows × 5 columns</p>\n",
              "</div>"
            ],
            "text/plain": [
              "    Year Born  Number of Kids                                     Addresses  \\\n",
              "0        2000               3         777 Brockton Avenue, Abington MA 2351   \n",
              "1        1995               3               30 Memorial Drive, Avon MA 2322   \n",
              "..        ...             ...                                           ...   \n",
              "98       1944               1  4765 Commercial Drive, New Hartford NY 13413   \n",
              "99       1986               1                1201 Rt 300, Newburgh NY 12550   \n",
              "\n",
              "      Name  Phone Numbers  \n",
              "0     John     4397552170  \n",
              "1    Randy     9608110897  \n",
              "..     ...            ...  \n",
              "98  Evelyn     8206574383  \n",
              "99  Johnny     2623301705  \n",
              "\n",
              "[100 rows x 5 columns]"
            ]
          },
          "metadata": {
            "tags": []
          },
          "execution_count": 216
        }
      ]
    },
    {
      "cell_type": "markdown",
      "metadata": {
        "id": "PNCoqOOvP6rH"
      },
      "source": [
        "2. Now just do income, email addresses, rent or own, and speeding tickets "
      ]
    },
    {
      "cell_type": "code",
      "metadata": {
        "id": "m5ljb-SBP6rI",
        "outputId": "76f61a1a-bf0b-4b7b-a486-d2a62f97008b"
      },
      "source": [
        "import numpy as np\n",
        "items = [\"Rent\", \"Own\"]\n",
        "\n",
        "distribution = [0.35, .65] # Accurate List for realism, statistically true, https://www.census.gov/housing/hvs/files/currenthvspress.pdf\n",
        "num_samples = 2            # Approximate percentages for rent vs own, reflected above (.35=35%, .65=65%)\n",
        "samples = np.random.choice(items, 100, True, distribution)\n",
        "\n",
        "print(samples)"
      ],
      "execution_count": null,
      "outputs": [
        {
          "output_type": "stream",
          "text": [
            "['Own' 'Rent' 'Own' 'Own' 'Rent' 'Own' 'Rent' 'Own' 'Own' 'Own' 'Own'\n",
            " 'Own' 'Own' 'Rent' 'Own' 'Own' 'Own' 'Rent' 'Own' 'Own' 'Own' 'Own' 'Own'\n",
            " 'Own' 'Own' 'Own' 'Own' 'Rent' 'Rent' 'Own' 'Own' 'Rent' 'Own' 'Own'\n",
            " 'Own' 'Own' 'Own' 'Own' 'Own' 'Own' 'Own' 'Own' 'Own' 'Own' 'Own' 'Own'\n",
            " 'Rent' 'Own' 'Rent' 'Own' 'Rent' 'Own' 'Rent' 'Own' 'Rent' 'Rent' 'Own'\n",
            " 'Own' 'Own' 'Own' 'Rent' 'Own' 'Rent' 'Own' 'Rent' 'Rent' 'Rent' 'Own'\n",
            " 'Own' 'Own' 'Rent' 'Own' 'Own' 'Own' 'Rent' 'Own' 'Own' 'Own' 'Own' 'Own'\n",
            " 'Own' 'Rent' 'Own' 'Own' 'Rent' 'Rent' 'Own' 'Own' 'Own' 'Rent' 'Own'\n",
            " 'Own' 'Own' 'Rent' 'Own' 'Own' 'Own' 'Own' 'Own' 'Rent']\n"
          ],
          "name": "stdout"
        }
      ]
    },
    {
      "cell_type": "code",
      "metadata": {
        "id": "_f0SjuxmP6rI",
        "outputId": "983e20d9-f35d-4a87-d395-4661d0338275"
      },
      "source": [
        "Rent_df = pd.DataFrame(samples,columns=['Rent or Own'])\n",
        "\n",
        "print(Rent_df)\n"
      ],
      "execution_count": null,
      "outputs": [
        {
          "output_type": "stream",
          "text": [
            "   Rent or Own\n",
            "0          Own\n",
            "1         Rent\n",
            "..         ...\n",
            "98         Own\n",
            "99        Rent\n",
            "\n",
            "[100 rows x 1 columns]\n"
          ],
          "name": "stdout"
        }
      ]
    },
    {
      "cell_type": "code",
      "metadata": {
        "id": "I7SM1zsVP6rI",
        "outputId": "776996cc-9b31-4730-c3a6-24903d4ec621"
      },
      "source": [
        "columns_6_df=columns_5_df.join(Rent_df) # Add another column \n",
        "\n",
        "columns_6_df"
      ],
      "execution_count": null,
      "outputs": [
        {
          "output_type": "execute_result",
          "data": {
            "text/html": [
              "<div>\n",
              "<style scoped>\n",
              "    .dataframe tbody tr th:only-of-type {\n",
              "        vertical-align: middle;\n",
              "    }\n",
              "\n",
              "    .dataframe tbody tr th {\n",
              "        vertical-align: top;\n",
              "    }\n",
              "\n",
              "    .dataframe thead th {\n",
              "        text-align: right;\n",
              "    }\n",
              "</style>\n",
              "<table border=\"1\" class=\"dataframe\">\n",
              "  <thead>\n",
              "    <tr style=\"text-align: right;\">\n",
              "      <th></th>\n",
              "      <th>Year Born</th>\n",
              "      <th>Number of Kids</th>\n",
              "      <th>Addresses</th>\n",
              "      <th>Name</th>\n",
              "      <th>Phone Numbers</th>\n",
              "      <th>Rent or Own</th>\n",
              "    </tr>\n",
              "  </thead>\n",
              "  <tbody>\n",
              "    <tr>\n",
              "      <th>0</th>\n",
              "      <td>2000</td>\n",
              "      <td>3</td>\n",
              "      <td>777 Brockton Avenue, Abington MA 2351</td>\n",
              "      <td>John</td>\n",
              "      <td>4397552170</td>\n",
              "      <td>Own</td>\n",
              "    </tr>\n",
              "    <tr>\n",
              "      <th>1</th>\n",
              "      <td>1995</td>\n",
              "      <td>3</td>\n",
              "      <td>30 Memorial Drive, Avon MA 2322</td>\n",
              "      <td>Randy</td>\n",
              "      <td>9608110897</td>\n",
              "      <td>Rent</td>\n",
              "    </tr>\n",
              "    <tr>\n",
              "      <th>...</th>\n",
              "      <td>...</td>\n",
              "      <td>...</td>\n",
              "      <td>...</td>\n",
              "      <td>...</td>\n",
              "      <td>...</td>\n",
              "      <td>...</td>\n",
              "    </tr>\n",
              "    <tr>\n",
              "      <th>98</th>\n",
              "      <td>1944</td>\n",
              "      <td>1</td>\n",
              "      <td>4765 Commercial Drive, New Hartford NY 13413</td>\n",
              "      <td>Evelyn</td>\n",
              "      <td>8206574383</td>\n",
              "      <td>Own</td>\n",
              "    </tr>\n",
              "    <tr>\n",
              "      <th>99</th>\n",
              "      <td>1986</td>\n",
              "      <td>1</td>\n",
              "      <td>1201 Rt 300, Newburgh NY 12550</td>\n",
              "      <td>Johnny</td>\n",
              "      <td>2623301705</td>\n",
              "      <td>Rent</td>\n",
              "    </tr>\n",
              "  </tbody>\n",
              "</table>\n",
              "<p>100 rows × 6 columns</p>\n",
              "</div>"
            ],
            "text/plain": [
              "    Year Born  Number of Kids                                     Addresses  \\\n",
              "0        2000               3         777 Brockton Avenue, Abington MA 2351   \n",
              "1        1995               3               30 Memorial Drive, Avon MA 2322   \n",
              "..        ...             ...                                           ...   \n",
              "98       1944               1  4765 Commercial Drive, New Hartford NY 13413   \n",
              "99       1986               1                1201 Rt 300, Newburgh NY 12550   \n",
              "\n",
              "      Name  Phone Numbers Rent or Own  \n",
              "0     John     4397552170         Own  \n",
              "1    Randy     9608110897        Rent  \n",
              "..     ...            ...         ...  \n",
              "98  Evelyn     8206574383         Own  \n",
              "99  Johnny     2623301705        Rent  \n",
              "\n",
              "[100 rows x 6 columns]"
            ]
          },
          "metadata": {
            "tags": []
          },
          "execution_count": 219
        }
      ]
    },
    {
      "cell_type": "code",
      "metadata": {
        "id": "YXwQpTvaP6rJ",
        "outputId": "71fdef62-62a9-48f9-91b3-905e39090cf5"
      },
      "source": [
        "                                    # https://www.tutorialspoint.com/generating-random-number-list-in-python\n",
        "randomlist_2 = []\n",
        "for i in range(0,100):\n",
        "    n = random.randint(11111,99999) # Same idea as the random phone number but adjusted range for more \"real\" values\n",
        "    randomlist_2.append(n)\n",
        "print(randomlist_2)"
      ],
      "execution_count": null,
      "outputs": [
        {
          "output_type": "stream",
          "text": [
            "[98691, 65836, 61821, 43828, 70688, 13400, 63787, 99481, 35944, 17353, 12004, 86993, 46501, 54869, 91524, 12072, 36485, 55294, 58560, 65253, 55911, 68517, 97867, 61537, 85068, 81247, 76411, 94928, 34741, 94690, 14509, 64509, 26315, 76476, 96108, 63018, 37903, 49695, 29206, 42643, 62442, 47633, 70991, 66272, 23316, 69374, 25552, 11636, 70511, 27973, 20734, 48907, 60335, 80935, 49227, 48785, 82092, 98294, 19074, 63490, 49101, 85112, 17161, 87020, 61317, 45195, 97434, 71967, 78906, 35615, 69664, 24446, 43787, 63220, 63728, 92933, 52224, 80740, 60308, 77907, 30488, 56335, 43764, 82259, 88889, 88606, 35480, 83366, 27399, 55238, 16080, 73725, 61757, 51659, 75040, 67291, 85184, 85932, 95770, 23790]\n"
          ],
          "name": "stdout"
        }
      ]
    },
    {
      "cell_type": "code",
      "metadata": {
        "id": "zmF02kaPP6rJ"
      },
      "source": [
        "df_random_income = pd.DataFrame(randomlist_2,columns=['Income']) # As long as this goes through, you can then join no data cleansing needed"
      ],
      "execution_count": null,
      "outputs": []
    },
    {
      "cell_type": "code",
      "metadata": {
        "id": "P_fbYfEzP6rJ",
        "outputId": "49c51a04-433e-4bb4-c170-8fea193b9320"
      },
      "source": [
        "columns_7_df=columns_6_df.join(df_random_income ) \n",
        "\n",
        "columns_7_df"
      ],
      "execution_count": null,
      "outputs": [
        {
          "output_type": "execute_result",
          "data": {
            "text/html": [
              "<div>\n",
              "<style scoped>\n",
              "    .dataframe tbody tr th:only-of-type {\n",
              "        vertical-align: middle;\n",
              "    }\n",
              "\n",
              "    .dataframe tbody tr th {\n",
              "        vertical-align: top;\n",
              "    }\n",
              "\n",
              "    .dataframe thead th {\n",
              "        text-align: right;\n",
              "    }\n",
              "</style>\n",
              "<table border=\"1\" class=\"dataframe\">\n",
              "  <thead>\n",
              "    <tr style=\"text-align: right;\">\n",
              "      <th></th>\n",
              "      <th>Year Born</th>\n",
              "      <th>Number of Kids</th>\n",
              "      <th>Addresses</th>\n",
              "      <th>Name</th>\n",
              "      <th>Phone Numbers</th>\n",
              "      <th>Rent or Own</th>\n",
              "      <th>Income</th>\n",
              "    </tr>\n",
              "  </thead>\n",
              "  <tbody>\n",
              "    <tr>\n",
              "      <th>0</th>\n",
              "      <td>2000</td>\n",
              "      <td>3</td>\n",
              "      <td>777 Brockton Avenue, Abington MA 2351</td>\n",
              "      <td>John</td>\n",
              "      <td>4397552170</td>\n",
              "      <td>Own</td>\n",
              "      <td>98691</td>\n",
              "    </tr>\n",
              "    <tr>\n",
              "      <th>1</th>\n",
              "      <td>1995</td>\n",
              "      <td>3</td>\n",
              "      <td>30 Memorial Drive, Avon MA 2322</td>\n",
              "      <td>Randy</td>\n",
              "      <td>9608110897</td>\n",
              "      <td>Rent</td>\n",
              "      <td>65836</td>\n",
              "    </tr>\n",
              "    <tr>\n",
              "      <th>...</th>\n",
              "      <td>...</td>\n",
              "      <td>...</td>\n",
              "      <td>...</td>\n",
              "      <td>...</td>\n",
              "      <td>...</td>\n",
              "      <td>...</td>\n",
              "      <td>...</td>\n",
              "    </tr>\n",
              "    <tr>\n",
              "      <th>98</th>\n",
              "      <td>1944</td>\n",
              "      <td>1</td>\n",
              "      <td>4765 Commercial Drive, New Hartford NY 13413</td>\n",
              "      <td>Evelyn</td>\n",
              "      <td>8206574383</td>\n",
              "      <td>Own</td>\n",
              "      <td>95770</td>\n",
              "    </tr>\n",
              "    <tr>\n",
              "      <th>99</th>\n",
              "      <td>1986</td>\n",
              "      <td>1</td>\n",
              "      <td>1201 Rt 300, Newburgh NY 12550</td>\n",
              "      <td>Johnny</td>\n",
              "      <td>2623301705</td>\n",
              "      <td>Rent</td>\n",
              "      <td>23790</td>\n",
              "    </tr>\n",
              "  </tbody>\n",
              "</table>\n",
              "<p>100 rows × 7 columns</p>\n",
              "</div>"
            ],
            "text/plain": [
              "    Year Born  Number of Kids                                     Addresses  \\\n",
              "0        2000               3         777 Brockton Avenue, Abington MA 2351   \n",
              "1        1995               3               30 Memorial Drive, Avon MA 2322   \n",
              "..        ...             ...                                           ...   \n",
              "98       1944               1  4765 Commercial Drive, New Hartford NY 13413   \n",
              "99       1986               1                1201 Rt 300, Newburgh NY 12550   \n",
              "\n",
              "      Name  Phone Numbers Rent or Own  Income  \n",
              "0     John     4397552170         Own   98691  \n",
              "1    Randy     9608110897        Rent   65836  \n",
              "..     ...            ...         ...     ...  \n",
              "98  Evelyn     8206574383         Own   95770  \n",
              "99  Johnny     2623301705        Rent   23790  \n",
              "\n",
              "[100 rows x 7 columns]"
            ]
          },
          "metadata": {
            "tags": []
          },
          "execution_count": 222
        }
      ]
    },
    {
      "cell_type": "code",
      "metadata": {
        "id": "exKFlQkMP6rK",
        "outputId": "bcf51872-2c99-4fb8-feda-e4510bf4abd6"
      },
      "source": [
        "import numpy as np\n",
        "items = [0,1,2,3,4,5]\n",
        "\n",
        "distribution = [.50,.2,.1,.1,.05,.05] # Played around with the distribution,have no idea what the actual distributon is for speeding tickets  \n",
        "num_samples = 2                            \n",
        "samples_2 = np.random.choice(items, 100, True, distribution)\n",
        "\n",
        "print(samples_2)"
      ],
      "execution_count": null,
      "outputs": [
        {
          "output_type": "stream",
          "text": [
            "[2 1 0 5 0 1 3 2 0 1 0 1 0 1 3 0 0 4 5 3 1 0 0 5 0 0 0 1 3 0 3 0 0 0 0 2 0\n",
            " 1 0 0 3 0 0 2 0 3 5 3 1 5 2 1 0 0 5 3 0 1 0 1 0 0 5 1 5 2 1 0 0 0 0 0 4 0\n",
            " 0 3 3 0 4 2 0 0 2 1 1 0 1 0 1 3 2 1 0 0 1 4 0 0 1 0]\n"
          ],
          "name": "stdout"
        }
      ]
    },
    {
      "cell_type": "code",
      "metadata": {
        "id": "ErnpIvu_P6rK"
      },
      "source": [
        "df_random_speeding = pd.DataFrame(samples_2,columns=['Speeding Tickets'])"
      ],
      "execution_count": null,
      "outputs": []
    },
    {
      "cell_type": "code",
      "metadata": {
        "id": "vxGsucMmP6rK",
        "outputId": "4a7a14dc-1904-4739-c798-2b4bfed14658"
      },
      "source": [
        "columns_8_df=columns_7_df.join(df_random_speeding ) # List looks clean will join \n",
        "\n",
        "columns_8_df"
      ],
      "execution_count": null,
      "outputs": [
        {
          "output_type": "execute_result",
          "data": {
            "text/html": [
              "<div>\n",
              "<style scoped>\n",
              "    .dataframe tbody tr th:only-of-type {\n",
              "        vertical-align: middle;\n",
              "    }\n",
              "\n",
              "    .dataframe tbody tr th {\n",
              "        vertical-align: top;\n",
              "    }\n",
              "\n",
              "    .dataframe thead th {\n",
              "        text-align: right;\n",
              "    }\n",
              "</style>\n",
              "<table border=\"1\" class=\"dataframe\">\n",
              "  <thead>\n",
              "    <tr style=\"text-align: right;\">\n",
              "      <th></th>\n",
              "      <th>Year Born</th>\n",
              "      <th>Number of Kids</th>\n",
              "      <th>Addresses</th>\n",
              "      <th>Name</th>\n",
              "      <th>Phone Numbers</th>\n",
              "      <th>Rent or Own</th>\n",
              "      <th>Income</th>\n",
              "      <th>Speeding Tickets</th>\n",
              "    </tr>\n",
              "  </thead>\n",
              "  <tbody>\n",
              "    <tr>\n",
              "      <th>0</th>\n",
              "      <td>2000</td>\n",
              "      <td>3</td>\n",
              "      <td>777 Brockton Avenue, Abington MA 2351</td>\n",
              "      <td>John</td>\n",
              "      <td>4397552170</td>\n",
              "      <td>Own</td>\n",
              "      <td>98691</td>\n",
              "      <td>2</td>\n",
              "    </tr>\n",
              "    <tr>\n",
              "      <th>1</th>\n",
              "      <td>1995</td>\n",
              "      <td>3</td>\n",
              "      <td>30 Memorial Drive, Avon MA 2322</td>\n",
              "      <td>Randy</td>\n",
              "      <td>9608110897</td>\n",
              "      <td>Rent</td>\n",
              "      <td>65836</td>\n",
              "      <td>1</td>\n",
              "    </tr>\n",
              "    <tr>\n",
              "      <th>...</th>\n",
              "      <td>...</td>\n",
              "      <td>...</td>\n",
              "      <td>...</td>\n",
              "      <td>...</td>\n",
              "      <td>...</td>\n",
              "      <td>...</td>\n",
              "      <td>...</td>\n",
              "      <td>...</td>\n",
              "    </tr>\n",
              "    <tr>\n",
              "      <th>98</th>\n",
              "      <td>1944</td>\n",
              "      <td>1</td>\n",
              "      <td>4765 Commercial Drive, New Hartford NY 13413</td>\n",
              "      <td>Evelyn</td>\n",
              "      <td>8206574383</td>\n",
              "      <td>Own</td>\n",
              "      <td>95770</td>\n",
              "      <td>1</td>\n",
              "    </tr>\n",
              "    <tr>\n",
              "      <th>99</th>\n",
              "      <td>1986</td>\n",
              "      <td>1</td>\n",
              "      <td>1201 Rt 300, Newburgh NY 12550</td>\n",
              "      <td>Johnny</td>\n",
              "      <td>2623301705</td>\n",
              "      <td>Rent</td>\n",
              "      <td>23790</td>\n",
              "      <td>0</td>\n",
              "    </tr>\n",
              "  </tbody>\n",
              "</table>\n",
              "<p>100 rows × 8 columns</p>\n",
              "</div>"
            ],
            "text/plain": [
              "    Year Born  Number of Kids                                     Addresses  \\\n",
              "0        2000               3         777 Brockton Avenue, Abington MA 2351   \n",
              "1        1995               3               30 Memorial Drive, Avon MA 2322   \n",
              "..        ...             ...                                           ...   \n",
              "98       1944               1  4765 Commercial Drive, New Hartford NY 13413   \n",
              "99       1986               1                1201 Rt 300, Newburgh NY 12550   \n",
              "\n",
              "      Name  Phone Numbers Rent or Own  Income  Speeding Tickets  \n",
              "0     John     4397552170         Own   98691                 2  \n",
              "1    Randy     9608110897        Rent   65836                 1  \n",
              "..     ...            ...         ...     ...               ...  \n",
              "98  Evelyn     8206574383         Own   95770                 1  \n",
              "99  Johnny     2623301705        Rent   23790                 0  \n",
              "\n",
              "[100 rows x 8 columns]"
            ]
          },
          "metadata": {
            "tags": []
          },
          "execution_count": 225
        }
      ]
    },
    {
      "cell_type": "code",
      "metadata": {
        "id": "YexRYOWUP6rL",
        "outputId": "9a18596c-d4bc-41ce-ef97-6776c8696860"
      },
      "source": [
        "def random_char(y):    # https://stackoverflow.com/questions/59231343/how-to-make-random-email-generator\n",
        "       return ''.join(random.choice(string.ascii_letters) for x in range(y))\n",
        "\n",
        "randomlist_email = []  # The link was very helpful, it looks you generate a function add to a gmail and get a \"random\" email\n",
        "for i in range(0,100): # I needed to loop hundred to get hundred though, then append from a empty list \n",
        "    n = random_char(7)+\"@gmail.com\"\n",
        "    randomlist_email.append(n)\n",
        "print(randomlist_email[90:]) # Truncate for space "
      ],
      "execution_count": null,
      "outputs": [
        {
          "output_type": "stream",
          "text": [
            "['klrTXRA@gmail.com', 'BHfLmaB@gmail.com', 'pFkUccV@gmail.com', 'iJeUnul@gmail.com', 'gBHQJlf@gmail.com', 'pEFaPvV@gmail.com', 'xocxPmh@gmail.com', 'fTFdlKw@gmail.com', 'dXTyRzD@gmail.com', 'xWzpoGE@gmail.com']\n"
          ],
          "name": "stdout"
        }
      ]
    },
    {
      "cell_type": "code",
      "metadata": {
        "id": "ADMECwBRP6rL"
      },
      "source": [
        "df_random_email = pd.DataFrame(randomlist_email,columns=['Emails'])"
      ],
      "execution_count": null,
      "outputs": []
    },
    {
      "cell_type": "code",
      "metadata": {
        "id": "pVgJUtf7P6rM",
        "outputId": "1090d3e4-f019-4505-808e-9dc9d8dd89ae"
      },
      "source": [
        "columns_9_df=columns_8_df.join(df_random_email) # Data is clean join \n",
        "columns_9_df"
      ],
      "execution_count": null,
      "outputs": [
        {
          "output_type": "execute_result",
          "data": {
            "text/html": [
              "<div>\n",
              "<style scoped>\n",
              "    .dataframe tbody tr th:only-of-type {\n",
              "        vertical-align: middle;\n",
              "    }\n",
              "\n",
              "    .dataframe tbody tr th {\n",
              "        vertical-align: top;\n",
              "    }\n",
              "\n",
              "    .dataframe thead th {\n",
              "        text-align: right;\n",
              "    }\n",
              "</style>\n",
              "<table border=\"1\" class=\"dataframe\">\n",
              "  <thead>\n",
              "    <tr style=\"text-align: right;\">\n",
              "      <th></th>\n",
              "      <th>Year Born</th>\n",
              "      <th>Number of Kids</th>\n",
              "      <th>Addresses</th>\n",
              "      <th>Name</th>\n",
              "      <th>Phone Numbers</th>\n",
              "      <th>Rent or Own</th>\n",
              "      <th>Income</th>\n",
              "      <th>Speeding Tickets</th>\n",
              "      <th>Emails</th>\n",
              "    </tr>\n",
              "  </thead>\n",
              "  <tbody>\n",
              "    <tr>\n",
              "      <th>0</th>\n",
              "      <td>2000</td>\n",
              "      <td>3</td>\n",
              "      <td>777 Brockton Avenue, Abington MA 2351</td>\n",
              "      <td>John</td>\n",
              "      <td>4397552170</td>\n",
              "      <td>Own</td>\n",
              "      <td>98691</td>\n",
              "      <td>2</td>\n",
              "      <td>EEWmjgF@gmail.com</td>\n",
              "    </tr>\n",
              "    <tr>\n",
              "      <th>1</th>\n",
              "      <td>1995</td>\n",
              "      <td>3</td>\n",
              "      <td>30 Memorial Drive, Avon MA 2322</td>\n",
              "      <td>Randy</td>\n",
              "      <td>9608110897</td>\n",
              "      <td>Rent</td>\n",
              "      <td>65836</td>\n",
              "      <td>1</td>\n",
              "      <td>XdHpJyt@gmail.com</td>\n",
              "    </tr>\n",
              "    <tr>\n",
              "      <th>...</th>\n",
              "      <td>...</td>\n",
              "      <td>...</td>\n",
              "      <td>...</td>\n",
              "      <td>...</td>\n",
              "      <td>...</td>\n",
              "      <td>...</td>\n",
              "      <td>...</td>\n",
              "      <td>...</td>\n",
              "      <td>...</td>\n",
              "    </tr>\n",
              "    <tr>\n",
              "      <th>98</th>\n",
              "      <td>1944</td>\n",
              "      <td>1</td>\n",
              "      <td>4765 Commercial Drive, New Hartford NY 13413</td>\n",
              "      <td>Evelyn</td>\n",
              "      <td>8206574383</td>\n",
              "      <td>Own</td>\n",
              "      <td>95770</td>\n",
              "      <td>1</td>\n",
              "      <td>dXTyRzD@gmail.com</td>\n",
              "    </tr>\n",
              "    <tr>\n",
              "      <th>99</th>\n",
              "      <td>1986</td>\n",
              "      <td>1</td>\n",
              "      <td>1201 Rt 300, Newburgh NY 12550</td>\n",
              "      <td>Johnny</td>\n",
              "      <td>2623301705</td>\n",
              "      <td>Rent</td>\n",
              "      <td>23790</td>\n",
              "      <td>0</td>\n",
              "      <td>xWzpoGE@gmail.com</td>\n",
              "    </tr>\n",
              "  </tbody>\n",
              "</table>\n",
              "<p>100 rows × 9 columns</p>\n",
              "</div>"
            ],
            "text/plain": [
              "    Year Born  Number of Kids                                     Addresses  \\\n",
              "0        2000               3         777 Brockton Avenue, Abington MA 2351   \n",
              "1        1995               3               30 Memorial Drive, Avon MA 2322   \n",
              "..        ...             ...                                           ...   \n",
              "98       1944               1  4765 Commercial Drive, New Hartford NY 13413   \n",
              "99       1986               1                1201 Rt 300, Newburgh NY 12550   \n",
              "\n",
              "      Name  Phone Numbers Rent or Own  Income  Speeding Tickets  \\\n",
              "0     John     4397552170         Own   98691                 2   \n",
              "1    Randy     9608110897        Rent   65836                 1   \n",
              "..     ...            ...         ...     ...               ...   \n",
              "98  Evelyn     8206574383         Own   95770                 1   \n",
              "99  Johnny     2623301705        Rent   23790                 0   \n",
              "\n",
              "               Emails  \n",
              "0   EEWmjgF@gmail.com  \n",
              "1   XdHpJyt@gmail.com  \n",
              "..                ...  \n",
              "98  dXTyRzD@gmail.com  \n",
              "99  xWzpoGE@gmail.com  \n",
              "\n",
              "[100 rows x 9 columns]"
            ]
          },
          "metadata": {
            "tags": []
          },
          "execution_count": 228
        }
      ]
    },
    {
      "cell_type": "code",
      "metadata": {
        "id": "4aBBh7oDP6rM"
      },
      "source": [
        "columns_9_df.to_csv(r'Fake Data Generator') # This csv will show up on your downloads, if you want to look at without csv use pd.set_option(\"max_rows\", 100) on the first cell "
      ],
      "execution_count": null,
      "outputs": []
    },
    {
      "cell_type": "markdown",
      "metadata": {
        "id": "lohUiTzKP6rM"
      },
      "source": [
        "100 ROWS and 9 COLUMNS ARE DONE. "
      ]
    }
  ]
}