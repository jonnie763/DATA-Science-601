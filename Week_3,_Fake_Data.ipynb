{
  "nbformat": 4,
  "nbformat_minor": 0,
  "metadata": {
    "kernelspec": {
      "display_name": "Python 3",
      "language": "python",
      "name": "python3"
    },
    "language_info": {
      "codemirror_mode": {
        "name": "ipython",
        "version": 3
      },
      "file_extension": ".py",
      "mimetype": "text/x-python",
      "name": "python",
      "nbconvert_exporter": "python",
      "pygments_lexer": "ipython3",
      "version": "3.8.5"
    },
    "colab": {
      "name": "Week 3, Fake Data.ipynb",
      "provenance": [],
      "collapsed_sections": [],
      "include_colab_link": true
    }
  },
  "cells": [
    {
      "cell_type": "markdown",
      "metadata": {
        "id": "view-in-github",
        "colab_type": "text"
      },
      "source": [
        "<a href=\"https://colab.research.google.com/github/jonnie763/DATA-Science-601/blob/main/Week_3%2C_Fake_Data.ipynb\" target=\"_parent\"><img src=\"https://colab.research.google.com/assets/colab-badge.svg\" alt=\"Open In Colab\"/></a>"
      ]
    },
    {
      "cell_type": "markdown",
      "metadata": {
        "id": "22hiVBTTOFNf"
      },
      "source": [
        "Assignment Content\n",
        "\n",
        "Write a Python notebook that generates a file containing the following data:​ ​\n",
        "\n",
        "Email addresses​. Must have an \"@\"\n",
        "Phone numbers​\n",
        "Home Address​\n",
        "Person's name​\n",
        "Year born. Use realistic values.​\n",
        "Number of kids. Use realistic values.​\n",
        "Categorical variable: rent or own?​\n",
        "Annual income. Optional challenge: Use a non-uniform distribution​\n",
        "Number of speeding tickets in past year. Optional challenge: Use a non-uniform distribution​\n",
        "The user of your notebook should be able to specify how many entities are to be generated.​ ​\n",
        "\n",
        "​Do not include the .csv output file in your submission -- the file should be generated dynamically.\n",
        "\n",
        "Order of columns in CSV is not relevant. ​\n",
        "\n",
        "See slides in lecture for tips."
      ]
    },
    {
      "cell_type": "markdown",
      "metadata": {
        "id": "hSGdcb3ZOFNl"
      },
      "source": [
        "1. I took a one column at a time approach, see below "
      ]
    },
    {
      "cell_type": "code",
      "metadata": {
        "id": "hTmzenyOOFNm"
      },
      "source": [
        "import pandas as pd # Import necessary libraries, I used alot of pandas and random here\n",
        "import numpy as np\n",
        "import random \n",
        "import string\n",
        "pd.set_option(\"max_rows\", 5)\n"
      ],
      "execution_count": 1,
      "outputs": []
    },
    {
      "cell_type": "code",
      "metadata": {
        "colab": {
          "base_uri": "https://localhost:8080/",
          "height": 231
        },
        "id": "E7PzSWYXOFNm",
        "outputId": "0450adec-32b9-499c-8f3f-05945d9fd5a7"
      },
      "source": [
        "data = np.random.randint(1920,2021,size=100) # Start with years, randomly generate years I thought this range was realistic \n",
        "df = pd.DataFrame(data,columns=['Year Born'])\n",
        "df"
      ],
      "execution_count": 2,
      "outputs": [
        {
          "output_type": "execute_result",
          "data": {
            "text/html": [
              "<div>\n",
              "<style scoped>\n",
              "    .dataframe tbody tr th:only-of-type {\n",
              "        vertical-align: middle;\n",
              "    }\n",
              "\n",
              "    .dataframe tbody tr th {\n",
              "        vertical-align: top;\n",
              "    }\n",
              "\n",
              "    .dataframe thead th {\n",
              "        text-align: right;\n",
              "    }\n",
              "</style>\n",
              "<table border=\"1\" class=\"dataframe\">\n",
              "  <thead>\n",
              "    <tr style=\"text-align: right;\">\n",
              "      <th></th>\n",
              "      <th>Year Born</th>\n",
              "    </tr>\n",
              "  </thead>\n",
              "  <tbody>\n",
              "    <tr>\n",
              "      <th>0</th>\n",
              "      <td>1942</td>\n",
              "    </tr>\n",
              "    <tr>\n",
              "      <th>1</th>\n",
              "      <td>1976</td>\n",
              "    </tr>\n",
              "    <tr>\n",
              "      <th>...</th>\n",
              "      <td>...</td>\n",
              "    </tr>\n",
              "    <tr>\n",
              "      <th>98</th>\n",
              "      <td>1981</td>\n",
              "    </tr>\n",
              "    <tr>\n",
              "      <th>99</th>\n",
              "      <td>1999</td>\n",
              "    </tr>\n",
              "  </tbody>\n",
              "</table>\n",
              "<p>100 rows × 1 columns</p>\n",
              "</div>"
            ],
            "text/plain": [
              "    Year Born\n",
              "0        1942\n",
              "1        1976\n",
              "..        ...\n",
              "98       1981\n",
              "99       1999\n",
              "\n",
              "[100 rows x 1 columns]"
            ]
          },
          "metadata": {
            "tags": []
          },
          "execution_count": 2
        }
      ]
    },
    {
      "cell_type": "code",
      "metadata": {
        "colab": {
          "base_uri": "https://localhost:8080/",
          "height": 231
        },
        "id": "fUfDrmgrOFNm",
        "outputId": "38e092b9-c606-4395-9b52-8b64abdb82f4"
      },
      "source": [
        "data_2 = np.random.randint(0,5,size=100)\n",
        "df2 = pd.DataFrame(data_2, columns=['Number of Kids']) # Same as before, functionally, but with different range \n",
        "df2"
      ],
      "execution_count": 3,
      "outputs": [
        {
          "output_type": "execute_result",
          "data": {
            "text/html": [
              "<div>\n",
              "<style scoped>\n",
              "    .dataframe tbody tr th:only-of-type {\n",
              "        vertical-align: middle;\n",
              "    }\n",
              "\n",
              "    .dataframe tbody tr th {\n",
              "        vertical-align: top;\n",
              "    }\n",
              "\n",
              "    .dataframe thead th {\n",
              "        text-align: right;\n",
              "    }\n",
              "</style>\n",
              "<table border=\"1\" class=\"dataframe\">\n",
              "  <thead>\n",
              "    <tr style=\"text-align: right;\">\n",
              "      <th></th>\n",
              "      <th>Number of Kids</th>\n",
              "    </tr>\n",
              "  </thead>\n",
              "  <tbody>\n",
              "    <tr>\n",
              "      <th>0</th>\n",
              "      <td>1</td>\n",
              "    </tr>\n",
              "    <tr>\n",
              "      <th>1</th>\n",
              "      <td>0</td>\n",
              "    </tr>\n",
              "    <tr>\n",
              "      <th>...</th>\n",
              "      <td>...</td>\n",
              "    </tr>\n",
              "    <tr>\n",
              "      <th>98</th>\n",
              "      <td>4</td>\n",
              "    </tr>\n",
              "    <tr>\n",
              "      <th>99</th>\n",
              "      <td>3</td>\n",
              "    </tr>\n",
              "  </tbody>\n",
              "</table>\n",
              "<p>100 rows × 1 columns</p>\n",
              "</div>"
            ],
            "text/plain": [
              "    Number of Kids\n",
              "0                1\n",
              "1                0\n",
              "..             ...\n",
              "98               4\n",
              "99               3\n",
              "\n",
              "[100 rows x 1 columns]"
            ]
          },
          "metadata": {
            "tags": []
          },
          "execution_count": 3
        }
      ]
    },
    {
      "cell_type": "code",
      "metadata": {
        "colab": {
          "base_uri": "https://localhost:8080/",
          "height": 231
        },
        "id": "zqe9KiMhOFNn",
        "outputId": "a30933fa-45fc-48a0-f18c-e48f57a4bfd8"
      },
      "source": [
        "df.join(df2)     # How I do my assignment, generate column, then I check if the column has sensible values, once it does I add to the other columns using \"join\"\n",
        "df3=df.join(df2)\n",
        "df3"
      ],
      "execution_count": 4,
      "outputs": [
        {
          "output_type": "execute_result",
          "data": {
            "text/html": [
              "<div>\n",
              "<style scoped>\n",
              "    .dataframe tbody tr th:only-of-type {\n",
              "        vertical-align: middle;\n",
              "    }\n",
              "\n",
              "    .dataframe tbody tr th {\n",
              "        vertical-align: top;\n",
              "    }\n",
              "\n",
              "    .dataframe thead th {\n",
              "        text-align: right;\n",
              "    }\n",
              "</style>\n",
              "<table border=\"1\" class=\"dataframe\">\n",
              "  <thead>\n",
              "    <tr style=\"text-align: right;\">\n",
              "      <th></th>\n",
              "      <th>Year Born</th>\n",
              "      <th>Number of Kids</th>\n",
              "    </tr>\n",
              "  </thead>\n",
              "  <tbody>\n",
              "    <tr>\n",
              "      <th>0</th>\n",
              "      <td>1942</td>\n",
              "      <td>1</td>\n",
              "    </tr>\n",
              "    <tr>\n",
              "      <th>1</th>\n",
              "      <td>1976</td>\n",
              "      <td>0</td>\n",
              "    </tr>\n",
              "    <tr>\n",
              "      <th>...</th>\n",
              "      <td>...</td>\n",
              "      <td>...</td>\n",
              "    </tr>\n",
              "    <tr>\n",
              "      <th>98</th>\n",
              "      <td>1981</td>\n",
              "      <td>4</td>\n",
              "    </tr>\n",
              "    <tr>\n",
              "      <th>99</th>\n",
              "      <td>1999</td>\n",
              "      <td>3</td>\n",
              "    </tr>\n",
              "  </tbody>\n",
              "</table>\n",
              "<p>100 rows × 2 columns</p>\n",
              "</div>"
            ],
            "text/plain": [
              "    Year Born  Number of Kids\n",
              "0        1942               1\n",
              "1        1976               0\n",
              "..        ...             ...\n",
              "98       1981               4\n",
              "99       1999               3\n",
              "\n",
              "[100 rows x 2 columns]"
            ]
          },
          "metadata": {
            "tags": []
          },
          "execution_count": 4
        }
      ]
    },
    {
      "cell_type": "code",
      "metadata": {
        "colab": {
          "base_uri": "https://localhost:8080/",
          "height": 231
        },
        "id": "l-nEfHLCOFNn",
        "outputId": "87598eea-fbf0-4952-d706-395677cfce78"
      },
      "source": [
        "import pandas as pd\n",
        "Ad_df= pd.read_html(\"https://gist.github.com/HeroicEric/1102788\") # I webscraped some fake data to make the data a little more convincing    \n",
        "Ad_df = Ad_df[0] # Save the variable as GDP_df                    # Have to clean data then add one column at a time \n",
        "Ad_df"
      ],
      "execution_count": 5,
      "outputs": [
        {
          "output_type": "execute_result",
          "data": {
            "text/html": [
              "<div>\n",
              "<style scoped>\n",
              "    .dataframe tbody tr th:only-of-type {\n",
              "        vertical-align: middle;\n",
              "    }\n",
              "\n",
              "    .dataframe tbody tr th {\n",
              "        vertical-align: top;\n",
              "    }\n",
              "\n",
              "    .dataframe thead th {\n",
              "        text-align: right;\n",
              "    }\n",
              "</style>\n",
              "<table border=\"1\" class=\"dataframe\">\n",
              "  <thead>\n",
              "    <tr style=\"text-align: right;\">\n",
              "      <th></th>\n",
              "      <th>0</th>\n",
              "      <th>1</th>\n",
              "    </tr>\n",
              "  </thead>\n",
              "  <tbody>\n",
              "    <tr>\n",
              "      <th>0</th>\n",
              "      <td>NaN</td>\n",
              "      <td>777 Brockton Avenue, Abington MA 2351</td>\n",
              "    </tr>\n",
              "    <tr>\n",
              "      <th>1</th>\n",
              "      <td>NaN</td>\n",
              "      <td>30 Memorial Drive, Avon MA 2322</td>\n",
              "    </tr>\n",
              "    <tr>\n",
              "      <th>...</th>\n",
              "      <td>...</td>\n",
              "      <td>...</td>\n",
              "    </tr>\n",
              "    <tr>\n",
              "      <th>232</th>\n",
              "      <td>NaN</td>\n",
              "      <td>4538 Us Hwy 231, Wetumpka AL 36092</td>\n",
              "    </tr>\n",
              "    <tr>\n",
              "      <th>233</th>\n",
              "      <td>NaN</td>\n",
              "      <td>2575 Us Hwy 43, Winfield AL 35594</td>\n",
              "    </tr>\n",
              "  </tbody>\n",
              "</table>\n",
              "<p>234 rows × 2 columns</p>\n",
              "</div>"
            ],
            "text/plain": [
              "      0                                      1\n",
              "0   NaN  777 Brockton Avenue, Abington MA 2351\n",
              "1   NaN        30 Memorial Drive, Avon MA 2322\n",
              "..   ..                                    ...\n",
              "232 NaN     4538 Us Hwy 231, Wetumpka AL 36092\n",
              "233 NaN      2575 Us Hwy 43, Winfield AL 35594\n",
              "\n",
              "[234 rows x 2 columns]"
            ]
          },
          "metadata": {
            "tags": []
          },
          "execution_count": 5
        }
      ]
    },
    {
      "cell_type": "code",
      "metadata": {
        "colab": {
          "base_uri": "https://localhost:8080/",
          "height": 231
        },
        "id": "ucEguF5oOFNn",
        "outputId": "fec9615d-b7ee-4ca9-daf9-50834b496590"
      },
      "source": [
        "Ad_df.head(100)\n",
        "\n",
        "df_4=Ad_df.head(100)\n",
        "\n",
        "df_4=df_4.drop(columns=[0]) # Drop unnecessary columns \n",
        "\n",
        "df_4"
      ],
      "execution_count": 6,
      "outputs": [
        {
          "output_type": "execute_result",
          "data": {
            "text/html": [
              "<div>\n",
              "<style scoped>\n",
              "    .dataframe tbody tr th:only-of-type {\n",
              "        vertical-align: middle;\n",
              "    }\n",
              "\n",
              "    .dataframe tbody tr th {\n",
              "        vertical-align: top;\n",
              "    }\n",
              "\n",
              "    .dataframe thead th {\n",
              "        text-align: right;\n",
              "    }\n",
              "</style>\n",
              "<table border=\"1\" class=\"dataframe\">\n",
              "  <thead>\n",
              "    <tr style=\"text-align: right;\">\n",
              "      <th></th>\n",
              "      <th>1</th>\n",
              "    </tr>\n",
              "  </thead>\n",
              "  <tbody>\n",
              "    <tr>\n",
              "      <th>0</th>\n",
              "      <td>777 Brockton Avenue, Abington MA 2351</td>\n",
              "    </tr>\n",
              "    <tr>\n",
              "      <th>1</th>\n",
              "      <td>30 Memorial Drive, Avon MA 2322</td>\n",
              "    </tr>\n",
              "    <tr>\n",
              "      <th>...</th>\n",
              "      <td>...</td>\n",
              "    </tr>\n",
              "    <tr>\n",
              "      <th>98</th>\n",
              "      <td>4765 Commercial Drive, New Hartford NY 13413</td>\n",
              "    </tr>\n",
              "    <tr>\n",
              "      <th>99</th>\n",
              "      <td>1201 Rt 300, Newburgh NY 12550</td>\n",
              "    </tr>\n",
              "  </tbody>\n",
              "</table>\n",
              "<p>100 rows × 1 columns</p>\n",
              "</div>"
            ],
            "text/plain": [
              "                                               1\n",
              "0          777 Brockton Avenue, Abington MA 2351\n",
              "1                30 Memorial Drive, Avon MA 2322\n",
              "..                                           ...\n",
              "98  4765 Commercial Drive, New Hartford NY 13413\n",
              "99                1201 Rt 300, Newburgh NY 12550\n",
              "\n",
              "[100 rows x 1 columns]"
            ]
          },
          "metadata": {
            "tags": []
          },
          "execution_count": 6
        }
      ]
    },
    {
      "cell_type": "code",
      "metadata": {
        "colab": {
          "base_uri": "https://localhost:8080/",
          "height": 231
        },
        "id": "74_U6uEWOFNo",
        "outputId": "2a004527-1340-4467-d751-47faa26a7a84"
      },
      "source": [
        "df3.join(df_4)\n",
        "columns_3_df=df3.join(df_4) # Join columns but need to rename column, use join \n",
        "columns_3_df"
      ],
      "execution_count": 7,
      "outputs": [
        {
          "output_type": "execute_result",
          "data": {
            "text/html": [
              "<div>\n",
              "<style scoped>\n",
              "    .dataframe tbody tr th:only-of-type {\n",
              "        vertical-align: middle;\n",
              "    }\n",
              "\n",
              "    .dataframe tbody tr th {\n",
              "        vertical-align: top;\n",
              "    }\n",
              "\n",
              "    .dataframe thead th {\n",
              "        text-align: right;\n",
              "    }\n",
              "</style>\n",
              "<table border=\"1\" class=\"dataframe\">\n",
              "  <thead>\n",
              "    <tr style=\"text-align: right;\">\n",
              "      <th></th>\n",
              "      <th>Year Born</th>\n",
              "      <th>Number of Kids</th>\n",
              "      <th>1</th>\n",
              "    </tr>\n",
              "  </thead>\n",
              "  <tbody>\n",
              "    <tr>\n",
              "      <th>0</th>\n",
              "      <td>1942</td>\n",
              "      <td>1</td>\n",
              "      <td>777 Brockton Avenue, Abington MA 2351</td>\n",
              "    </tr>\n",
              "    <tr>\n",
              "      <th>1</th>\n",
              "      <td>1976</td>\n",
              "      <td>0</td>\n",
              "      <td>30 Memorial Drive, Avon MA 2322</td>\n",
              "    </tr>\n",
              "    <tr>\n",
              "      <th>...</th>\n",
              "      <td>...</td>\n",
              "      <td>...</td>\n",
              "      <td>...</td>\n",
              "    </tr>\n",
              "    <tr>\n",
              "      <th>98</th>\n",
              "      <td>1981</td>\n",
              "      <td>4</td>\n",
              "      <td>4765 Commercial Drive, New Hartford NY 13413</td>\n",
              "    </tr>\n",
              "    <tr>\n",
              "      <th>99</th>\n",
              "      <td>1999</td>\n",
              "      <td>3</td>\n",
              "      <td>1201 Rt 300, Newburgh NY 12550</td>\n",
              "    </tr>\n",
              "  </tbody>\n",
              "</table>\n",
              "<p>100 rows × 3 columns</p>\n",
              "</div>"
            ],
            "text/plain": [
              "    Year Born  Number of Kids                                             1\n",
              "0        1942               1         777 Brockton Avenue, Abington MA 2351\n",
              "1        1976               0               30 Memorial Drive, Avon MA 2322\n",
              "..        ...             ...                                           ...\n",
              "98       1981               4  4765 Commercial Drive, New Hartford NY 13413\n",
              "99       1999               3                1201 Rt 300, Newburgh NY 12550\n",
              "\n",
              "[100 rows x 3 columns]"
            ]
          },
          "metadata": {
            "tags": []
          },
          "execution_count": 7
        }
      ]
    },
    {
      "cell_type": "code",
      "metadata": {
        "colab": {
          "base_uri": "https://localhost:8080/",
          "height": 231
        },
        "id": "uV5p04OVOFNo",
        "outputId": "91e58de9-3bb9-4073-fdbb-175bebde28a2"
      },
      "source": [
        "Rename_df= columns_3_df.rename(columns={1: 'Addresses'}) # Rename to Addresses\n",
        "Rename_df"
      ],
      "execution_count": 8,
      "outputs": [
        {
          "output_type": "execute_result",
          "data": {
            "text/html": [
              "<div>\n",
              "<style scoped>\n",
              "    .dataframe tbody tr th:only-of-type {\n",
              "        vertical-align: middle;\n",
              "    }\n",
              "\n",
              "    .dataframe tbody tr th {\n",
              "        vertical-align: top;\n",
              "    }\n",
              "\n",
              "    .dataframe thead th {\n",
              "        text-align: right;\n",
              "    }\n",
              "</style>\n",
              "<table border=\"1\" class=\"dataframe\">\n",
              "  <thead>\n",
              "    <tr style=\"text-align: right;\">\n",
              "      <th></th>\n",
              "      <th>Year Born</th>\n",
              "      <th>Number of Kids</th>\n",
              "      <th>Addresses</th>\n",
              "    </tr>\n",
              "  </thead>\n",
              "  <tbody>\n",
              "    <tr>\n",
              "      <th>0</th>\n",
              "      <td>1942</td>\n",
              "      <td>1</td>\n",
              "      <td>777 Brockton Avenue, Abington MA 2351</td>\n",
              "    </tr>\n",
              "    <tr>\n",
              "      <th>1</th>\n",
              "      <td>1976</td>\n",
              "      <td>0</td>\n",
              "      <td>30 Memorial Drive, Avon MA 2322</td>\n",
              "    </tr>\n",
              "    <tr>\n",
              "      <th>...</th>\n",
              "      <td>...</td>\n",
              "      <td>...</td>\n",
              "      <td>...</td>\n",
              "    </tr>\n",
              "    <tr>\n",
              "      <th>98</th>\n",
              "      <td>1981</td>\n",
              "      <td>4</td>\n",
              "      <td>4765 Commercial Drive, New Hartford NY 13413</td>\n",
              "    </tr>\n",
              "    <tr>\n",
              "      <th>99</th>\n",
              "      <td>1999</td>\n",
              "      <td>3</td>\n",
              "      <td>1201 Rt 300, Newburgh NY 12550</td>\n",
              "    </tr>\n",
              "  </tbody>\n",
              "</table>\n",
              "<p>100 rows × 3 columns</p>\n",
              "</div>"
            ],
            "text/plain": [
              "    Year Born  Number of Kids                                     Addresses\n",
              "0        1942               1         777 Brockton Avenue, Abington MA 2351\n",
              "1        1976               0               30 Memorial Drive, Avon MA 2322\n",
              "..        ...             ...                                           ...\n",
              "98       1981               4  4765 Commercial Drive, New Hartford NY 13413\n",
              "99       1999               3                1201 Rt 300, Newburgh NY 12550\n",
              "\n",
              "[100 rows x 3 columns]"
            ]
          },
          "metadata": {
            "tags": []
          },
          "execution_count": 8
        }
      ]
    },
    {
      "cell_type": "code",
      "metadata": {
        "colab": {
          "base_uri": "https://localhost:8080/"
        },
        "id": "8GG8wWM7OFNo",
        "outputId": "0a9a85e7-8b35-416e-c715-5ae46c71ad03"
      },
      "source": [
        "pd.set_option(\"max_rows\", 5)\n",
        "\n",
        "Name_df= pd.read_html(\"https://www.ssa.gov/oact/babynames/decades/century.html\") # I webscraped more data this time names \n",
        "\n",
        "Name_df = Name_df[0] \n",
        "\n",
        "Males_df=Name_df['Males']\n",
        "\n",
        "Males_df[\"Name\"]\n",
        "\n",
        "Females_df=Name_df['Females']\n",
        "\n",
        "Combined_genders=Males_df[\"Name\"].append(Females_df['Name']).reset_index(drop=True) # I did a couple of things, first I seperated male and females names then added them again, I needed to reset the index to use the join function again\n",
        "\n",
        "Random_Names=Combined_genders.sample(100)                                           # Need only 100, so 100 random \n",
        "\n",
        "\n",
        "Random_Names_Cleansed = Random_Names.reset_index(drop=True) # Very important I reset indexes, or \"join\" won't work \n",
        "\n",
        "\n",
        "Random_Names_Cleansed\n"
      ],
      "execution_count": 9,
      "outputs": [
        {
          "output_type": "execute_result",
          "data": {
            "text/plain": [
              "0     Christopher\n",
              "1            Rose\n",
              "         ...     \n",
              "98         Amanda\n",
              "99          Larry\n",
              "Name: Name, Length: 100, dtype: object"
            ]
          },
          "metadata": {
            "tags": []
          },
          "execution_count": 9
        }
      ]
    },
    {
      "cell_type": "code",
      "metadata": {
        "id": "EMr79lDrOFNo"
      },
      "source": [
        "# There was problem with one of the cells, needed to replace it with realistic name, this came in handy \n",
        "\n",
        "Random_Names_Cleansed.replace(to_replace = \"Source: 100% sample based on Social Security card application data as of of March 2020. See the limitations of  this data source.\", \n",
        "                 value =\"Jonathan\") \n",
        "\n",
        "Random_Names_Cleansed_2=Random_Names_Cleansed.replace(to_replace = \"Source: 100% sample based on Social Security card application data as of of March 2020. See the limitations of  this data source.\", \n",
        "                 value =\"Jonathan\") "
      ],
      "execution_count": 10,
      "outputs": []
    },
    {
      "cell_type": "code",
      "metadata": {
        "colab": {
          "base_uri": "https://localhost:8080/",
          "height": 231
        },
        "id": "vcVt2SlHOFNp",
        "outputId": "34d6e70c-f760-4be9-d6b9-f4122455d482"
      },
      "source": [
        "columns_4_df=Rename_df.join(Random_Names_Cleansed_2) # Join again \n",
        "\n",
        "columns_4_df"
      ],
      "execution_count": 11,
      "outputs": [
        {
          "output_type": "execute_result",
          "data": {
            "text/html": [
              "<div>\n",
              "<style scoped>\n",
              "    .dataframe tbody tr th:only-of-type {\n",
              "        vertical-align: middle;\n",
              "    }\n",
              "\n",
              "    .dataframe tbody tr th {\n",
              "        vertical-align: top;\n",
              "    }\n",
              "\n",
              "    .dataframe thead th {\n",
              "        text-align: right;\n",
              "    }\n",
              "</style>\n",
              "<table border=\"1\" class=\"dataframe\">\n",
              "  <thead>\n",
              "    <tr style=\"text-align: right;\">\n",
              "      <th></th>\n",
              "      <th>Year Born</th>\n",
              "      <th>Number of Kids</th>\n",
              "      <th>Addresses</th>\n",
              "      <th>Name</th>\n",
              "    </tr>\n",
              "  </thead>\n",
              "  <tbody>\n",
              "    <tr>\n",
              "      <th>0</th>\n",
              "      <td>1942</td>\n",
              "      <td>1</td>\n",
              "      <td>777 Brockton Avenue, Abington MA 2351</td>\n",
              "      <td>Christopher</td>\n",
              "    </tr>\n",
              "    <tr>\n",
              "      <th>1</th>\n",
              "      <td>1976</td>\n",
              "      <td>0</td>\n",
              "      <td>30 Memorial Drive, Avon MA 2322</td>\n",
              "      <td>Rose</td>\n",
              "    </tr>\n",
              "    <tr>\n",
              "      <th>...</th>\n",
              "      <td>...</td>\n",
              "      <td>...</td>\n",
              "      <td>...</td>\n",
              "      <td>...</td>\n",
              "    </tr>\n",
              "    <tr>\n",
              "      <th>98</th>\n",
              "      <td>1981</td>\n",
              "      <td>4</td>\n",
              "      <td>4765 Commercial Drive, New Hartford NY 13413</td>\n",
              "      <td>Amanda</td>\n",
              "    </tr>\n",
              "    <tr>\n",
              "      <th>99</th>\n",
              "      <td>1999</td>\n",
              "      <td>3</td>\n",
              "      <td>1201 Rt 300, Newburgh NY 12550</td>\n",
              "      <td>Larry</td>\n",
              "    </tr>\n",
              "  </tbody>\n",
              "</table>\n",
              "<p>100 rows × 4 columns</p>\n",
              "</div>"
            ],
            "text/plain": [
              "    Year Born  ...         Name\n",
              "0        1942  ...  Christopher\n",
              "1        1976  ...         Rose\n",
              "..        ...  ...          ...\n",
              "98       1981  ...       Amanda\n",
              "99       1999  ...        Larry\n",
              "\n",
              "[100 rows x 4 columns]"
            ]
          },
          "metadata": {
            "tags": []
          },
          "execution_count": 11
        }
      ]
    },
    {
      "cell_type": "code",
      "metadata": {
        "colab": {
          "base_uri": "https://localhost:8080/"
        },
        "id": "thE57VQOOFNp",
        "outputId": "1127329b-a853-4938-818c-d742a3d529ef"
      },
      "source": [
        "import random # https://www.tutorialspoint.com/generating-random-number-list-in-python\n",
        "\n",
        "randomlist = [] # Link above helpful, however need to change values \n",
        "for i in range(0,100):\n",
        "    n = random.randint(1111111111,9999999999)\n",
        "    randomlist.append(n)\n",
        "print(randomlist[80:]) # I truncated it to reduce the list, conserve space \n"
      ],
      "execution_count": 12,
      "outputs": [
        {
          "output_type": "stream",
          "text": [
            "[8292550525, 5017312327, 1950496223, 4297356470, 9540919814, 1682641609, 9689581670, 5424332619, 1665300017, 5691271867, 3875065327, 6370712295, 2988380038, 1570033699, 9008065563, 7222904736, 4620047326, 4215713381, 8186854003, 7435664895]\n"
          ],
          "name": "stdout"
        }
      ]
    },
    {
      "cell_type": "code",
      "metadata": {
        "colab": {
          "base_uri": "https://localhost:8080/"
        },
        "id": "-vXQtopwOFNp",
        "outputId": "e0a5899c-4486-406a-e8c0-493f454b2ac3"
      },
      "source": [
        "df_random = pd.DataFrame(randomlist,columns=['Phone Numbers']) # Turn values into workable column \n",
        "\n",
        "print(df_random)\n"
      ],
      "execution_count": 13,
      "outputs": [
        {
          "output_type": "stream",
          "text": [
            "    Phone Numbers\n",
            "0      6703346809\n",
            "1      4501005561\n",
            "..            ...\n",
            "98     8186854003\n",
            "99     7435664895\n",
            "\n",
            "[100 rows x 1 columns]\n"
          ],
          "name": "stdout"
        }
      ]
    },
    {
      "cell_type": "code",
      "metadata": {
        "colab": {
          "base_uri": "https://localhost:8080/",
          "height": 231
        },
        "id": "MaTKRmwPOFNp",
        "outputId": "50c8865b-2bc2-41aa-e042-5c6954b3beb5"
      },
      "source": [
        "columns_5_df=columns_4_df.join(df_random) # Take previous column and add the cleansed column \n",
        "\n",
        "columns_5_df"
      ],
      "execution_count": 14,
      "outputs": [
        {
          "output_type": "execute_result",
          "data": {
            "text/html": [
              "<div>\n",
              "<style scoped>\n",
              "    .dataframe tbody tr th:only-of-type {\n",
              "        vertical-align: middle;\n",
              "    }\n",
              "\n",
              "    .dataframe tbody tr th {\n",
              "        vertical-align: top;\n",
              "    }\n",
              "\n",
              "    .dataframe thead th {\n",
              "        text-align: right;\n",
              "    }\n",
              "</style>\n",
              "<table border=\"1\" class=\"dataframe\">\n",
              "  <thead>\n",
              "    <tr style=\"text-align: right;\">\n",
              "      <th></th>\n",
              "      <th>Year Born</th>\n",
              "      <th>Number of Kids</th>\n",
              "      <th>Addresses</th>\n",
              "      <th>Name</th>\n",
              "      <th>Phone Numbers</th>\n",
              "    </tr>\n",
              "  </thead>\n",
              "  <tbody>\n",
              "    <tr>\n",
              "      <th>0</th>\n",
              "      <td>1942</td>\n",
              "      <td>1</td>\n",
              "      <td>777 Brockton Avenue, Abington MA 2351</td>\n",
              "      <td>Christopher</td>\n",
              "      <td>6703346809</td>\n",
              "    </tr>\n",
              "    <tr>\n",
              "      <th>1</th>\n",
              "      <td>1976</td>\n",
              "      <td>0</td>\n",
              "      <td>30 Memorial Drive, Avon MA 2322</td>\n",
              "      <td>Rose</td>\n",
              "      <td>4501005561</td>\n",
              "    </tr>\n",
              "    <tr>\n",
              "      <th>...</th>\n",
              "      <td>...</td>\n",
              "      <td>...</td>\n",
              "      <td>...</td>\n",
              "      <td>...</td>\n",
              "      <td>...</td>\n",
              "    </tr>\n",
              "    <tr>\n",
              "      <th>98</th>\n",
              "      <td>1981</td>\n",
              "      <td>4</td>\n",
              "      <td>4765 Commercial Drive, New Hartford NY 13413</td>\n",
              "      <td>Amanda</td>\n",
              "      <td>8186854003</td>\n",
              "    </tr>\n",
              "    <tr>\n",
              "      <th>99</th>\n",
              "      <td>1999</td>\n",
              "      <td>3</td>\n",
              "      <td>1201 Rt 300, Newburgh NY 12550</td>\n",
              "      <td>Larry</td>\n",
              "      <td>7435664895</td>\n",
              "    </tr>\n",
              "  </tbody>\n",
              "</table>\n",
              "<p>100 rows × 5 columns</p>\n",
              "</div>"
            ],
            "text/plain": [
              "    Year Born  Number of Kids  ...         Name Phone Numbers\n",
              "0        1942               1  ...  Christopher    6703346809\n",
              "1        1976               0  ...         Rose    4501005561\n",
              "..        ...             ...  ...          ...           ...\n",
              "98       1981               4  ...       Amanda    8186854003\n",
              "99       1999               3  ...        Larry    7435664895\n",
              "\n",
              "[100 rows x 5 columns]"
            ]
          },
          "metadata": {
            "tags": []
          },
          "execution_count": 14
        }
      ]
    },
    {
      "cell_type": "markdown",
      "metadata": {
        "id": "lH4KicfAOFNq"
      },
      "source": [
        "2. Now just do income, email addresses, rent or own, and speeding tickets "
      ]
    },
    {
      "cell_type": "code",
      "metadata": {
        "colab": {
          "base_uri": "https://localhost:8080/"
        },
        "id": "7mR4cWofOFNq",
        "outputId": "b3c54d3e-0e7e-48f2-9900-014ce86bf8ee"
      },
      "source": [
        "import numpy as np\n",
        "items = [\"Rent\", \"Own\"]\n",
        "\n",
        "distribution = [0.35, .65] # Accurate List for realism, statistically true, https://www.census.gov/housing/hvs/files/currenthvspress.pdf\n",
        "num_samples = 2            # Approximate percentages for rent vs own, reflected above (.35=35%, .65=65%)\n",
        "samples = np.random.choice(items, 100, True, distribution)\n",
        "\n",
        "print(samples)"
      ],
      "execution_count": 15,
      "outputs": [
        {
          "output_type": "stream",
          "text": [
            "['Rent' 'Rent' 'Own' 'Own' 'Own' 'Own' 'Own' 'Rent' 'Rent' 'Own' 'Own'\n",
            " 'Own' 'Own' 'Rent' 'Own' 'Own' 'Own' 'Rent' 'Own' 'Own' 'Rent' 'Own'\n",
            " 'Rent' 'Rent' 'Own' 'Own' 'Rent' 'Own' 'Own' 'Own' 'Own' 'Own' 'Rent'\n",
            " 'Own' 'Rent' 'Own' 'Own' 'Rent' 'Own' 'Rent' 'Rent' 'Rent' 'Own' 'Rent'\n",
            " 'Own' 'Rent' 'Rent' 'Own' 'Own' 'Rent' 'Own' 'Rent' 'Rent' 'Own' 'Rent'\n",
            " 'Own' 'Rent' 'Own' 'Rent' 'Own' 'Own' 'Own' 'Own' 'Rent' 'Rent' 'Own'\n",
            " 'Rent' 'Own' 'Own' 'Own' 'Own' 'Own' 'Rent' 'Own' 'Rent' 'Own' 'Own'\n",
            " 'Own' 'Own' 'Own' 'Own' 'Own' 'Own' 'Rent' 'Own' 'Rent' 'Rent' 'Own'\n",
            " 'Own' 'Rent' 'Own' 'Own' 'Own' 'Rent' 'Own' 'Own' 'Own' 'Rent' 'Own'\n",
            " 'Own']\n"
          ],
          "name": "stdout"
        }
      ]
    },
    {
      "cell_type": "code",
      "metadata": {
        "colab": {
          "base_uri": "https://localhost:8080/"
        },
        "id": "5CcWaoKIOFNq",
        "outputId": "a89510ee-1885-4543-e0b9-dff4bc32e9df"
      },
      "source": [
        "Rent_df = pd.DataFrame(samples,columns=['Rent or Own'])\n",
        "\n",
        "print(Rent_df)\n"
      ],
      "execution_count": 16,
      "outputs": [
        {
          "output_type": "stream",
          "text": [
            "   Rent or Own\n",
            "0         Rent\n",
            "1         Rent\n",
            "..         ...\n",
            "98         Own\n",
            "99         Own\n",
            "\n",
            "[100 rows x 1 columns]\n"
          ],
          "name": "stdout"
        }
      ]
    },
    {
      "cell_type": "code",
      "metadata": {
        "colab": {
          "base_uri": "https://localhost:8080/",
          "height": 231
        },
        "id": "ZgADUFVYOFNq",
        "outputId": "d3fd2545-596b-481c-db7e-f4b22db188d3"
      },
      "source": [
        "columns_6_df=columns_5_df.join(Rent_df) # Add another column \n",
        "\n",
        "columns_6_df"
      ],
      "execution_count": 17,
      "outputs": [
        {
          "output_type": "execute_result",
          "data": {
            "text/html": [
              "<div>\n",
              "<style scoped>\n",
              "    .dataframe tbody tr th:only-of-type {\n",
              "        vertical-align: middle;\n",
              "    }\n",
              "\n",
              "    .dataframe tbody tr th {\n",
              "        vertical-align: top;\n",
              "    }\n",
              "\n",
              "    .dataframe thead th {\n",
              "        text-align: right;\n",
              "    }\n",
              "</style>\n",
              "<table border=\"1\" class=\"dataframe\">\n",
              "  <thead>\n",
              "    <tr style=\"text-align: right;\">\n",
              "      <th></th>\n",
              "      <th>Year Born</th>\n",
              "      <th>Number of Kids</th>\n",
              "      <th>Addresses</th>\n",
              "      <th>Name</th>\n",
              "      <th>Phone Numbers</th>\n",
              "      <th>Rent or Own</th>\n",
              "    </tr>\n",
              "  </thead>\n",
              "  <tbody>\n",
              "    <tr>\n",
              "      <th>0</th>\n",
              "      <td>1942</td>\n",
              "      <td>1</td>\n",
              "      <td>777 Brockton Avenue, Abington MA 2351</td>\n",
              "      <td>Christopher</td>\n",
              "      <td>6703346809</td>\n",
              "      <td>Rent</td>\n",
              "    </tr>\n",
              "    <tr>\n",
              "      <th>1</th>\n",
              "      <td>1976</td>\n",
              "      <td>0</td>\n",
              "      <td>30 Memorial Drive, Avon MA 2322</td>\n",
              "      <td>Rose</td>\n",
              "      <td>4501005561</td>\n",
              "      <td>Rent</td>\n",
              "    </tr>\n",
              "    <tr>\n",
              "      <th>...</th>\n",
              "      <td>...</td>\n",
              "      <td>...</td>\n",
              "      <td>...</td>\n",
              "      <td>...</td>\n",
              "      <td>...</td>\n",
              "      <td>...</td>\n",
              "    </tr>\n",
              "    <tr>\n",
              "      <th>98</th>\n",
              "      <td>1981</td>\n",
              "      <td>4</td>\n",
              "      <td>4765 Commercial Drive, New Hartford NY 13413</td>\n",
              "      <td>Amanda</td>\n",
              "      <td>8186854003</td>\n",
              "      <td>Own</td>\n",
              "    </tr>\n",
              "    <tr>\n",
              "      <th>99</th>\n",
              "      <td>1999</td>\n",
              "      <td>3</td>\n",
              "      <td>1201 Rt 300, Newburgh NY 12550</td>\n",
              "      <td>Larry</td>\n",
              "      <td>7435664895</td>\n",
              "      <td>Own</td>\n",
              "    </tr>\n",
              "  </tbody>\n",
              "</table>\n",
              "<p>100 rows × 6 columns</p>\n",
              "</div>"
            ],
            "text/plain": [
              "    Year Born  Number of Kids  ... Phone Numbers Rent or Own\n",
              "0        1942               1  ...    6703346809        Rent\n",
              "1        1976               0  ...    4501005561        Rent\n",
              "..        ...             ...  ...           ...         ...\n",
              "98       1981               4  ...    8186854003         Own\n",
              "99       1999               3  ...    7435664895         Own\n",
              "\n",
              "[100 rows x 6 columns]"
            ]
          },
          "metadata": {
            "tags": []
          },
          "execution_count": 17
        }
      ]
    },
    {
      "cell_type": "code",
      "metadata": {
        "colab": {
          "base_uri": "https://localhost:8080/"
        },
        "id": "FovFgzixOFNq",
        "outputId": "7742c022-0ba2-40b6-cfaf-9bd1d085a654"
      },
      "source": [
        "                                    # https://www.tutorialspoint.com/generating-random-number-list-in-python\n",
        "randomlist_2 = []\n",
        "for i in range(0,100):\n",
        "    n = random.randint(11111,99999) # Same idea as the random phone number but adjusted range for more \"real\" values\n",
        "    randomlist_2.append(n)\n",
        "print(randomlist_2)"
      ],
      "execution_count": 18,
      "outputs": [
        {
          "output_type": "stream",
          "text": [
            "[70973, 50850, 72139, 80273, 29294, 29701, 69191, 62124, 45713, 89691, 53389, 17302, 75048, 38089, 23015, 37931, 34283, 18880, 79050, 50593, 12774, 17956, 48866, 60334, 40925, 95865, 26968, 46926, 37409, 81936, 13851, 93248, 57424, 81465, 13039, 17586, 49313, 35899, 50585, 94135, 79134, 84165, 76871, 99649, 32560, 93005, 64700, 45615, 59191, 63124, 90659, 84133, 85061, 79912, 50348, 84135, 90343, 25762, 17321, 48752, 37909, 57545, 59948, 52327, 73269, 84848, 17622, 18808, 75195, 24175, 85383, 84713, 43211, 81569, 26249, 77617, 28614, 85616, 82240, 65243, 29999, 22830, 20292, 66699, 17373, 15772, 62559, 38492, 54494, 30079, 12683, 43924, 46243, 84379, 29496, 46475, 78231, 15569, 36627, 95792]\n"
          ],
          "name": "stdout"
        }
      ]
    },
    {
      "cell_type": "code",
      "metadata": {
        "id": "ko7a_zLGOFNr"
      },
      "source": [
        "df_random_income = pd.DataFrame(randomlist_2,columns=['Income']) # As long as this goes through, you can then join no data cleansing needed"
      ],
      "execution_count": 19,
      "outputs": []
    },
    {
      "cell_type": "code",
      "metadata": {
        "colab": {
          "base_uri": "https://localhost:8080/",
          "height": 266
        },
        "id": "yPJHQbVQOFNr",
        "outputId": "0cfb6cff-4634-499b-d275-02c65748362d"
      },
      "source": [
        "columns_7_df=columns_6_df.join(df_random_income ) \n",
        "\n",
        "columns_7_df"
      ],
      "execution_count": 20,
      "outputs": [
        {
          "output_type": "execute_result",
          "data": {
            "text/html": [
              "<div>\n",
              "<style scoped>\n",
              "    .dataframe tbody tr th:only-of-type {\n",
              "        vertical-align: middle;\n",
              "    }\n",
              "\n",
              "    .dataframe tbody tr th {\n",
              "        vertical-align: top;\n",
              "    }\n",
              "\n",
              "    .dataframe thead th {\n",
              "        text-align: right;\n",
              "    }\n",
              "</style>\n",
              "<table border=\"1\" class=\"dataframe\">\n",
              "  <thead>\n",
              "    <tr style=\"text-align: right;\">\n",
              "      <th></th>\n",
              "      <th>Year Born</th>\n",
              "      <th>Number of Kids</th>\n",
              "      <th>Addresses</th>\n",
              "      <th>Name</th>\n",
              "      <th>Phone Numbers</th>\n",
              "      <th>Rent or Own</th>\n",
              "      <th>Income</th>\n",
              "    </tr>\n",
              "  </thead>\n",
              "  <tbody>\n",
              "    <tr>\n",
              "      <th>0</th>\n",
              "      <td>1942</td>\n",
              "      <td>1</td>\n",
              "      <td>777 Brockton Avenue, Abington MA 2351</td>\n",
              "      <td>Christopher</td>\n",
              "      <td>6703346809</td>\n",
              "      <td>Rent</td>\n",
              "      <td>70973</td>\n",
              "    </tr>\n",
              "    <tr>\n",
              "      <th>1</th>\n",
              "      <td>1976</td>\n",
              "      <td>0</td>\n",
              "      <td>30 Memorial Drive, Avon MA 2322</td>\n",
              "      <td>Rose</td>\n",
              "      <td>4501005561</td>\n",
              "      <td>Rent</td>\n",
              "      <td>50850</td>\n",
              "    </tr>\n",
              "    <tr>\n",
              "      <th>...</th>\n",
              "      <td>...</td>\n",
              "      <td>...</td>\n",
              "      <td>...</td>\n",
              "      <td>...</td>\n",
              "      <td>...</td>\n",
              "      <td>...</td>\n",
              "      <td>...</td>\n",
              "    </tr>\n",
              "    <tr>\n",
              "      <th>98</th>\n",
              "      <td>1981</td>\n",
              "      <td>4</td>\n",
              "      <td>4765 Commercial Drive, New Hartford NY 13413</td>\n",
              "      <td>Amanda</td>\n",
              "      <td>8186854003</td>\n",
              "      <td>Own</td>\n",
              "      <td>36627</td>\n",
              "    </tr>\n",
              "    <tr>\n",
              "      <th>99</th>\n",
              "      <td>1999</td>\n",
              "      <td>3</td>\n",
              "      <td>1201 Rt 300, Newburgh NY 12550</td>\n",
              "      <td>Larry</td>\n",
              "      <td>7435664895</td>\n",
              "      <td>Own</td>\n",
              "      <td>95792</td>\n",
              "    </tr>\n",
              "  </tbody>\n",
              "</table>\n",
              "<p>100 rows × 7 columns</p>\n",
              "</div>"
            ],
            "text/plain": [
              "    Year Born  Number of Kids  ... Rent or Own Income\n",
              "0        1942               1  ...        Rent  70973\n",
              "1        1976               0  ...        Rent  50850\n",
              "..        ...             ...  ...         ...    ...\n",
              "98       1981               4  ...         Own  36627\n",
              "99       1999               3  ...         Own  95792\n",
              "\n",
              "[100 rows x 7 columns]"
            ]
          },
          "metadata": {
            "tags": []
          },
          "execution_count": 20
        }
      ]
    },
    {
      "cell_type": "code",
      "metadata": {
        "colab": {
          "base_uri": "https://localhost:8080/"
        },
        "id": "pvqAYQ5JOFNr",
        "outputId": "1625df3e-ea36-4718-bb95-01b690f845d2"
      },
      "source": [
        "import numpy as np\n",
        "items = [0,1,2,3,4,5]\n",
        "\n",
        "distribution = [.50,.2,.1,.1,.05,.05] # Played around with the distribution,have no idea what the actual distributon is for speeding tickets  \n",
        "num_samples = 2                            \n",
        "samples_2 = np.random.choice(items, 100, True, distribution)\n",
        "\n",
        "print(samples_2)"
      ],
      "execution_count": 21,
      "outputs": [
        {
          "output_type": "stream",
          "text": [
            "[0 0 0 2 0 0 5 2 0 1 3 0 2 1 0 3 0 2 0 0 1 0 3 0 0 2 0 2 2 0 1 0 0 0 2 2 0\n",
            " 0 0 0 2 1 0 0 0 0 1 1 0 0 0 1 0 2 0 0 1 0 0 0 1 0 0 1 5 3 4 0 0 0 4 0 1 4\n",
            " 0 1 0 3 0 0 0 3 0 2 0 0 0 0 0 0 0 0 5 0 3 1 0 3 3 0]\n"
          ],
          "name": "stdout"
        }
      ]
    },
    {
      "cell_type": "code",
      "metadata": {
        "id": "-qhqn9I_OFNr"
      },
      "source": [
        "df_random_speeding = pd.DataFrame(samples_2,columns=['Speeding Tickets'])"
      ],
      "execution_count": 22,
      "outputs": []
    },
    {
      "cell_type": "code",
      "metadata": {
        "colab": {
          "base_uri": "https://localhost:8080/",
          "height": 283
        },
        "id": "PUusB3zQOFNr",
        "outputId": "da606f29-e630-4255-c179-8a6180cece21"
      },
      "source": [
        "columns_8_df=columns_7_df.join(df_random_speeding ) # List looks clean will join \n",
        "\n",
        "columns_8_df"
      ],
      "execution_count": 23,
      "outputs": [
        {
          "output_type": "execute_result",
          "data": {
            "text/html": [
              "<div>\n",
              "<style scoped>\n",
              "    .dataframe tbody tr th:only-of-type {\n",
              "        vertical-align: middle;\n",
              "    }\n",
              "\n",
              "    .dataframe tbody tr th {\n",
              "        vertical-align: top;\n",
              "    }\n",
              "\n",
              "    .dataframe thead th {\n",
              "        text-align: right;\n",
              "    }\n",
              "</style>\n",
              "<table border=\"1\" class=\"dataframe\">\n",
              "  <thead>\n",
              "    <tr style=\"text-align: right;\">\n",
              "      <th></th>\n",
              "      <th>Year Born</th>\n",
              "      <th>Number of Kids</th>\n",
              "      <th>Addresses</th>\n",
              "      <th>Name</th>\n",
              "      <th>Phone Numbers</th>\n",
              "      <th>Rent or Own</th>\n",
              "      <th>Income</th>\n",
              "      <th>Speeding Tickets</th>\n",
              "    </tr>\n",
              "  </thead>\n",
              "  <tbody>\n",
              "    <tr>\n",
              "      <th>0</th>\n",
              "      <td>1942</td>\n",
              "      <td>1</td>\n",
              "      <td>777 Brockton Avenue, Abington MA 2351</td>\n",
              "      <td>Christopher</td>\n",
              "      <td>6703346809</td>\n",
              "      <td>Rent</td>\n",
              "      <td>70973</td>\n",
              "      <td>0</td>\n",
              "    </tr>\n",
              "    <tr>\n",
              "      <th>1</th>\n",
              "      <td>1976</td>\n",
              "      <td>0</td>\n",
              "      <td>30 Memorial Drive, Avon MA 2322</td>\n",
              "      <td>Rose</td>\n",
              "      <td>4501005561</td>\n",
              "      <td>Rent</td>\n",
              "      <td>50850</td>\n",
              "      <td>0</td>\n",
              "    </tr>\n",
              "    <tr>\n",
              "      <th>...</th>\n",
              "      <td>...</td>\n",
              "      <td>...</td>\n",
              "      <td>...</td>\n",
              "      <td>...</td>\n",
              "      <td>...</td>\n",
              "      <td>...</td>\n",
              "      <td>...</td>\n",
              "      <td>...</td>\n",
              "    </tr>\n",
              "    <tr>\n",
              "      <th>98</th>\n",
              "      <td>1981</td>\n",
              "      <td>4</td>\n",
              "      <td>4765 Commercial Drive, New Hartford NY 13413</td>\n",
              "      <td>Amanda</td>\n",
              "      <td>8186854003</td>\n",
              "      <td>Own</td>\n",
              "      <td>36627</td>\n",
              "      <td>3</td>\n",
              "    </tr>\n",
              "    <tr>\n",
              "      <th>99</th>\n",
              "      <td>1999</td>\n",
              "      <td>3</td>\n",
              "      <td>1201 Rt 300, Newburgh NY 12550</td>\n",
              "      <td>Larry</td>\n",
              "      <td>7435664895</td>\n",
              "      <td>Own</td>\n",
              "      <td>95792</td>\n",
              "      <td>0</td>\n",
              "    </tr>\n",
              "  </tbody>\n",
              "</table>\n",
              "<p>100 rows × 8 columns</p>\n",
              "</div>"
            ],
            "text/plain": [
              "    Year Born  Number of Kids  ... Income Speeding Tickets\n",
              "0        1942               1  ...  70973                0\n",
              "1        1976               0  ...  50850                0\n",
              "..        ...             ...  ...    ...              ...\n",
              "98       1981               4  ...  36627                3\n",
              "99       1999               3  ...  95792                0\n",
              "\n",
              "[100 rows x 8 columns]"
            ]
          },
          "metadata": {
            "tags": []
          },
          "execution_count": 23
        }
      ]
    },
    {
      "cell_type": "code",
      "metadata": {
        "colab": {
          "base_uri": "https://localhost:8080/"
        },
        "id": "UNUXfh_UOFNr",
        "outputId": "de982cb0-4706-4bc6-a86f-628a7996f7f5"
      },
      "source": [
        "def random_char(y):    # https://stackoverflow.com/questions/59231343/how-to-make-random-email-generator\n",
        "       return ''.join(random.choice(string.ascii_letters) for x in range(y))\n",
        "\n",
        "randomlist_email = []  # The link was very helpful, it looks you generate a function add to a gmail and get a \"random\" email\n",
        "for i in range(0,100): # I needed to loop hundred to get hundred though, then append from a empty list \n",
        "    n = random_char(7)+\"@gmail.com\"\n",
        "    randomlist_email.append(n)\n",
        "print(randomlist_email[90:]) # Truncate for space "
      ],
      "execution_count": 24,
      "outputs": [
        {
          "output_type": "stream",
          "text": [
            "['SStGFEX@gmail.com', 'Ntsmjgb@gmail.com', 'KILrfnd@gmail.com', 'uOIamAz@gmail.com', 'LabaJyw@gmail.com', 'OLJEqsu@gmail.com', 'JFHdEYD@gmail.com', 'XWlAkRm@gmail.com', 'QqaHewm@gmail.com', 'oghkVBa@gmail.com']\n"
          ],
          "name": "stdout"
        }
      ]
    },
    {
      "cell_type": "code",
      "metadata": {
        "id": "pZ_K8L64OFNs"
      },
      "source": [
        "df_random_email = pd.DataFrame(randomlist_email,columns=['Emails'])"
      ],
      "execution_count": 25,
      "outputs": []
    },
    {
      "cell_type": "code",
      "metadata": {
        "colab": {
          "base_uri": "https://localhost:8080/",
          "height": 335
        },
        "id": "lmb31lBvOFNs",
        "outputId": "061719b0-fba8-493e-8ca6-020aed48c9a7"
      },
      "source": [
        "columns_9_df=columns_8_df.join(df_random_email) # Data is clean join \n",
        "columns_9_df"
      ],
      "execution_count": 26,
      "outputs": [
        {
          "output_type": "execute_result",
          "data": {
            "text/html": [
              "<div>\n",
              "<style scoped>\n",
              "    .dataframe tbody tr th:only-of-type {\n",
              "        vertical-align: middle;\n",
              "    }\n",
              "\n",
              "    .dataframe tbody tr th {\n",
              "        vertical-align: top;\n",
              "    }\n",
              "\n",
              "    .dataframe thead th {\n",
              "        text-align: right;\n",
              "    }\n",
              "</style>\n",
              "<table border=\"1\" class=\"dataframe\">\n",
              "  <thead>\n",
              "    <tr style=\"text-align: right;\">\n",
              "      <th></th>\n",
              "      <th>Year Born</th>\n",
              "      <th>Number of Kids</th>\n",
              "      <th>Addresses</th>\n",
              "      <th>Name</th>\n",
              "      <th>Phone Numbers</th>\n",
              "      <th>Rent or Own</th>\n",
              "      <th>Income</th>\n",
              "      <th>Speeding Tickets</th>\n",
              "      <th>Emails</th>\n",
              "    </tr>\n",
              "  </thead>\n",
              "  <tbody>\n",
              "    <tr>\n",
              "      <th>0</th>\n",
              "      <td>1942</td>\n",
              "      <td>1</td>\n",
              "      <td>777 Brockton Avenue, Abington MA 2351</td>\n",
              "      <td>Christopher</td>\n",
              "      <td>6703346809</td>\n",
              "      <td>Rent</td>\n",
              "      <td>70973</td>\n",
              "      <td>0</td>\n",
              "      <td>WbksHVH@gmail.com</td>\n",
              "    </tr>\n",
              "    <tr>\n",
              "      <th>1</th>\n",
              "      <td>1976</td>\n",
              "      <td>0</td>\n",
              "      <td>30 Memorial Drive, Avon MA 2322</td>\n",
              "      <td>Rose</td>\n",
              "      <td>4501005561</td>\n",
              "      <td>Rent</td>\n",
              "      <td>50850</td>\n",
              "      <td>0</td>\n",
              "      <td>zNuWJtY@gmail.com</td>\n",
              "    </tr>\n",
              "    <tr>\n",
              "      <th>...</th>\n",
              "      <td>...</td>\n",
              "      <td>...</td>\n",
              "      <td>...</td>\n",
              "      <td>...</td>\n",
              "      <td>...</td>\n",
              "      <td>...</td>\n",
              "      <td>...</td>\n",
              "      <td>...</td>\n",
              "      <td>...</td>\n",
              "    </tr>\n",
              "    <tr>\n",
              "      <th>98</th>\n",
              "      <td>1981</td>\n",
              "      <td>4</td>\n",
              "      <td>4765 Commercial Drive, New Hartford NY 13413</td>\n",
              "      <td>Amanda</td>\n",
              "      <td>8186854003</td>\n",
              "      <td>Own</td>\n",
              "      <td>36627</td>\n",
              "      <td>3</td>\n",
              "      <td>QqaHewm@gmail.com</td>\n",
              "    </tr>\n",
              "    <tr>\n",
              "      <th>99</th>\n",
              "      <td>1999</td>\n",
              "      <td>3</td>\n",
              "      <td>1201 Rt 300, Newburgh NY 12550</td>\n",
              "      <td>Larry</td>\n",
              "      <td>7435664895</td>\n",
              "      <td>Own</td>\n",
              "      <td>95792</td>\n",
              "      <td>0</td>\n",
              "      <td>oghkVBa@gmail.com</td>\n",
              "    </tr>\n",
              "  </tbody>\n",
              "</table>\n",
              "<p>100 rows × 9 columns</p>\n",
              "</div>"
            ],
            "text/plain": [
              "    Year Born  Number of Kids  ... Speeding Tickets             Emails\n",
              "0        1942               1  ...                0  WbksHVH@gmail.com\n",
              "1        1976               0  ...                0  zNuWJtY@gmail.com\n",
              "..        ...             ...  ...              ...                ...\n",
              "98       1981               4  ...                3  QqaHewm@gmail.com\n",
              "99       1999               3  ...                0  oghkVBa@gmail.com\n",
              "\n",
              "[100 rows x 9 columns]"
            ]
          },
          "metadata": {
            "tags": []
          },
          "execution_count": 26
        }
      ]
    },
    {
      "cell_type": "code",
      "metadata": {
        "id": "V2Z1bolwOFNs"
      },
      "source": [
        "columns_9_df.to_csv(r'Fake Data Generator') # This csv will show up on your downloads, if you want to look at without csv use pd.set_option(\"max_rows\", 100) on the first cell "
      ],
      "execution_count": 27,
      "outputs": []
    }
  ]
}